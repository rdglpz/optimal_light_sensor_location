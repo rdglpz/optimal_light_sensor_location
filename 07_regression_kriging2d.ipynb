{
 "cells": [
  {
   "cell_type": "code",
   "execution_count": 1,
   "metadata": {
    "collapsed": false,
    "jupyter": {
     "outputs_hidden": false
    }
   },
   "outputs": [],
   "source": [
    "%matplotlib inline"
   ]
  },
  {
   "cell_type": "markdown",
   "metadata": {},
   "source": [
    "\n",
    "# Regression kriging\n",
    "\n",
    "An example of regression kriging\n"
   ]
  },
  {
   "cell_type": "code",
   "execution_count": 2,
   "metadata": {
    "collapsed": false,
    "jupyter": {
     "outputs_hidden": false
    }
   },
   "outputs": [],
   "source": [
    "import sys\n",
    "\n",
    "from sklearn.svm import SVR\n",
    "from sklearn.ensemble import RandomForestRegressor\n",
    "from sklearn.linear_model import LinearRegression\n",
    "from sklearn.datasets import fetch_california_housing\n",
    "from sklearn.model_selection import train_test_split\n",
    "\n",
    "from pykrige.rk import RegressionKriging\n",
    "\n"
   ]
  },
  {
   "cell_type": "code",
   "execution_count": null,
   "metadata": {},
   "outputs": [],
   "source": []
  },
  {
   "cell_type": "code",
   "execution_count": 3,
   "metadata": {},
   "outputs": [
    {
     "name": "stdout",
     "output_type": "stream",
     "text": [
      "========================================\n",
      "regression model: SVR\n",
      "Finished learning regression model\n",
      "Finished kriging residuals\n",
      "Regression Score:  -0.03405385545698292\n",
      "RK score:  0.6654647793667021\n",
      "========================================\n",
      "regression model: RandomForestRegressor\n",
      "Finished learning regression model\n",
      "Finished kriging residuals\n",
      "Regression Score:  0.7017077281930337\n",
      "RK score:  0.7373072734705791\n",
      "========================================\n",
      "regression model: LinearRegression\n",
      "Finished learning regression model\n",
      "Finished kriging residuals\n",
      "Regression Score:  0.5277968398381674\n",
      "RK score:  0.6019585173821766\n"
     ]
    }
   ],
   "source": [
    "svr_model = SVR(C=0.1, gamma=\"auto\")\n",
    "rf_model = RandomForestRegressor(n_estimators=100)\n",
    "lr_model = LinearRegression(normalize=True, copy_X=True, fit_intercept=False)\n",
    "\n",
    "models = [svr_model, rf_model, lr_model]\n",
    "\n",
    "try:\n",
    "    housing = fetch_california_housing()\n",
    "except PermissionError:\n",
    "    # this dataset can occasionally fail to download on Windows\n",
    "    sys.exit(0)\n",
    "\n",
    "# take the first 5000 as Kriging is memory intensive\n",
    "p = housing[\"data\"][:5000, :-2]\n",
    "x = housing[\"data\"][:5000, -2:]\n",
    "target = housing[\"target\"][:5000]\n",
    "\n",
    "p_train, p_test, x_train, x_test, target_train, target_test = train_test_split(\n",
    "    p, x, target, test_size=0.3, random_state=42\n",
    ")\n",
    "\n",
    "for m in models:\n",
    "    print(\"=\" * 40)\n",
    "    print(\"regression model:\", m.__class__.__name__)\n",
    "    m_rk = RegressionKriging(regression_model=m, n_closest_points=10)\n",
    "    m_rk.fit(p_train, x_train, target_train)\n",
    "    print(\"Regression Score: \", m_rk.regression_model.score(p_test, target_test))\n",
    "    print(\"RK score: \", m_rk.score(p_test, x_test, target_test))"
   ]
  },
  {
   "cell_type": "code",
   "execution_count": 8,
   "metadata": {},
   "outputs": [],
   "source": [
    "a= 1"
   ]
  },
  {
   "cell_type": "code",
   "execution_count": 10,
   "metadata": {},
   "outputs": [
    {
     "data": {
      "text/plain": [
       "array([[4.66020000e+00, 2.20000000e+01, 5.76712329e+00, 9.69863014e-01,\n",
       "        9.93000000e+02, 2.72054795e+00],\n",
       "       [2.21880000e+00, 5.00000000e+01, 4.92513369e+00, 1.00000000e+00,\n",
       "        4.20000000e+02, 2.24598930e+00],\n",
       "       [2.35710000e+00, 5.20000000e+01, 6.00813008e+00, 1.06775068e+00,\n",
       "        9.07000000e+02, 2.45799458e+00],\n",
       "       ...,\n",
       "       [2.39460000e+00, 3.50000000e+01, 3.63696370e+00, 1.01650165e+00,\n",
       "        6.88000000e+02, 2.27062706e+00],\n",
       "       [2.59000000e+00, 2.10000000e+01, 5.84076433e+00, 1.02229299e+00,\n",
       "        1.12000000e+03, 3.56687898e+00],\n",
       "       [4.97500000e+00, 1.60000000e+01, 5.62692308e+01, 1.01538462e+01,\n",
       "        5.40000000e+01, 2.07692308e+00]])"
      ]
     },
     "execution_count": 10,
     "metadata": {},
     "output_type": "execute_result"
    }
   ],
   "source": [
    "p_test"
   ]
  },
  {
   "cell_type": "code",
   "execution_count": 4,
   "metadata": {},
   "outputs": [
    {
     "data": {
      "text/plain": [
       "{'data': array([[   8.3252    ,   41.        ,    6.98412698, ...,    2.55555556,\n",
       "           37.88      , -122.23      ],\n",
       "        [   8.3014    ,   21.        ,    6.23813708, ...,    2.10984183,\n",
       "           37.86      , -122.22      ],\n",
       "        [   7.2574    ,   52.        ,    8.28813559, ...,    2.80225989,\n",
       "           37.85      , -122.24      ],\n",
       "        ...,\n",
       "        [   1.7       ,   17.        ,    5.20554273, ...,    2.3256351 ,\n",
       "           39.43      , -121.22      ],\n",
       "        [   1.8672    ,   18.        ,    5.32951289, ...,    2.12320917,\n",
       "           39.43      , -121.32      ],\n",
       "        [   2.3886    ,   16.        ,    5.25471698, ...,    2.61698113,\n",
       "           39.37      , -121.24      ]]),\n",
       " 'target': array([4.526, 3.585, 3.521, ..., 0.923, 0.847, 0.894]),\n",
       " 'frame': None,\n",
       " 'target_names': ['MedHouseVal'],\n",
       " 'feature_names': ['MedInc',\n",
       "  'HouseAge',\n",
       "  'AveRooms',\n",
       "  'AveBedrms',\n",
       "  'Population',\n",
       "  'AveOccup',\n",
       "  'Latitude',\n",
       "  'Longitude'],\n",
       " 'DESCR': '.. _california_housing_dataset:\\n\\nCalifornia Housing dataset\\n--------------------------\\n\\n**Data Set Characteristics:**\\n\\n    :Number of Instances: 20640\\n\\n    :Number of Attributes: 8 numeric, predictive attributes and the target\\n\\n    :Attribute Information:\\n        - MedInc        median income in block\\n        - HouseAge      median house age in block\\n        - AveRooms      average number of rooms\\n        - AveBedrms     average number of bedrooms\\n        - Population    block population\\n        - AveOccup      average house occupancy\\n        - Latitude      house block latitude\\n        - Longitude     house block longitude\\n\\n    :Missing Attribute Values: None\\n\\nThis dataset was obtained from the StatLib repository.\\nhttp://lib.stat.cmu.edu/datasets/\\n\\nThe target variable is the median house value for California districts.\\n\\nThis dataset was derived from the 1990 U.S. census, using one row per census\\nblock group. A block group is the smallest geographical unit for which the U.S.\\nCensus Bureau publishes sample data (a block group typically has a population\\nof 600 to 3,000 people).\\n\\nIt can be downloaded/loaded using the\\n:func:`sklearn.datasets.fetch_california_housing` function.\\n\\n.. topic:: References\\n\\n    - Pace, R. Kelley and Ronald Barry, Sparse Spatial Autoregressions,\\n      Statistics and Probability Letters, 33 (1997) 291-297\\n'}"
      ]
     },
     "execution_count": 4,
     "metadata": {},
     "output_type": "execute_result"
    }
   ],
   "source": [
    "housing"
   ]
  },
  {
   "cell_type": "code",
   "execution_count": 6,
   "metadata": {},
   "outputs": [
    {
     "data": {
      "text/plain": [
       "array([[  37.88, -122.23],\n",
       "       [  37.86, -122.22],\n",
       "       [  37.85, -122.24],\n",
       "       ...,\n",
       "       [  33.99, -118.28],\n",
       "       [  33.99, -118.29],\n",
       "       [  33.99, -118.28]])"
      ]
     },
     "execution_count": 6,
     "metadata": {},
     "output_type": "execute_result"
    }
   ],
   "source": [
    "x"
   ]
  },
  {
   "cell_type": "code",
   "execution_count": null,
   "metadata": {},
   "outputs": [],
   "source": []
  }
 ],
 "metadata": {
  "kernelspec": {
   "display_name": "Python 3",
   "language": "python",
   "name": "python3"
  },
  "language_info": {
   "codemirror_mode": {
    "name": "ipython",
    "version": 3
   },
   "file_extension": ".py",
   "mimetype": "text/x-python",
   "name": "python",
   "nbconvert_exporter": "python",
   "pygments_lexer": "ipython3",
   "version": "3.7.0"
  }
 },
 "nbformat": 4,
 "nbformat_minor": 4
}
