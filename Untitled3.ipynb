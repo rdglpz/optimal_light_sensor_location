{
 "cells": [
  {
   "cell_type": "code",
   "execution_count": 1,
   "id": "a8ce7dcb-7114-4926-9626-6487232c3dc4",
   "metadata": {},
   "outputs": [],
   "source": [
    "import numpy as np\n",
    "\n"
   ]
  },
  {
   "cell_type": "code",
   "execution_count": 4,
   "id": "5ecb797e-8a09-491f-9d8e-6bc7e7cf3860",
   "metadata": {},
   "outputs": [],
   "source": [
    "s = list([])\n",
    "\n",
    "s.append(\"asdf\")"
   ]
  },
  {
   "cell_type": "code",
   "execution_count": 5,
   "id": "40787685-b94d-43a0-a1bc-5463c69757b9",
   "metadata": {},
   "outputs": [
    {
     "data": {
      "text/plain": [
       "['asdf']"
      ]
     },
     "execution_count": 5,
     "metadata": {},
     "output_type": "execute_result"
    }
   ],
   "source": [
    "s"
   ]
  },
  {
   "cell_type": "code",
   "execution_count": 6,
   "id": "b3a90a7e-036d-4b0f-a4c0-11fe0325fad9",
   "metadata": {},
   "outputs": [],
   "source": [
    "s.append(\"ggg\")"
   ]
  },
  {
   "cell_type": "code",
   "execution_count": 7,
   "id": "4fcafbc9-dd57-4f03-b1df-72cbbc1c9ea6",
   "metadata": {},
   "outputs": [
    {
     "data": {
      "text/plain": [
       "['asdf', 'ggg']"
      ]
     },
     "execution_count": 7,
     "metadata": {},
     "output_type": "execute_result"
    }
   ],
   "source": [
    "s"
   ]
  },
  {
   "cell_type": "code",
   "execution_count": null,
   "id": "052ba77b-28cc-4e93-910b-e0a9ed49e194",
   "metadata": {},
   "outputs": [],
   "source": []
  }
 ],
 "metadata": {
  "kernelspec": {
   "display_name": "Python 3",
   "language": "python",
   "name": "python3"
  },
  "language_info": {
   "codemirror_mode": {
    "name": "ipython",
    "version": 3
   },
   "file_extension": ".py",
   "mimetype": "text/x-python",
   "name": "python",
   "nbconvert_exporter": "python",
   "pygments_lexer": "ipython3",
   "version": "3.8.13"
  }
 },
 "nbformat": 4,
 "nbformat_minor": 5
}
