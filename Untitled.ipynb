{
 "cells": [
  {
   "cell_type": "code",
   "execution_count": 3,
   "id": "f5241c96-980d-4913-95f1-b74544c0c77b",
   "metadata": {},
   "outputs": [],
   "source": [
    "import skgstat as skg\n",
    "import numpy as np"
   ]
  },
  {
   "cell_type": "code",
   "execution_count": 6,
   "id": "71e199bb-629d-4b75-b73e-8cd94a88b12d",
   "metadata": {},
   "outputs": [
    {
     "data": {
      "text/plain": [
       "<module 'skgstat.models' from '/Users/rodrigo/opt/anaconda3/envs/machineLearning/lib/python3.7/site-packages/skgstat/models.py'>"
      ]
     },
     "execution_count": 6,
     "metadata": {},
     "output_type": "execute_result"
    }
   ],
   "source": [
    "skg.models"
   ]
  },
  {
   "cell_type": "code",
   "execution_count": null,
   "id": "03c59dc5-d886-4189-9a86-596ee854f377",
   "metadata": {},
   "outputs": [],
   "source": []
  }
 ],
 "metadata": {
  "kernelspec": {
   "display_name": "Python 3",
   "language": "python",
   "name": "python3"
  },
  "language_info": {
   "codemirror_mode": {
    "name": "ipython",
    "version": 3
   },
   "file_extension": ".py",
   "mimetype": "text/x-python",
   "name": "python",
   "nbconvert_exporter": "python",
   "pygments_lexer": "ipython3",
   "version": "3.7.0"
  }
 },
 "nbformat": 4,
 "nbformat_minor": 5
}
