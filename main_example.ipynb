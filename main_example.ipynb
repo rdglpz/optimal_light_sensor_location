{
 "cells": [
  {
   "cell_type": "code",
   "execution_count": 1,
   "id": "bdeb3b94-4ce0-4626-99c3-765812722a80",
   "metadata": {},
   "outputs": [],
   "source": [
    "#Cargando librerías \n",
    "import importlib\n",
    "\n",
    "import matplotlib.pyplot as plt\n",
    "import scipy as sp\n",
    "import numpy as np\n",
    "import pandas as pd\n",
    "\n",
    "import positioning_sensors as ps\n",
    "importlib.reload(ps)\n",
    "\n",
    "import network_fitness as netfit\n",
    "importlib.reload(netfit)\n",
    "\n",
    "from geneticalgorithm import geneticalgorithm as ga\n",
    "\n",
    "plt.style.use(\"ggplot\")"
   ]
  },
  {
   "cell_type": "code",
   "execution_count": null,
   "id": "45efdb81-47d4-47a8-8e40-b78e077694dc",
   "metadata": {},
   "outputs": [],
   "source": []
  },
  {
   "cell_type": "code",
   "execution_count": 2,
   "id": "9828b37f-3af4-4ee7-bfac-fa3eb2ea38bc",
   "metadata": {},
   "outputs": [
    {
     "name": "stdout",
     "output_type": "stream",
     "text": [
      " W = i*a^(p)\n",
      "Selct cost functions: \n",
      " 'xor','max' or 'cover'\n"
     ]
    },
    {
     "data": {
      "text/plain": [
       "<matplotlib.image.AxesImage at 0x7f901f5a2320>"
      ]
     },
     "execution_count": 2,
     "metadata": {},
     "output_type": "execute_result"
    },
    {
     "data": {
      "image/png": "[encoded data removed]",
      "text/plain": [
       "<Figure size 432x288 with 1 Axes>"
      ]
     },
     "metadata": {},
     "output_type": "display_data"
    }
   ],
   "source": [
    "#cargamos imagenes en luminance e importance\n",
    "ilumina = 'example/inputs/qro_light_th'\n",
    "niveles = 'example/inputs/prioridades'\n",
    "sigma_y = 0.5\n",
    "sigma_x = 0.5\n",
    "sigma = [sigma_y,sigma_x]\n",
    "\n",
    "#Loading precalculated local and directed empirical variograms\n",
    "data = pd.read_csv(\"th100_atol_15_dirdelta_1.csv\")\n",
    "variogram_set = np.array(data.iloc[:,3:])\n",
    "\n",
    "\n",
    "#NLTI: luminance\n",
    "luminance = ps.readIMG(ilumina)\n",
    "\n",
    "#EAM: Environtmental attention map is the importance\n",
    "EAM = ps.readIMG(niveles,invert=True)\n",
    "\n",
    "#EAM2= np.zeros(np.shape(EAM))\n",
    "\n",
    "#EAM2 = EAM\n",
    "\n",
    "#EAM2[EAM2==4]=20\n",
    "\n",
    "\n",
    "\n",
    "#EAM = EAM2\n",
    "\n",
    "\n",
    "#EAM[37][23]+=1\n",
    "\n",
    "nonsat = ps.desaturate(luminance,th=62)\n",
    "\n",
    "\n",
    "variograms = variogram_set.reshape(len(variogram_set),nonsat.shape[0],nonsat.shape[1])\n",
    "coords = np.array(data.iloc[:,1:3])\n",
    "\n",
    "\n",
    "NLTI = sp.ndimage.filters.gaussian_filter(nonsat, sigma, mode='constant')\n",
    "sensitivity = ps.f5(NLTI,EAM,65)\n",
    "\n",
    "\n",
    "aptitude = netfit.NetworkFitness(NLTI,EAM,sensitivity,variograms,coords)\n",
    "\n",
    "\n",
    "aptitude.selectFitnessFunction(\"max\")\n",
    "f = aptitude.f\n",
    "\n",
    "X = np.array([37,23])\n",
    "f(X)\n",
    "\n",
    "plt.imshow(sensitivity)"
   ]
  },
  {
   "cell_type": "code",
   "execution_count": 10,
   "id": "68e8b32d-b43a-4898-bdd4-d80d7516693b",
   "metadata": {},
   "outputs": [],
   "source": [
    "variograms = variogram_set.reshape(len(variogram_set),nonsat.shape[0],nonsat.shape[1])"
   ]
  },
  {
   "cell_type": "code",
   "execution_count": 18,
   "id": "277e523c-1187-4642-8c9b-4ac0a725f501",
   "metadata": {},
   "outputs": [
    {
     "data": {
      "text/html": [
       "<div>\n",
       "<style scoped>\n",
       "    .dataframe tbody tr th:only-of-type {\n",
       "        vertical-align: middle;\n",
       "    }\n",
       "\n",
       "    .dataframe tbody tr th {\n",
       "        vertical-align: top;\n",
       "    }\n",
       "\n",
       "    .dataframe thead th {\n",
       "        text-align: right;\n",
       "    }\n",
       "</style>\n",
       "<table border=\"1\" class=\"dataframe\">\n",
       "  <thead>\n",
       "    <tr style=\"text-align: right;\">\n",
       "      <th></th>\n",
       "      <th>Unnamed: 0</th>\n",
       "      <th>coordsy</th>\n",
       "      <th>coordsx</th>\n",
       "      <th>0</th>\n",
       "      <th>1</th>\n",
       "      <th>2</th>\n",
       "      <th>3</th>\n",
       "      <th>4</th>\n",
       "      <th>5</th>\n",
       "      <th>6</th>\n",
       "      <th>...</th>\n",
       "      <th>3110</th>\n",
       "      <th>3111</th>\n",
       "      <th>3112</th>\n",
       "      <th>3113</th>\n",
       "      <th>3114</th>\n",
       "      <th>3115</th>\n",
       "      <th>3116</th>\n",
       "      <th>3117</th>\n",
       "      <th>3118</th>\n",
       "      <th>3119</th>\n",
       "    </tr>\n",
       "  </thead>\n",
       "  <tbody>\n",
       "    <tr>\n",
       "      <th>0</th>\n",
       "      <td>0</td>\n",
       "      <td>0</td>\n",
       "      <td>16</td>\n",
       "      <td>0.0</td>\n",
       "      <td>0.0</td>\n",
       "      <td>0.0</td>\n",
       "      <td>0.0</td>\n",
       "      <td>0.0</td>\n",
       "      <td>0.0</td>\n",
       "      <td>0.0</td>\n",
       "      <td>...</td>\n",
       "      <td>0.0</td>\n",
       "      <td>0.0</td>\n",
       "      <td>0.0</td>\n",
       "      <td>0.0</td>\n",
       "      <td>0.0</td>\n",
       "      <td>0.0</td>\n",
       "      <td>0.0</td>\n",
       "      <td>0.0</td>\n",
       "      <td>0.0</td>\n",
       "      <td>0.0</td>\n",
       "    </tr>\n",
       "    <tr>\n",
       "      <th>1</th>\n",
       "      <td>1</td>\n",
       "      <td>0</td>\n",
       "      <td>17</td>\n",
       "      <td>0.0</td>\n",
       "      <td>0.0</td>\n",
       "      <td>0.0</td>\n",
       "      <td>0.0</td>\n",
       "      <td>0.0</td>\n",
       "      <td>0.0</td>\n",
       "      <td>0.0</td>\n",
       "      <td>...</td>\n",
       "      <td>0.0</td>\n",
       "      <td>0.0</td>\n",
       "      <td>0.0</td>\n",
       "      <td>0.0</td>\n",
       "      <td>0.0</td>\n",
       "      <td>0.0</td>\n",
       "      <td>0.0</td>\n",
       "      <td>0.0</td>\n",
       "      <td>0.0</td>\n",
       "      <td>0.0</td>\n",
       "    </tr>\n",
       "    <tr>\n",
       "      <th>2</th>\n",
       "      <td>2</td>\n",
       "      <td>0</td>\n",
       "      <td>18</td>\n",
       "      <td>0.0</td>\n",
       "      <td>0.0</td>\n",
       "      <td>0.0</td>\n",
       "      <td>0.0</td>\n",
       "      <td>0.0</td>\n",
       "      <td>0.0</td>\n",
       "      <td>0.0</td>\n",
       "      <td>...</td>\n",
       "      <td>0.0</td>\n",
       "      <td>0.0</td>\n",
       "      <td>0.0</td>\n",
       "      <td>0.0</td>\n",
       "      <td>0.0</td>\n",
       "      <td>0.0</td>\n",
       "      <td>0.0</td>\n",
       "      <td>0.0</td>\n",
       "      <td>0.0</td>\n",
       "      <td>0.0</td>\n",
       "    </tr>\n",
       "    <tr>\n",
       "      <th>3</th>\n",
       "      <td>3</td>\n",
       "      <td>0</td>\n",
       "      <td>19</td>\n",
       "      <td>0.0</td>\n",
       "      <td>0.0</td>\n",
       "      <td>0.0</td>\n",
       "      <td>0.0</td>\n",
       "      <td>0.0</td>\n",
       "      <td>0.0</td>\n",
       "      <td>0.0</td>\n",
       "      <td>...</td>\n",
       "      <td>0.0</td>\n",
       "      <td>0.0</td>\n",
       "      <td>0.0</td>\n",
       "      <td>0.0</td>\n",
       "      <td>0.0</td>\n",
       "      <td>0.0</td>\n",
       "      <td>0.0</td>\n",
       "      <td>0.0</td>\n",
       "      <td>0.0</td>\n",
       "      <td>0.0</td>\n",
       "    </tr>\n",
       "    <tr>\n",
       "      <th>4</th>\n",
       "      <td>4</td>\n",
       "      <td>0</td>\n",
       "      <td>20</td>\n",
       "      <td>0.0</td>\n",
       "      <td>0.0</td>\n",
       "      <td>0.0</td>\n",
       "      <td>0.0</td>\n",
       "      <td>0.0</td>\n",
       "      <td>0.0</td>\n",
       "      <td>0.0</td>\n",
       "      <td>...</td>\n",
       "      <td>0.0</td>\n",
       "      <td>0.0</td>\n",
       "      <td>0.0</td>\n",
       "      <td>0.0</td>\n",
       "      <td>0.0</td>\n",
       "      <td>0.0</td>\n",
       "      <td>0.0</td>\n",
       "      <td>0.0</td>\n",
       "      <td>0.0</td>\n",
       "      <td>0.0</td>\n",
       "    </tr>\n",
       "    <tr>\n",
       "      <th>...</th>\n",
       "      <td>...</td>\n",
       "      <td>...</td>\n",
       "      <td>...</td>\n",
       "      <td>...</td>\n",
       "      <td>...</td>\n",
       "      <td>...</td>\n",
       "      <td>...</td>\n",
       "      <td>...</td>\n",
       "      <td>...</td>\n",
       "      <td>...</td>\n",
       "      <td>...</td>\n",
       "      <td>...</td>\n",
       "      <td>...</td>\n",
       "      <td>...</td>\n",
       "      <td>...</td>\n",
       "      <td>...</td>\n",
       "      <td>...</td>\n",
       "      <td>...</td>\n",
       "      <td>...</td>\n",
       "      <td>...</td>\n",
       "      <td>...</td>\n",
       "    </tr>\n",
       "    <tr>\n",
       "      <th>1579</th>\n",
       "      <td>1579</td>\n",
       "      <td>58</td>\n",
       "      <td>34</td>\n",
       "      <td>0.0</td>\n",
       "      <td>0.0</td>\n",
       "      <td>0.0</td>\n",
       "      <td>0.0</td>\n",
       "      <td>0.0</td>\n",
       "      <td>0.0</td>\n",
       "      <td>0.0</td>\n",
       "      <td>...</td>\n",
       "      <td>0.0</td>\n",
       "      <td>0.0</td>\n",
       "      <td>0.0</td>\n",
       "      <td>0.0</td>\n",
       "      <td>0.0</td>\n",
       "      <td>0.0</td>\n",
       "      <td>0.0</td>\n",
       "      <td>0.0</td>\n",
       "      <td>0.0</td>\n",
       "      <td>0.0</td>\n",
       "    </tr>\n",
       "    <tr>\n",
       "      <th>1580</th>\n",
       "      <td>1580</td>\n",
       "      <td>58</td>\n",
       "      <td>35</td>\n",
       "      <td>0.0</td>\n",
       "      <td>0.0</td>\n",
       "      <td>0.0</td>\n",
       "      <td>0.0</td>\n",
       "      <td>0.0</td>\n",
       "      <td>0.0</td>\n",
       "      <td>0.0</td>\n",
       "      <td>...</td>\n",
       "      <td>0.0</td>\n",
       "      <td>0.0</td>\n",
       "      <td>0.0</td>\n",
       "      <td>0.0</td>\n",
       "      <td>0.0</td>\n",
       "      <td>0.0</td>\n",
       "      <td>0.0</td>\n",
       "      <td>0.0</td>\n",
       "      <td>0.0</td>\n",
       "      <td>0.0</td>\n",
       "    </tr>\n",
       "    <tr>\n",
       "      <th>1581</th>\n",
       "      <td>1581</td>\n",
       "      <td>58</td>\n",
       "      <td>36</td>\n",
       "      <td>0.0</td>\n",
       "      <td>0.0</td>\n",
       "      <td>0.0</td>\n",
       "      <td>0.0</td>\n",
       "      <td>0.0</td>\n",
       "      <td>0.0</td>\n",
       "      <td>0.0</td>\n",
       "      <td>...</td>\n",
       "      <td>0.0</td>\n",
       "      <td>0.0</td>\n",
       "      <td>0.0</td>\n",
       "      <td>0.0</td>\n",
       "      <td>0.0</td>\n",
       "      <td>0.0</td>\n",
       "      <td>0.0</td>\n",
       "      <td>0.0</td>\n",
       "      <td>0.0</td>\n",
       "      <td>0.0</td>\n",
       "    </tr>\n",
       "    <tr>\n",
       "      <th>1582</th>\n",
       "      <td>1582</td>\n",
       "      <td>58</td>\n",
       "      <td>37</td>\n",
       "      <td>0.0</td>\n",
       "      <td>0.0</td>\n",
       "      <td>0.0</td>\n",
       "      <td>0.0</td>\n",
       "      <td>0.0</td>\n",
       "      <td>0.0</td>\n",
       "      <td>0.0</td>\n",
       "      <td>...</td>\n",
       "      <td>0.0</td>\n",
       "      <td>0.0</td>\n",
       "      <td>0.0</td>\n",
       "      <td>0.0</td>\n",
       "      <td>0.0</td>\n",
       "      <td>0.0</td>\n",
       "      <td>0.0</td>\n",
       "      <td>0.0</td>\n",
       "      <td>0.0</td>\n",
       "      <td>0.0</td>\n",
       "    </tr>\n",
       "    <tr>\n",
       "      <th>1583</th>\n",
       "      <td>1583</td>\n",
       "      <td>58</td>\n",
       "      <td>38</td>\n",
       "      <td>0.0</td>\n",
       "      <td>0.0</td>\n",
       "      <td>0.0</td>\n",
       "      <td>0.0</td>\n",
       "      <td>0.0</td>\n",
       "      <td>0.0</td>\n",
       "      <td>0.0</td>\n",
       "      <td>...</td>\n",
       "      <td>0.0</td>\n",
       "      <td>0.0</td>\n",
       "      <td>0.0</td>\n",
       "      <td>0.0</td>\n",
       "      <td>0.0</td>\n",
       "      <td>0.0</td>\n",
       "      <td>0.0</td>\n",
       "      <td>0.0</td>\n",
       "      <td>0.0</td>\n",
       "      <td>0.0</td>\n",
       "    </tr>\n",
       "  </tbody>\n",
       "</table>\n",
       "<p>1584 rows × 3123 columns</p>\n",
       "</div>"
      ],
      "text/plain": [
       "      Unnamed: 0  coordsy  coordsx    0    1    2    3    4    5    6  ...  \\\n",
       "0              0        0       16  0.0  0.0  0.0  0.0  0.0  0.0  0.0  ...   \n",
       "1              1        0       17  0.0  0.0  0.0  0.0  0.0  0.0  0.0  ...   \n",
       "2              2        0       18  0.0  0.0  0.0  0.0  0.0  0.0  0.0  ...   \n",
       "3              3        0       19  0.0  0.0  0.0  0.0  0.0  0.0  0.0  ...   \n",
       "4              4        0       20  0.0  0.0  0.0  0.0  0.0  0.0  0.0  ...   \n",
       "...          ...      ...      ...  ...  ...  ...  ...  ...  ...  ...  ...   \n",
       "1579        1579       58       34  0.0  0.0  0.0  0.0  0.0  0.0  0.0  ...   \n",
       "1580        1580       58       35  0.0  0.0  0.0  0.0  0.0  0.0  0.0  ...   \n",
       "1581        1581       58       36  0.0  0.0  0.0  0.0  0.0  0.0  0.0  ...   \n",
       "1582        1582       58       37  0.0  0.0  0.0  0.0  0.0  0.0  0.0  ...   \n",
       "1583        1583       58       38  0.0  0.0  0.0  0.0  0.0  0.0  0.0  ...   \n",
       "\n",
       "      3110  3111  3112  3113  3114  3115  3116  3117  3118  3119  \n",
       "0      0.0   0.0   0.0   0.0   0.0   0.0   0.0   0.0   0.0   0.0  \n",
       "1      0.0   0.0   0.0   0.0   0.0   0.0   0.0   0.0   0.0   0.0  \n",
       "2      0.0   0.0   0.0   0.0   0.0   0.0   0.0   0.0   0.0   0.0  \n",
       "3      0.0   0.0   0.0   0.0   0.0   0.0   0.0   0.0   0.0   0.0  \n",
       "4      0.0   0.0   0.0   0.0   0.0   0.0   0.0   0.0   0.0   0.0  \n",
       "...    ...   ...   ...   ...   ...   ...   ...   ...   ...   ...  \n",
       "1579   0.0   0.0   0.0   0.0   0.0   0.0   0.0   0.0   0.0   0.0  \n",
       "1580   0.0   0.0   0.0   0.0   0.0   0.0   0.0   0.0   0.0   0.0  \n",
       "1581   0.0   0.0   0.0   0.0   0.0   0.0   0.0   0.0   0.0   0.0  \n",
       "1582   0.0   0.0   0.0   0.0   0.0   0.0   0.0   0.0   0.0   0.0  \n",
       "1583   0.0   0.0   0.0   0.0   0.0   0.0   0.0   0.0   0.0   0.0  \n",
       "\n",
       "[1584 rows x 3123 columns]"
      ]
     },
     "execution_count": 18,
     "metadata": {},
     "output_type": "execute_result"
    }
   ],
   "source": [
    "data"
   ]
  },
  {
   "cell_type": "code",
   "execution_count": 129,
   "id": "2c5b1105-0b50-432f-b6ca-a11cfc59bfed",
   "metadata": {},
   "outputs": [
    {
     "data": {
      "image/png": "[encoded data removed]",
      "text/plain": [
       "<Figure size 432x288 with 1 Axes>"
      ]
     },
     "metadata": {},
     "output_type": "display_data"
    },
    {
     "data": {
      "image/png": "[encoded data removed]",
      "text/plain": [
       "<Figure size 432x288 with 1 Axes>"
      ]
     },
     "metadata": {},
     "output_type": "display_data"
    },
    {
     "data": {
      "image/png": "[encoded data removed]",
      "text/plain": [
       "<Figure size 432x288 with 1 Axes>"
      ]
     },
     "metadata": {},
     "output_type": "display_data"
    }
   ],
   "source": [
    "import matplotlib.pyplot as plt\n",
    "fig, ax = plt.subplots()\n",
    "ax.imshow(sensitivity)\n",
    "fig.savefig('sensitivity.eps', format='eps', dpi=100)\n",
    "\n",
    "fig, ax = plt.subplots()\n",
    "ax.imshow(nonsat)\n",
    "fig.savefig('NTLI.eps', format='eps', dpi=100)\n",
    "\n",
    "fig, ax = plt.subplots()\n",
    "ax.imshow(EAM)\n",
    "fig.savefig('EAM.eps', format='eps', dpi=100)"
   ]
  },
  {
   "cell_type": "code",
   "execution_count": 5,
   "id": "a9847369-7c54-41bc-b789-0f7a881b02e1",
   "metadata": {},
   "outputs": [
    {
     "data": {
      "text/plain": [
       "<Figure size 432x288 with 0 Axes>"
      ]
     },
     "metadata": {},
     "output_type": "display_data"
    }
   ],
   "source": [
    "plt.savefig('destination_path.eps', format='eps')"
   ]
  },
  {
   "cell_type": "code",
   "execution_count": 173,
   "id": "5ec6a891-0533-423a-8d94-8d0fb77eb15c",
   "metadata": {},
   "outputs": [
    {
     "name": "stdout",
     "output_type": "stream",
     "text": [
      "10\n",
      "Search Space Boundaries: [[ 0 60]\n",
      " [ 0 52]\n",
      " [ 0 60]\n",
      " [ 0 52]\n",
      " [ 0 60]\n",
      " [ 0 52]\n",
      " [ 0 60]\n",
      " [ 0 52]\n",
      " [ 0 60]\n",
      " [ 0 52]\n",
      " [ 0 60]\n",
      " [ 0 52]\n",
      " [ 0 60]\n",
      " [ 0 52]\n",
      " [ 0 60]\n",
      " [ 0 52]\n",
      " [ 0 60]\n",
      " [ 0 52]\n",
      " [ 0 60]\n",
      " [ 0 52]]\n",
      " The best solution found:                                                                           \n",
      " [24. 16. 31. 22. 29. 24. 38. 16. 31. 38. 37. 43. 38. 26.  6. 18. 41. 49.\n",
      " 25. 38.]\n",
      "\n",
      " Objective function:\n",
      " -18003298499.84339\n"
     ]
    },
    {
     "data": {
      "image/png": "[encoded data removed]",
      "text/plain": [
       "<Figure size 432x288 with 1 Axes>"
      ]
     },
     "metadata": {},
     "output_type": "display_data"
    }
   ],
   "source": [
    "r2 = list([])\n",
    "results = list([])\n",
    "for n_sensors in range(10,11):\n",
    "    print(n_sensors)\n",
    "\n",
    "\n",
    "    #variable ranges, 2 ranges per sensor position (dim*n_sensors) \n",
    "    varbound=np.array([[0,nonsat.shape[0]],[0,nonsat.shape[1]]]*n_sensors)\n",
    "    print(\"Search Space Boundaries:\", varbound)\n",
    "\n",
    "    dim = len(varbound)\n",
    "\n",
    "    #algorithms_parameters={'max_num_iteration': None, 'population_size': 500, 'mutation_probability': 0.1, 'elit_ratio': 0.01, 'crossover_probability': 0.5, 'parents_portion': 0.3, 'crossover_type': 'uniform', 'max_iteration_without_improv': None}\n",
    "\n",
    "    model=ga(function=f,\n",
    "             dimension=dim,\n",
    "             algorithm_parameters={'max_num_iteration': None, 'population_size': 1000, 'mutation_probability': 0.1, 'elit_ratio': 0.01, 'crossover_probability': 0.5, 'parents_portion': 0.3, 'crossover_type': 'uniform', 'max_iteration_without_improv': None},\n",
    "             variable_type='int',\n",
    "             variable_boundaries=varbound)\n",
    "\n",
    "    \n",
    "\n",
    "    model.run()\n",
    "    r2.append(model.output_dict[\"function\"])\n",
    "    results.append(model.output_dict[\"variable\"])\n",
    "    "
   ]
  },
  {
   "cell_type": "code",
   "execution_count": 184,
   "id": "9d174d50-a5a7-494a-a429-568e63dc0031",
   "metadata": {},
   "outputs": [
    {
     "data": {
      "image/png": "[encoded data removed]",
      "text/plain": [
       "<Figure size 432x288 with 1 Axes>"
      ]
     },
     "metadata": {},
     "output_type": "display_data"
    }
   ],
   "source": [
    "for i in range(1):\n",
    "    \n",
    "    X = results[i]\n",
    "    IMGP = aptitude.showPositions(X)\n",
    "    plt.imshow(IMGP*10+EAM)\n",
    "    plt.show()\n",
    "    \n",
    "\n"
   ]
  },
  {
   "cell_type": "code",
   "execution_count": 213,
   "id": "ce6438a9-5a3e-4a21-b26b-185a809b20b1",
   "metadata": {},
   "outputs": [
    {
     "data": {
      "text/plain": [
       "<matplotlib.image.AxesImage at 0x7fd952c892b0>"
      ]
     },
     "execution_count": 213,
     "metadata": {},
     "output_type": "execute_result"
    },
    {
     "data": {
      "image/png": "[encoded data removed]",
      "text/plain": [
       "<Figure size 432x288 with 1 Axes>"
      ]
     },
     "metadata": {},
     "output_type": "display_data"
    }
   ],
   "source": [
    "M = aptitude.coverage2(X)\n",
    "\n",
    "M2 = np.argmax(M,axis=0)\n",
    "\n",
    "plt.imshow(np.argmax(M,axis=0)+(IMGP>0)*5)"
   ]
  },
  {
   "cell_type": "code",
   "execution_count": 207,
   "id": "65a52722-5c53-4e21-bf62-9bf56a694bc7",
   "metadata": {},
   "outputs": [
    {
     "data": {
      "text/plain": [
       "<matplotlib.image.AxesImage at 0x7fd94ff0dc50>"
      ]
     },
     "execution_count": 207,
     "metadata": {},
     "output_type": "execute_result"
    },
    {
     "data": {
      "image/png": "[encoded data removed]",
      "text/plain": [
       "<Figure size 432x288 with 1 Axes>"
      ]
     },
     "metadata": {},
     "output_type": "display_data"
    }
   ],
   "source": [
    "plt.imshow((nonsat>0)*np.argmax(M,axis=0))"
   ]
  },
  {
   "cell_type": "code",
   "execution_count": 175,
   "id": "9587f63b-7a61-4d82-aa83-099c6db3c3b8",
   "metadata": {},
   "outputs": [],
   "source": [
    "sensor_list = X.reshape(n_sensors,2) \n"
   ]
  },
  {
   "cell_type": "code",
   "execution_count": 176,
   "id": "20a9dba5-8929-48e6-b4d9-33b7aeecb382",
   "metadata": {},
   "outputs": [
    {
     "data": {
      "image/png": "[encoded data removed]",
      "text/plain": [
       "<Figure size 432x288 with 1 Axes>"
      ]
     },
     "metadata": {},
     "output_type": "display_data"
    },
    {
     "data": {
      "image/png": "[encoded data removed]",
      "text/plain": [
       "<Figure size 432x288 with 1 Axes>"
      ]
     },
     "metadata": {},
     "output_type": "display_data"
    },
    {
     "data": {
      "image/png": "[encoded data removed]",
      "text/plain": [
       "<Figure size 432x288 with 1 Axes>"
      ]
     },
     "metadata": {},
     "output_type": "display_data"
    },
    {
     "data": {
      "image/png": "[encoded data removed]",
      "text/plain": [
       "<Figure size 432x288 with 1 Axes>"
      ]
     },
     "metadata": {},
     "output_type": "display_data"
    },
    {
     "data": {
      "image/png": "[encoded data removed]",
      "text/plain": [
       "<Figure size 432x288 with 1 Axes>"
      ]
     },
     "metadata": {},
     "output_type": "display_data"
    },
    {
     "data": {
      "image/png": "[encoded data removed]",
      "text/plain": [
       "<Figure size 432x288 with 1 Axes>"
      ]
     },
     "metadata": {},
     "output_type": "display_data"
    },
    {
     "data": {
      "image/png": "[encoded data removed]",
      "text/plain": [
       "<Figure size 432x288 with 1 Axes>"
      ]
     },
     "metadata": {},
     "output_type": "display_data"
    },
    {
     "data": {
      "image/png": "[encoded data removed]",
      "text/plain": [
       "<Figure size 432x288 with 1 Axes>"
      ]
     },
     "metadata": {},
     "output_type": "display_data"
    },
    {
     "data": {
      "image/png": "[encoded data removed]",
      "text/plain": [
       "<Figure size 432x288 with 1 Axes>"
      ]
     },
     "metadata": {},
     "output_type": "display_data"
    },
    {
     "data": {
      "image/png": "[encoded data removed]",
      "text/plain": [
       "<Figure size 432x288 with 1 Axes>"
      ]
     },
     "metadata": {},
     "output_type": "display_data"
    }
   ],
   "source": [
    "zeros = np.zeros(NLTI.shape)\n",
    "for i in sensor_list:    \n",
    "    ix = aptitude.validate_coordinates(i[0],i[1])\n",
    "        \n",
    "    cover = aptitude.local_variograms[ix]\n",
    "    plt.imshow(cover[0]>0)\n",
    "    zeros += cover[0]>0\n",
    "    plt.show()\n"
   ]
  },
  {
   "cell_type": "code",
   "execution_count": 179,
   "id": "2f5eea18-b503-4f0d-9560-4592360d3938",
   "metadata": {},
   "outputs": [
    {
     "data": {
      "text/plain": [
       "<matplotlib.image.AxesImage at 0x7fd94fd65dd8>"
      ]
     },
     "execution_count": 179,
     "metadata": {},
     "output_type": "execute_result"
    },
    {
     "data": {
      "image/png": "[encoded data removed]",
      "text/plain": [
       "<Figure size 432x288 with 1 Axes>"
      ]
     },
     "metadata": {},
     "output_type": "display_data"
    }
   ],
   "source": [
    "plt.imshow((zeros)*NLTI)"
   ]
  },
  {
   "cell_type": "code",
   "execution_count": 149,
   "id": "dca3ab87-df1f-4b5d-89ac-574d10dbeb18",
   "metadata": {},
   "outputs": [
    {
     "data": {
      "text/plain": [
       "<matplotlib.image.AxesImage at 0x7fd94f233e80>"
      ]
     },
     "execution_count": 149,
     "metadata": {},
     "output_type": "execute_result"
    },
    {
     "data": {
      "image/png": "[encoded data removed]",
      "text/plain": [
       "<Figure size 432x288 with 1 Axes>"
      ]
     },
     "metadata": {},
     "output_type": "display_data"
    }
   ],
   "source": [
    "ix = aptitude.validate_coordinates(30,25)\n",
    "cover = aptitude.local_variograms[ix]\n",
    "\n",
    "plt.imshow(cover[0]+EAM*2000)"
   ]
  },
  {
   "cell_type": "code",
   "execution_count": 114,
   "id": "d7da0ef6-8d64-40fa-bc61-17c3c5021d4e",
   "metadata": {},
   "outputs": [
    {
     "data": {
      "text/plain": [
       "[<matplotlib.lines.Line2D at 0x7fd952993c18>]"
      ]
     },
     "execution_count": 114,
     "metadata": {},
     "output_type": "execute_result"
    },
    {
     "data": {
      "image/png": "[encoded data removed]",
      "text/plain": [
       "<Figure size 432x288 with 1 Axes>"
      ]
     },
     "metadata": {},
     "output_type": "display_data"
    }
   ],
   "source": [
    "V = np.arange(1,5)\n",
    "c=60\n",
    "plt.plot(c**V)"
   ]
  },
  {
   "cell_type": "code",
   "execution_count": 115,
   "id": "75e5c664-3fa7-40ce-bce2-15a8f35ba771",
   "metadata": {},
   "outputs": [
    {
     "data": {
      "text/plain": [
       "array([      60,     3600,   216000, 12960000])"
      ]
     },
     "execution_count": 115,
     "metadata": {},
     "output_type": "execute_result"
    }
   ],
   "source": [
    "c**V"
   ]
  },
  {
   "cell_type": "code",
   "execution_count": 10,
   "id": "0939f89f-4f76-4d88-828e-7cfb51948986",
   "metadata": {},
   "outputs": [],
   "source": [
    "def NormalizeData(data):\n",
    "    return (data - np.min(data)) / (np.max(data) - np.min(data))"
   ]
  },
  {
   "cell_type": "code",
   "execution_count": null,
   "id": "46a86d37-d3d4-416d-a24a-7e02e4acd9f5",
   "metadata": {},
   "outputs": [],
   "source": []
  },
  {
   "cell_type": "code",
   "execution_count": 16,
   "id": "db9cfa69-c318-4522-a164-bc92d2fb3c68",
   "metadata": {},
   "outputs": [
    {
     "data": {
      "text/plain": [
       "<matplotlib.image.AxesImage at 0x7fd96109ebe0>"
      ]
     },
     "execution_count": 16,
     "metadata": {},
     "output_type": "execute_result"
    },
    {
     "data": {
      "image/png": "[encoded data removed]",
      "text/plain": [
       "<Figure size 432x288 with 1 Axes>"
      ]
     },
     "metadata": {},
     "output_type": "display_data"
    }
   ],
   "source": [
    "ix = aptitude.validate_coordinates(30,22)\n",
    "coverage = np.zeros(aptitude.NLTI.shape)\n",
    "coordinates = aptitude.coordinates[ix][0]\n",
    "pi = aptitude.NLTI[coordinates[0]][coordinates[1]]\n",
    "tvar = aptitude.local_variograms[ix][0]\n",
    "\n",
    "outofrange = (tvar==0)*(np.max(NLTI)**2/2)\n",
    "tvar[coordinates[0]][coordinates[1]]=0\n",
    "\n",
    "lb = (np.max(NLTI))**2/2\n",
    "\n",
    "M = tvar+outofrange\n",
    "\n",
    "\n",
    "W = (-M+lb)/lb\n",
    "plt.imshow(W)\n",
    "\n",
    "\n"
   ]
  },
  {
   "cell_type": "code",
   "execution_count": 21,
   "id": "0a6c0ca3-fa2d-403a-b1c5-90ac94e300df",
   "metadata": {},
   "outputs": [
    {
     "data": {
      "text/plain": [
       "<matplotlib.image.AxesImage at 0x7fd977580c50>"
      ]
     },
     "execution_count": 21,
     "metadata": {},
     "output_type": "execute_result"
    },
    {
     "data": {
      "image/png": "[encoded data removed]",
      "text/plain": [
       "<Figure size 432x288 with 1 Axes>"
      ]
     },
     "metadata": {},
     "output_type": "display_data"
    }
   ],
   "source": [
    "plt.imshow(W==1)"
   ]
  },
  {
   "cell_type": "code",
   "execution_count": null,
   "id": "ffc4bc52-c216-4418-834a-0c60a5bda06f",
   "metadata": {},
   "outputs": [],
   "source": [
    "plt.imshow(tvar==0)\n",
    "\n",
    "tvar[tvar==0]=np.max(aptitude.NLTI)**2/2"
   ]
  },
  {
   "cell_type": "code",
   "execution_count": 12,
   "id": "0fdc4a26-8dcd-49cc-89c8-925e99070f4f",
   "metadata": {},
   "outputs": [
    {
     "name": "stdout",
     "output_type": "stream",
     "text": [
      "1503039.3495531052\n"
     ]
    },
    {
     "data": {
      "image/png": "[encoded data removed]",
      "text/plain": [
       "<Figure size 432x288 with 1 Axes>"
      ]
     },
     "metadata": {},
     "output_type": "display_data"
    }
   ],
   "source": [
    "tvar_norm = NormalizeData(tvar)\n",
    "\n",
    "\n",
    "plt.imshow(((-tvar_norm+1)>0)*sensitivity)\n",
    "print(np.sum(((-tvar_norm+1)>0)*sensitivity))"
   ]
  },
  {
   "cell_type": "code",
   "execution_count": 13,
   "id": "2773c177-dd00-4bda-b8f1-66f289c4dfa7",
   "metadata": {},
   "outputs": [
    {
     "data": {
      "image/png": "[encoded data removed]",
      "text/plain": [
       "<Figure size 432x288 with 1 Axes>"
      ]
     },
     "metadata": {},
     "output_type": "display_data"
    }
   ],
   "source": [
    "ix = aptitude.validate_coordinates(37,23)\n",
    "coverage = np.zeros(aptitude.NLTI.shape)\n",
    "coordinates = aptitude.coordinates[ix][0]\n",
    "pi = aptitude.NLTI[coordinates[0]][coordinates[1]]\n",
    "tvar = aptitude.local_variograms[ix][0]\n",
    "plt.imshow(tvar==0)\n",
    "\n",
    "tvar[tvar==0]=np.max(aptitude.NLTI)**2/2\n"
   ]
  },
  {
   "cell_type": "code",
   "execution_count": 131,
   "id": "98aeb78f-b259-4f76-9be3-435faa48b02f",
   "metadata": {},
   "outputs": [
    {
     "name": "stdout",
     "output_type": "stream",
     "text": [
      "1951073.2221549335\n"
     ]
    },
    {
     "data": {
      "image/png": "[encoded data removed]",
      "text/plain": [
       "<Figure size 432x288 with 1 Axes>"
      ]
     },
     "metadata": {},
     "output_type": "display_data"
    }
   ],
   "source": [
    "tvar_norm = NormalizeData(tvar)\n",
    "\n",
    "\n",
    "plt.imshow(((-tvar_norm+1)>0)*sensitivity)\n",
    "print(np.sum(((-tvar_norm+1)>0)*sensitivity))"
   ]
  },
  {
   "cell_type": "code",
   "execution_count": 83,
   "id": "3d597d72-c13e-4a05-a7c6-fee70056e6d3",
   "metadata": {},
   "outputs": [
    {
     "data": {
      "text/plain": [
       "3041425.089341979"
      ]
     },
     "execution_count": 83,
     "metadata": {},
     "output_type": "execute_result"
    }
   ],
   "source": [
    "ix = (37,23)\n",
    "\n",
    "coverage = np.zeros(aptitude.NLTI.shape)\n",
    "coordinates = aptitude.coordinates[ix][0]\n",
    "pi = aptitude.NLTI[coordinates[0]][coordinates[1]]\n",
    "tvar = aptitude.local_variograms[ix][0]\n",
    "plt.imshow(tvar==0)\n",
    "\n",
    "tvar[tvar==0]=np.max(aptitude.NLTI)**2/2"
   ]
  },
  {
   "cell_type": "code",
   "execution_count": 49,
   "id": "a86609fd-547a-40a3-b478-cf8b05ec6433",
   "metadata": {},
   "outputs": [
    {
     "data": {
      "image/png": "[encoded data removed]",
      "text/plain": [
       "<Figure size 432x288 with 1 Axes>"
      ]
     },
     "metadata": {},
     "output_type": "display_data"
    }
   ],
   "source": [
    "plt.plot(np.arange(1,7),-np.array(r2),\"-o\")\n",
    "plt.xlabel(\"Number of sensors optimally allocated\")\n",
    "plt.ylabel(\"Percentage of weighted \\n representativity of $S$ \")\n",
    "plt.show()\n",
    "\n",
    "\n",
    "\n",
    "\n"
   ]
  },
  {
   "cell_type": "code",
   "execution_count": 57,
   "id": "e08feb61-d07e-43d3-90df-5b7c69b04674",
   "metadata": {},
   "outputs": [
    {
     "data": {
      "image/png": "[encoded data removed]",
      "text/plain": [
       "<Figure size 432x288 with 1 Axes>"
      ]
     },
     "metadata": {},
     "output_type": "display_data"
    }
   ],
   "source": [
    "fig, ax = plt.subplots()\n",
    "ax.plot(np.arange(1,7),-np.array(r2),\"-o\")\n",
    "ax.set_xlabel(\"Number of sensors optimally allocated\")\n",
    "ax.set_ylabel(\"Percentage of weighted \\n representativity of $S$ \")\n",
    "\n",
    "fig.savefig('wrepresentativity.eps', format='eps', dpi=100)\n",
    "\n"
   ]
  },
  {
   "cell_type": "code",
   "execution_count": 141,
   "id": "e5d96369-a909-4ebb-ab55-adfb19b5f034",
   "metadata": {},
   "outputs": [
    {
     "data": {
      "image/png": "[encoded data removed]",
      "text/plain": [
       "<Figure size 432x288 with 1 Axes>"
      ]
     },
     "metadata": {},
     "output_type": "display_data"
    }
   ],
   "source": [
    "X = model.output_dict[\"variable\"]\n",
    "X = results[3]\n",
    "P = aptitude.showPositions(X)\n",
    "plt.imshow(P*np.max(sensitivity)/2+sensitivity)\n",
    "plt.show()"
   ]
  },
  {
   "cell_type": "code",
   "execution_count": 13,
   "id": "9f8a696d-58b6-4f09-9103-5c055e35c451",
   "metadata": {},
   "outputs": [
    {
     "data": {
      "image/png": "[encoded data removed]",
      "text/plain": [
       "<Figure size 432x288 with 1 Axes>"
      ]
     },
     "metadata": {},
     "output_type": "display_data"
    },
    {
     "data": {
      "image/png": "[encoded data removed]",
      "text/plain": [
       "<Figure size 432x288 with 1 Axes>"
      ]
     },
     "metadata": {},
     "output_type": "display_data"
    }
   ],
   "source": [
    "EAM = ps.readIMG(niveles,invert=True)\n",
    "plt.imshow( (1-P)*EAM )\n",
    "\n",
    "\n",
    "\n",
    "fig, ax = plt.subplots()\n",
    "ax.imshow( (1-P)*EAM)\n",
    "fig.savefig('result_over_EAM.eps', format='eps', dpi=100)\n"
   ]
  },
  {
   "cell_type": "code",
   "execution_count": 121,
   "id": "78d13326-6f1b-4d84-b082-ca3dc10fc2c9",
   "metadata": {},
   "outputs": [
    {
     "data": {
      "image/png": "[encoded data removed]",
      "text/plain": [
       "<Figure size 432x288 with 1 Axes>"
      ]
     },
     "metadata": {},
     "output_type": "display_data"
    },
    {
     "data": {
      "image/png": "[encoded data removed]",
      "text/plain": [
       "<Figure size 432x288 with 1 Axes>"
      ]
     },
     "metadata": {},
     "output_type": "display_data"
    }
   ],
   "source": [
    "NLTI = sp.ndimage.filters.gaussian_filter(nonsat, sigma, mode='constant')\n",
    "plt.imshow( (1-P)*NLTI )\n",
    "\n",
    "\n",
    "fig, ax = plt.subplots()\n",
    "ax.imshow((1-P)*NLTI)\n",
    "fig.savefig('result_over_NLTI.eps', format='eps', dpi=100)"
   ]
  },
  {
   "cell_type": "code",
   "execution_count": 122,
   "id": "c7f0e5ca-69b6-436d-ae58-66edde9ccea2",
   "metadata": {},
   "outputs": [
    {
     "data": {
      "image/png": "[encoded data removed]",
      "text/plain": [
       "<Figure size 432x288 with 1 Axes>"
      ]
     },
     "metadata": {},
     "output_type": "display_data"
    },
    {
     "data": {
      "image/png": "[encoded data removed]",
      "text/plain": [
       "<Figure size 432x288 with 1 Axes>"
      ]
     },
     "metadata": {},
     "output_type": "display_data"
    },
    {
     "data": {
      "image/png": "[encoded data removed]",
      "text/plain": [
       "<Figure size 432x288 with 1 Axes>"
      ]
     },
     "metadata": {},
     "output_type": "display_data"
    }
   ],
   "source": [
    "cover = np.zeros(NLTI.shape)\n",
    "for i in range(n_sensors):\n",
    "    cover = ((aptitude.coverage(X)[i]>0))*(i+1)\n",
    "    \n",
    "    fig, ax = plt.subplots()\n",
    "    ax.imshow(cover+P)\n",
    "    fig.savefig('roi_'+str(i)+'.eps', format='eps', dpi=100)\n"
   ]
  },
  {
   "cell_type": "code",
   "execution_count": 123,
   "id": "711bce29-7e44-4b4f-9805-f093373a9b04",
   "metadata": {},
   "outputs": [
    {
     "data": {
      "text/plain": [
       "<matplotlib.image.AxesImage at 0x7fe91618b080>"
      ]
     },
     "execution_count": 123,
     "metadata": {},
     "output_type": "execute_result"
    },
    {
     "data": {
      "image/png": "[encoded data removed]",
      "text/plain": [
       "<Figure size 432x288 with 1 Axes>"
      ]
     },
     "metadata": {},
     "output_type": "display_data"
    }
   ],
   "source": [
    "plt.imshow(1*(cover>0)+P)"
   ]
  },
  {
   "cell_type": "code",
   "execution_count": 124,
   "id": "46ec77a7-bc6b-4655-be77-aeb96641518c",
   "metadata": {},
   "outputs": [
    {
     "ename": "IndexError",
     "evalue": "only integers, slices (`:`), ellipsis (`...`), numpy.newaxis (`None`) and integer or boolean arrays are valid indices",
     "output_type": "error",
     "traceback": [
      "\u001b[0;31m---------------------------------------------------------------------------\u001b[0m",
      "\u001b[0;31mIndexError\u001b[0m                                Traceback (most recent call last)",
      "\u001b[0;32m<ipython-input-124-590af5e16280>\u001b[0m in \u001b[0;36m<module>\u001b[0;34m\u001b[0m\n\u001b[0;32m----> 1\u001b[0;31m \u001b[0mEAM\u001b[0m\u001b[0;34m[\u001b[0m\u001b[0mX\u001b[0m\u001b[0;34m[\u001b[0m\u001b[0;36m0\u001b[0m\u001b[0;34m]\u001b[0m\u001b[0;34m]\u001b[0m\u001b[0;34m[\u001b[0m\u001b[0mX\u001b[0m\u001b[0;34m[\u001b[0m\u001b[0;36m1\u001b[0m\u001b[0;34m]\u001b[0m\u001b[0;34m]\u001b[0m\u001b[0;34m=\u001b[0m\u001b[0;36m0\u001b[0m\u001b[0;34m\u001b[0m\u001b[0m\n\u001b[0m\u001b[1;32m      2\u001b[0m \u001b[0mEAM\u001b[0m\u001b[0;34m[\u001b[0m\u001b[0mX\u001b[0m\u001b[0;34m[\u001b[0m\u001b[0;36m2\u001b[0m\u001b[0;34m]\u001b[0m\u001b[0;34m]\u001b[0m\u001b[0;34m[\u001b[0m\u001b[0mX\u001b[0m\u001b[0;34m[\u001b[0m\u001b[0;36m3\u001b[0m\u001b[0;34m]\u001b[0m\u001b[0;34m]\u001b[0m\u001b[0;34m=\u001b[0m\u001b[0;36m0\u001b[0m\u001b[0;34m\u001b[0m\u001b[0m\n",
      "\u001b[0;31mIndexError\u001b[0m: only integers, slices (`:`), ellipsis (`...`), numpy.newaxis (`None`) and integer or boolean arrays are valid indices"
     ]
    }
   ],
   "source": [
    "EAM[X[0]][X[1]]=0\n",
    "EAM[X[2]][X[3]]=0\n"
   ]
  },
  {
   "cell_type": "code",
   "execution_count": null,
   "id": "d4cdda06-0bc6-479c-b1d9-9e552957e408",
   "metadata": {},
   "outputs": [],
   "source": [
    "y = int(X[0])\n",
    "x = int(X[1])\n",
    "EAM[y][x] = 0"
   ]
  },
  {
   "cell_type": "code",
   "execution_count": null,
   "id": "d879ff02-0e68-467b-93c8-15c370a8c09a",
   "metadata": {},
   "outputs": [],
   "source": [
    "\n",
    "\n",
    "\n",
    "fig, ax = plt.subplots()\n",
    "ax.imshow(EAM)\n",
    "fig.savefig('res01_example.eps', format='eps', dpi=100)"
   ]
  },
  {
   "cell_type": "code",
   "execution_count": null,
   "id": "66eaa9e1-0d35-45f8-b2f3-e646c8e1e909",
   "metadata": {},
   "outputs": [],
   "source": [
    "cover = (NLTI*(aptitude.coverage(X)[0]>0))\n",
    "\n",
    "cover[y][x]=80\n",
    "plt.imshow((cover>0)*EAM)\n",
    "\n",
    "\n",
    "fig, ax = plt.subplots()\n",
    "ax.imshow((cover>0)*EAM)\n",
    "fig.savefig('res01_example_b.eps', format='eps', dpi=100)"
   ]
  },
  {
   "cell_type": "code",
   "execution_count": null,
   "id": "72e01d28-6c7c-4945-9ae0-9ca14eef9698",
   "metadata": {},
   "outputs": [],
   "source": [
    "NLTI[y][x]=0\n",
    "plt.imshow((cover>0)*NLTI)\n",
    "\n",
    "\n",
    "\n",
    "\n",
    "fig, ax = plt.subplots()\n",
    "ax.imshow((cover>0)*NLTI)\n",
    "fig.savefig('res01_example_c.eps', format='eps', dpi=100)"
   ]
  },
  {
   "cell_type": "code",
   "execution_count": null,
   "id": "5a990750-3ca3-49d8-bf19-bb8de465666f",
   "metadata": {},
   "outputs": [],
   "source": [
    "C = aptitude.coverage(X)"
   ]
  },
  {
   "cell_type": "code",
   "execution_count": null,
   "id": "47e96439-78fb-47cb-93ba-f57f872a4f91",
   "metadata": {},
   "outputs": [],
   "source": [
    "plt.imshow(C[0])"
   ]
  },
  {
   "cell_type": "code",
   "execution_count": 8,
   "id": "21dece6a-5342-435f-b5af-b43308b8c95b",
   "metadata": {},
   "outputs": [
    {
     "name": "stdout",
     "output_type": "stream",
     "text": [
      "13.956670759565526\n"
     ]
    },
    {
     "data": {
      "image/png": "[encoded data removed]",
      "text/plain": [
       "<Figure size 432x288 with 1 Axes>"
      ]
     },
     "metadata": {},
     "output_type": "display_data"
    }
   ],
   "source": [
    "def explicability(X,S):\n",
    "    n_sensors = int(len(X)/2)\n",
    "    sensor_list = X.reshape(n_sensors,len(S.shape))\n",
    "    \n",
    "    coverage = np.zeros((n_sensors,S.shape[0],S.shape[1]))\n",
    "    \n",
    "    for i,s in enumerate(sensor_list):\n",
    "        \n",
    "        sy,sx = s[0],s[1]\n",
    "        \n",
    "        ix = aptitude.validate_coordinates(sy,sx)\n",
    "        coverage[i] = np.zeros(S.shape)\n",
    "        \n",
    "        v = aptitude.local_variograms[ix]\n",
    "        M = v>0\n",
    "        if len(ix)>0: \n",
    "            \n",
    "            map0to1 = 1/(1+v) \n",
    "            coverage[i] = map0to1*M\n",
    "    \n",
    "\n",
    "    return coverage\n",
    "\n",
    "E = explicability(X,sensitivity)\n",
    "T = np.sum(sensitivity)\n",
    "\n",
    "C = np.max(E,axis=0)*sensitivity\n",
    "\n",
    "plt.imshow(np.max(E,axis=0)*sensitivity)\n",
    "\n",
    "print(100*np.sum(C)/T)\n",
    "\n",
    "\n",
    "\n"
   ]
  },
  {
   "cell_type": "code",
   "execution_count": null,
   "id": "78a5fe95-451d-40b9-a4a6-fd8c0b447a2e",
   "metadata": {},
   "outputs": [],
   "source": [
    "X"
   ]
  },
  {
   "cell_type": "code",
   "execution_count": 24,
   "id": "921a3ce0-36f4-494c-9b4c-cd3d5abdeae8",
   "metadata": {},
   "outputs": [],
   "source": [
    "ix = aptitude.validate_coordinates(39,25)"
   ]
  },
  {
   "cell_type": "code",
   "execution_count": 26,
   "id": "b7f9437a-4ec1-4b70-95fe-1f209aaef1b1",
   "metadata": {},
   "outputs": [],
   "source": [
    "v = aptitude.local_variograms[ix]"
   ]
  },
  {
   "cell_type": "code",
   "execution_count": 47,
   "id": "6c6ab925-58d0-48cc-8539-b9c2c2fd141b",
   "metadata": {},
   "outputs": [
    {
     "data": {
      "text/plain": [
       "array([[0., 0., 0., ..., 0., 0., 0.],\n",
       "       [0., 0., 0., ..., 0., 0., 0.],\n",
       "       [0., 0., 0., ..., 0., 0., 0.],\n",
       "       ...,\n",
       "       [0., 0., 0., ..., 0., 0., 0.],\n",
       "       [0., 0., 0., ..., 0., 0., 0.],\n",
       "       [0., 0., 0., ..., 0., 0., 0.]])"
      ]
     },
     "execution_count": 47,
     "metadata": {},
     "output_type": "execute_result"
    }
   ],
   "source": [
    "(v[0])"
   ]
  },
  {
   "cell_type": "code",
   "execution_count": 64,
   "id": "28e8b7cc-3d86-4437-bddf-6ace615d41ea",
   "metadata": {},
   "outputs": [
    {
     "data": {
      "text/plain": [
       "<matplotlib.image.AxesImage at 0x7fe9270d7208>"
      ]
     },
     "execution_count": 64,
     "metadata": {},
     "output_type": "execute_result"
    },
    {
     "data": {
      "image/png": "[encoded data removed]",
      "text/plain": [
       "<Figure size 432x288 with 1 Axes>"
      ]
     },
     "metadata": {},
     "output_type": "display_data"
    }
   ],
   "source": [
    "M= v[0]>0\n",
    "P = 1/(1+v[0])\n",
    "plt.imshow(P*M*sensitivity) "
   ]
  },
  {
   "cell_type": "code",
   "execution_count": 66,
   "id": "e654ac99-2c18-4453-9120-be2bbaaccb40",
   "metadata": {},
   "outputs": [
    {
     "data": {
      "text/plain": [
       "140466114.26891884"
      ]
     },
     "execution_count": 66,
     "metadata": {},
     "output_type": "execute_result"
    }
   ],
   "source": [
    "np.sum(sensitivity)"
   ]
  },
  {
   "cell_type": "code",
   "execution_count": 73,
   "id": "29ba32fe-5cd7-4cca-8b57-b8bc96d1c4ea",
   "metadata": {},
   "outputs": [],
   "source": [
    "T = np.sum(sensitivity)"
   ]
  },
  {
   "cell_type": "code",
   "execution_count": 78,
   "id": "887c673c-16f0-4f86-84d1-7cfff15f45d3",
   "metadata": {},
   "outputs": [
    {
     "data": {
      "text/plain": [
       "2.6077766589682474"
      ]
     },
     "execution_count": 78,
     "metadata": {},
     "output_type": "execute_result"
    }
   ],
   "source": [
    "(np.sum(P*M*sensitivity)/T)*100"
   ]
  },
  {
   "cell_type": "code",
   "execution_count": 75,
   "id": "4ec4a4f1-3b01-4782-a784-dae2c36ca125",
   "metadata": {},
   "outputs": [
    {
     "data": {
      "text/plain": [
       "<matplotlib.image.AxesImage at 0x7fcf13580a58>"
      ]
     },
     "execution_count": 75,
     "metadata": {},
     "output_type": "execute_result"
    },
    {
     "data": {
      "image/png": "[encoded data removed]",
      "text/plain": [
       "<Figure size 432x288 with 1 Axes>"
      ]
     },
     "metadata": {},
     "output_type": "display_data"
    }
   ],
   "source": [
    "v = variograms[800]\n",
    "\n",
    "\n",
    "\n",
    "plt.imshow(v>0)"
   ]
  },
  {
   "cell_type": "code",
   "execution_count": 15,
   "id": "eb2f077d-ceb4-4ca6-9134-4c4fb23c56ae",
   "metadata": {},
   "outputs": [
    {
     "data": {
      "text/plain": [
       "[-2005299.319098516]"
      ]
     },
     "execution_count": 15,
     "metadata": {},
     "output_type": "execute_result"
    }
   ],
   "source": [
    "r2"
   ]
  },
  {
   "cell_type": "code",
   "execution_count": 37,
   "id": "392a27de-9e62-49cc-b8b4-b2de84af267f",
   "metadata": {},
   "outputs": [],
   "source": [
    "X = results[0]\n",
    "n_sensors = int(len(X)/2)\n",
    "sensor_list = X.reshape(n_sensors,len(NLTI.shape))\n",
    "coverage = np.zeros((n_sensors,NLTI.shape[0],NLTI.shape[1]))\n",
    "for i,s in enumerate(sensor_list):\n",
    "    sy,sx = s[0],s[1]\n",
    "    ix = aptitude.validate_coordinates(sy,sx)\n",
    "\n",
    "    coverage[i] = np.zeros(NLTI.shape)\n",
    "    if len(ix)>0:\n",
    "        coordinates = aptitude.coordinates[ix][0]\n",
    "        tvar = aptitude.local_variograms[ix][0]\n",
    "        nltirange = np.max(NLTI)/2\n",
    "        outofrange = (tvar==0)*(nltirange**2/2)\n",
    "        tvar[coordinates[0]][coordinates[1]]=0\n",
    "        M = tvar+outofrange\n",
    "        \n",
    "        "
   ]
  },
  {
   "cell_type": "code",
   "execution_count": 40,
   "id": "fe718294-6d0f-437e-90c6-4879cb0b8700",
   "metadata": {},
   "outputs": [
    {
     "data": {
      "text/plain": [
       "60.077532628977366"
      ]
     },
     "execution_count": 40,
     "metadata": {},
     "output_type": "execute_result"
    }
   ],
   "source": [
    "pi"
   ]
  },
  {
   "cell_type": "code",
   "execution_count": null,
   "id": "9615f8af-d749-4a0a-8e6f-1038f610a5db",
   "metadata": {},
   "outputs": [],
   "source": []
  }
 ],
 "metadata": {
  "kernelspec": {
   "display_name": "Python 3",
   "language": "python",
   "name": "python3"
  },
  "language_info": {
   "codemirror_mode": {
    "name": "ipython",
    "version": 3
   },
   "file_extension": ".py",
   "mimetype": "text/x-python",
   "name": "python",
   "nbconvert_exporter": "python",
   "pygments_lexer": "ipython3",
   "version": "3.8.13"
  }
 },
 "nbformat": 4,
 "nbformat_minor": 5
}
