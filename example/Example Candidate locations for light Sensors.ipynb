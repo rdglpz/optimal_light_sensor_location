{
 "cells": [
  {
   "cell_type": "markdown",
   "metadata": {},
   "source": [
    "# Estrategia para la localización Óptima de Sensores de Contaminación Lumínica"
   ]
  },
  {
   "cell_type": "code",
   "execution_count": null,
   "metadata": {},
   "outputs": [],
   "source": []
  },
  {
   "cell_type": "code",
   "execution_count": 1,
   "metadata": {},
   "outputs": [],
   "source": [
    "from PIL import Image\n",
    "import numpy as np\n",
    "from noisyopt import minimizeCompass\n",
    "from sortedcontainers import SortedList\n",
    "import pandas as pd\n",
    "\n",
    "import matplotlib.pyplot as plt\n",
    "import matplotlib.cbook as cbook\n",
    "from matplotlib.pylab import rcParams\n",
    "from matplotlib_scalebar.scalebar import ScaleBar\n",
    "from matplotlib.colors import ListedColormap, LinearSegmentedColormap\n",
    "from matplotlib import cm\n",
    "import matplotlib.patches as mpatches"
   ]
  },
  {
   "cell_type": "code",
   "execution_count": 2,
   "metadata": {},
   "outputs": [],
   "source": [
    "def f5(i,p,e=4):\n",
    "    '''\n",
    "    Pesos exponenciales\n",
    "    \n",
    "    W = i*a^(p-r)\n",
    "    '''\n",
    "    return i*e**(p)\n",
    "\n",
    "def getN(W,i,j):\n",
    "    ln = ([])\n",
    "    c = W[i,j]\n",
    "    ln.append(W[i+1,j])\n",
    "    ln.append(W[i-1,j])\n",
    "    ln.append(W[i,j+1])\n",
    "    ln.append(W[i,j-1])\n",
    "    opt = False if W[i,j]<max(ln) else True\n",
    "    return opt\n",
    "\n",
    "def fuerza_puntual(x,y,im2,h=2,e=2):\n",
    "    '''\n",
    "    this does not make sense if we have corrected verions solving the saturarion image problem\n",
    "    \n",
    "    '''\n",
    "    s = 0.0 \n",
    "    g1 = float(im2[x][y])\n",
    "    xlb = 0 if(x-h)<0 else x-h\n",
    "    xub = im2.shape[0] if(x+h)> im2.shape[0] else x+h\n",
    "    \n",
    "    ylb = 0 if(y-h)<0 else y-h\n",
    "    yub = im2.shape[1] if(y+h)> (im2.shape[1]) else y+h \n",
    "    \n",
    "    ri = np.arange(xlb,xub)\n",
    "    rj = np.arange(ylb,yub)\n",
    "    for i in ri:\n",
    "        for j in rj:\n",
    "            d=((i-x)**2+(j-y)**2)**(0.5)\n",
    "            g2 = float(im2[i][j])\n",
    "            if d >0: s += (g1*g2)/(d**e)\n",
    "    return s\n",
    "\n",
    "def filtro_fuerza_puntual(A,h=3,e=2):\n",
    "    pot1 = np.zeros(A.shape)\n",
    "    for i in range(pot1.shape[0]):\n",
    "        for j in range(pot1.shape[1]):\n",
    "            pot1[i][j] = fuerza_puntual(i,j,A,h,e)\n",
    "            \n",
    "    return pot1\n",
    "\n",
    "\n",
    "def plot_examples(data,colormaps,filename):\n",
    "    \"\"\"\n",
    "    Helper function to plot data with associated colormap.\n",
    "    \"\"\"\n",
    "    n = len(colormaps)\n",
    "    #fig, axs = plt.subplots(1, n, figsize=(n * 2 + 2, 3),\n",
    "    #                        constrained_layout=False, squeeze=False)\n",
    "    fig, axs = plt.subplots(1, n, figsize=(6, 5.2),constrained_layout=False, squeeze=False)\n",
    "   \n",
    "    scalebar = ScaleBar(1000) # 1 pixel = 0.2 meter\n",
    "    plt.gca().add_artist(scalebar)\n",
    "    for [ax, cmap] in zip(axs.flat, colormaps):\n",
    "        ax.get_xaxis().set_visible(False)\n",
    "        ax.get_yaxis().set_visible(False)\n",
    "        psm = ax.pcolormesh(np.flip(data,0), cmap=cmap, rasterized=False, vmin=0, vmax=data.max())\n",
    "        fig.colorbar(psm, ax=ax)\n",
    "    \n",
    "    \n",
    "\n",
    "    plt.savefig(filename, dpi = 150)\n",
    "\n",
    "custom_cmap = cm.get_cmap('hot', 256)\n",
    "newcolors = custom_cmap(np.linspace(0, 1, 256))\n",
    "pink = np.array([200/256, 200/256, 200/256, 1])\n",
    "newcolors[:1, :] = pink\n",
    "newcmp = ListedColormap(newcolors)"
   ]
  },
  {
   "cell_type": "markdown",
   "metadata": {},
   "source": [
    "Carga de imágenes"
   ]
  },
  {
   "cell_type": "code",
   "execution_count": 3,
   "metadata": {},
   "outputs": [],
   "source": [
    "#Original nocturnal image without values <21\n",
    "im1 = np.array(Image.open('inputs/qro_light_th'))\n",
    "im1 = np.where(im1==255, 0, im1) \n",
    "\n",
    "#Region priorities of Jorge and Lamphar\n",
    "P = np.array(Image.open('inputs/prioridades'))\n",
    "\n",
    "#calcular este valor automaticamente\n",
    "nc = 5\n",
    "\n",
    "# 0 máxima prioridad\n",
    "# 4 mínima prioridad (antes espacio nan)\n",
    "P = np.where(np.isnan(P),nc, P)-1 \n",
    "P = P.max()-P\n",
    "\n",
    "\n",
    "im1_gr = filtro_fuerza_puntual(im1,h=3,e=4)\n",
    "\n",
    "W1 = f5(im1,P)\n",
    "W2 = f5(im1_gr,P)"
   ]
  },
  {
   "cell_type": "code",
   "execution_count": 4,
   "metadata": {},
   "outputs": [
    {
     "data": {
      "text/plain": [
       "63"
      ]
     },
     "execution_count": 4,
     "metadata": {},
     "output_type": "execute_result"
    }
   ],
   "source": [
    "np.max(im1.flatten())"
   ]
  },
  {
   "cell_type": "code",
   "execution_count": 22,
   "metadata": {},
   "outputs": [
    {
     "data": {
      "text/plain": [
       "<matplotlib.image.AxesImage at 0x7fc3185d9b90>"
      ]
     },
     "execution_count": 22,
     "metadata": {},
     "output_type": "execute_result"
    },
    {
     "data": {
      "image/png": "[encoded data removed]",
      "text/plain": [
       "<Figure size 432x288 with 1 Axes>"
      ]
     },
     "metadata": {
      "needs_background": "light"
     },
     "output_type": "display_data"
    }
   ],
   "source": [
    "plt.imshow((im1>=10) )"
   ]
  },
  {
   "cell_type": "code",
   "execution_count": 38,
   "metadata": {},
   "outputs": [
    {
     "data": {
      "image/png": "[encoded data removed]",
      "text/plain": [
       "<Figure size 432x288 with 1 Axes>"
      ]
     },
     "metadata": {
      "needs_background": "light"
     },
     "output_type": "display_data"
    }
   ],
   "source": [
    "from scipy import ndimage as ndi\n",
    "d = ndi.distance_transform_edt(im1>=1)\n",
    "\n",
    "plt.imshow(d)\n",
    "\n",
    "W3 = f5(d,P)\n"
   ]
  },
  {
   "cell_type": "code",
   "execution_count": 39,
   "metadata": {},
   "outputs": [
    {
     "data": {
      "text/plain": [
       "<matplotlib.image.AxesImage at 0x7fc319ffc950>"
      ]
     },
     "execution_count": 39,
     "metadata": {},
     "output_type": "execute_result"
    },
    {
     "data": {
      "image/png": "[encoded data removed]",
      "text/plain": [
       "<Figure size 432x288 with 1 Axes>"
      ]
     },
     "metadata": {
      "needs_background": "light"
     },
     "output_type": "display_data"
    }
   ],
   "source": [
    "plt.imshow(W3)"
   ]
  },
  {
   "cell_type": "code",
   "execution_count": 40,
   "metadata": {},
   "outputs": [
    {
     "data": {
      "image/png": "[encoded data removed]",
      "text/plain": [
       "<Figure size 432x374.4 with 1 Axes>"
      ]
     },
     "metadata": {
      "needs_background": "light"
     },
     "output_type": "display_data"
    }
   ],
   "source": [
    "data = P\n",
    "\n",
    "# get the unique values from data\n",
    "# i.e. a sorted list of all values in data\n",
    "values = np.unique(data.ravel())\n",
    "\n",
    "plt.figure(figsize=(6, 5.2))\n",
    "im = plt.imshow(data,cmap = plt.cm.hot)\n",
    "\n",
    "# get the colors of the values, according to the \n",
    "# colormap used by imshow\n",
    "colors = [ im.cmap(im.norm(value)) for value in values]\n",
    "# create a patch (proxy artist) for every color \n",
    "patches = [ mpatches.Patch(color=colors[i], label=\"Level {l}\".format(l=int(values[i])) ) for i in range(1,5) ]\n",
    "# put those patched as legend-handles into the legend\n",
    "plt.legend(handles=patches, bbox_to_anchor=(0.33, 0.25), loc=1, borderaxespad=0.1 )\n",
    "plt.axis('off')\n",
    "scalebar = ScaleBar(1000) # 1 pixel = 0.2 meter\n",
    "plt.gca().add_artist(scalebar)\n",
    "\n",
    "plt.savefig(\"figures/01_importance_level_map.pdf\", dpi = 150)"
   ]
  },
  {
   "cell_type": "code",
   "execution_count": 41,
   "metadata": {},
   "outputs": [
    {
     "data": {
      "image/png": "[encoded data removed]",
      "text/plain": [
       "<Figure size 432x374.4 with 2 Axes>"
      ]
     },
     "metadata": {
      "needs_background": "light"
     },
     "output_type": "display_data"
    }
   ],
   "source": [
    "custom_cmap = cm.get_cmap('hot', 256)\n",
    "newcolors = custom_cmap(np.linspace(0, 1, 256))\n",
    "pink = np.array([200/256, 200/256, 200/256, 1])\n",
    "newcolors[:1, :] = pink\n",
    "newcmp = ListedColormap(newcolors)\n",
    "plot_examples(im1,[newcmp],\"figures/02_original_nighttime.pdf\")\n"
   ]
  },
  {
   "cell_type": "code",
   "execution_count": 42,
   "metadata": {},
   "outputs": [
    {
     "data": {
      "image/png": "[encoded data removed]",
      "text/plain": [
       "<Figure size 432x374.4 with 2 Axes>"
      ]
     },
     "metadata": {
      "needs_background": "light"
     },
     "output_type": "display_data"
    }
   ],
   "source": [
    "\n",
    "plot_examples(im1_gr,[newcmp],\"figures/03_gravitational_nighttime_map.pdf\")\n"
   ]
  },
  {
   "cell_type": "code",
   "execution_count": 44,
   "metadata": {},
   "outputs": [
    {
     "data": {
      "image/png": "[encoded data removed]",
      "text/plain": [
       "<Figure size 432x374.4 with 2 Axes>"
      ]
     },
     "metadata": {
      "needs_background": "light"
     },
     "output_type": "display_data"
    }
   ],
   "source": [
    "plot_examples(W3,[newcmp],\"figures/04_priority_levels.pdf\")\n",
    "\n"
   ]
  },
  {
   "cell_type": "code",
   "execution_count": null,
   "metadata": {},
   "outputs": [],
   "source": []
  },
  {
   "cell_type": "code",
   "execution_count": 51,
   "metadata": {},
   "outputs": [
    {
     "data": {
      "image/png": "[encoded data removed]",
      "text/plain": [
       "<Figure size 432x374.4 with 1 Axes>"
      ]
     },
     "metadata": {
      "needs_background": "light"
     },
     "output_type": "display_data"
    }
   ],
   "source": [
    "B = np.zeros(im1_gr.shape)\n",
    "for i in range(1,im1_gr.shape[0]-1):\n",
    "    for j in range(1,im1_gr.shape[1]-1):\n",
    "\n",
    "        B[i][j] = getN(W2,i,j)\n",
    "        \n",
    "positionsB = B*(im1>0)\n",
    "\n",
    "locationsP = np.zeros(P.shape)\n",
    "for i in range(0,P.shape[0]):\n",
    "    for j in range(0,P.shape[1]):\n",
    "        locationsP[i][j] = 8 if positionsB[i][j]==1 else P[i,j]\n",
    "\n",
    "data = locationsP\n",
    "\n",
    "# get the unique values from data\n",
    "# i.e. a sorted list of all values in data\n",
    "values = np.unique(data.ravel())\n",
    "\n",
    "plt.figure(figsize=(6, 5.2))\n",
    "im = plt.imshow(data,cmap = plt.cm.hot)\n",
    "\n",
    "# get the colors of the values, according to the \n",
    "# colormap used by imshow\n",
    "colors = [ im.cmap(im.norm(value)) for value in values]\n",
    "\n",
    "# create a patch (proxy artist) for every color \n",
    "patches = [ mpatches.Patch(color=colors[i], label=\"Level {l}\".format(l=int(values[i])) ) for i in range(1,5) ]\n",
    "\n",
    "# put those patched as legend-handles into the legend\n",
    "plt.legend(handles=patches, bbox_to_anchor=(0.33, 0.25), loc=1, borderaxespad=0.1 )\n",
    "plt.axis('off')\n",
    "scalebar = ScaleBar(1000) # 1 pixel = 0.2 meter\n",
    "plt.gca().add_artist(scalebar)\n",
    "\n",
    "plt.savefig(\"figures/05_positions_and_importance.pdf\", dpi = 150)"
   ]
  },
  {
   "cell_type": "code",
   "execution_count": null,
   "metadata": {},
   "outputs": [],
   "source": []
  },
  {
   "cell_type": "code",
   "execution_count": 20,
   "metadata": {},
   "outputs": [
    {
     "data": {
      "image/png": "[encoded data removed]",
      "text/plain": [
       "<Figure size 432x374.4 with 2 Axes>"
      ]
     },
     "metadata": {
      "needs_background": "light"
     },
     "output_type": "display_data"
    }
   ],
   "source": [
    "custom_cmap = cm.get_cmap('hot', 256)\n",
    "newcolors = custom_cmap(np.linspace(0, 1, 256))\n",
    "pink = np.array([200/256, 200/256, 200/256, 1])\n",
    "newcolors[:1, :] = pink\n",
    "newcmp = ListedColormap(newcolors)\n",
    "plot_examples(W2*positionsB,[newcmp],\"figures/06_positions_with_priority.pdf\")"
   ]
  },
  {
   "cell_type": "markdown",
   "metadata": {},
   "source": [
    "**Referencias**\n",
    "\n",
    "* https://grass.osgeo.org/grass76/manuals/r.neighbors.html\n",
    "\n",
    "* https://matplotlib.org/stable/gallery/images_contours_and_fields/image_annotated_heatmap.html#sphx-glr-gallery-images-contours-and-fields-image-annotated-heatmap-py\n",
    "\n",
    "Este es el \n",
    "* https://bookdown.org/markhoff/social_network_analysis/finding-groups-in-networks.html\n",
    "\n",
    "* https://networkx.org/documentation/stable/reference/algorithms/component.html\n",
    "\n",
    "Plática con Ivvan\n",
    "* https://homepages.inf.ed.ac.uk/rbf/HIPR2/distance.htm\n",
    "* https://answers.opencv.org/question/97681/better-ways-to-get-the-ridges-of-distance-transform-map/"
   ]
  },
  {
   "cell_type": "code",
   "execution_count": null,
   "metadata": {},
   "outputs": [],
   "source": []
  },
  {
   "cell_type": "code",
   "execution_count": null,
   "metadata": {},
   "outputs": [],
   "source": []
  }
 ],
 "metadata": {
  "kernelspec": {
   "display_name": "Python 3",
   "language": "python",
   "name": "python3"
  },
  "language_info": {
   "codemirror_mode": {
    "name": "ipython",
    "version": 3
   },
   "file_extension": ".py",
   "mimetype": "text/x-python",
   "name": "python",
   "nbconvert_exporter": "python",
   "pygments_lexer": "ipython3",
   "version": "3.7.6"
  }
 },
 "nbformat": 4,
 "nbformat_minor": 5
}
