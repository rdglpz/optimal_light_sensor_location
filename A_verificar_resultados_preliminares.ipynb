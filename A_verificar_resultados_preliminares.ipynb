{
 "cells": [
  {
   "cell_type": "code",
   "execution_count": 185,
   "id": "247a9c81-f006-43b1-ac0e-0c056b9bea11",
   "metadata": {},
   "outputs": [
    {
     "name": "stdout",
     "output_type": "stream",
     "text": [
      " W = i*a^(p)\n",
      "Selct cost functions: \n",
      " 'xor','max' or 'cover'\n"
     ]
    }
   ],
   "source": [
    "#!/usr/bin/env python3\n",
    "# -*- coding: utf-8 -*-\n",
    "\"\"\"\n",
    "Created on Fri May 27 22:15:13 2022\n",
    "\n",
    "@author: rodrigo\n",
    "\"\"\"\n",
    "\n",
    "#Cargando librerías \n",
    "import importlib\n",
    "\n",
    "import matplotlib.pyplot as plt\n",
    "import scipy as sp\n",
    "import numpy as np\n",
    "import pandas as pd\n",
    "\n",
    "import src.positioning_sensors as ps\n",
    "importlib.reload(ps)\n",
    "\n",
    "import src.network_fitness as netfit\n",
    "importlib.reload(netfit)\n",
    "\n",
    "import src.manageExperiments as me\n",
    "importlib.reload(me)\n",
    "\n",
    "from geneticalgorithm import geneticalgorithm as ga\n",
    "\n",
    "import itertools as it\n",
    "\n",
    "plt.style.use(\"ggplot\")\n",
    "\n",
    "setup = me.readConfigFile(\"config_exp_13062022.txt\")\n",
    "\n",
    "\n",
    "#cargamos imagenes en luminance e importance\n",
    "ilumina = setup[\"folder_input\"]+setup[\"input_ntli\"]\n",
    "niveles = setup[\"folder_input\"]+setup[\"input_evm\"]\n",
    "sigma_y = setup['filterg_sy']\n",
    "sigma_x =setup['filterg_sx']\n",
    "sigma = [sigma_y,sigma_x]\n",
    "\n",
    "#Loading precalculated local and directed empirical variograms\n",
    "\n",
    "filesv = setup[\"experiment_id\"]+setup[\"folder_semivariances\"]+setup[\"output_semivariances\"]+\".csv\"\n",
    "filesvmask = setup[\"experiment_id\"]+setup[\"folder_semivariances\"]+setup[\"output_semivariances\"]+\"mask.csv\"\n",
    "\n",
    "saveOptimumValuesTofile = setup[\"experiment_id\"]+setup[\"folder_output\"]+setup[\"output_values\"]\n",
    "saveArgsTofile = setup[\"experiment_id\"]+setup[\"folder_output\"]+setup[\"output_args\"]\n",
    "\n",
    "data = pd.read_csv(filesv)\n",
    "data_m = pd.read_csv(filesvmask)\n",
    "variogram_set = np.array(data.iloc[:,3:])\n",
    "variogram_set_m = np.array(data_m.iloc[:,3:])\n",
    "\n",
    "\n",
    "#NLTI: luminance\n",
    "luminance = ps.readIMG(ilumina)\n",
    "\n",
    "#EAM: Environtmental attention map is the importance\n",
    "EAM = ps.readIMG(niveles,invert=True)\n",
    "\n",
    "\n",
    "\n",
    "\n",
    "nonsat,b = ps.desaturate(luminance,th=setup[\"desaturation_th\"])\n",
    "\n",
    "variograms = variogram_set.reshape(len(variogram_set),nonsat.shape[0],nonsat.shape[1])\n",
    "variograms_m = variogram_set_m.reshape(len(variogram_set),nonsat.shape[0],nonsat.shape[1])\n",
    "\n",
    "coords = np.array(data.iloc[:,1:3])\n",
    "\n",
    "#nonsat2 = sp.ndimage.filters.gaussian_filter(nonsat, sigma, mode='constant')\n",
    "#nonsat2 = (nonsat2>=22)*nonsat2\n",
    "\n",
    "NLTI = sp.ndimage.filters.gaussian_filter(nonsat, sigma, mode='constant')\n",
    "NLTI = (NLTI>=setup[\"neglect_values\"])*NLTI\n",
    "\n",
    "\n",
    "\n",
    "#sensitivity = ps.f5(NLTI,EAM,2)\n",
    "from IPython.display import clear_output\n",
    "\n",
    "r2 = list([])\n",
    "results2 = list([])\n",
    "\n",
    "c=1\n",
    "sensitivity = ps.f5(NLTI,EAM,c)\n",
    "aptitude = netfit.NetworkFitness(NLTI,EAM,sensitivity,variograms,variograms_m,coords)\n",
    "\n"
   ]
  },
  {
   "cell_type": "code",
   "execution_count": 193,
   "id": "475a8334-f4d6-425f-ae2b-871a2d155993",
   "metadata": {},
   "outputs": [
    {
     "data": {
      "text/plain": [
       "<matplotlib.image.AxesImage at 0x7fd734d0bc70>"
      ]
     },
     "execution_count": 193,
     "metadata": {},
     "output_type": "execute_result"
    },
    {
     "data": {
      "image/png": "[encoded data removed]",
      "text/plain": [
       "<Figure size 432x288 with 1 Axes>"
      ]
     },
     "metadata": {},
     "output_type": "display_data"
    }
   ],
   "source": [
    "si = (27,19)\n",
    "sj = (17,37)\n",
    "ix = aptitude.validate_coordinates(si[0],si[1])\n",
    "m = np.copy(variograms_m[ix].reshape(NLTI.shape))\n",
    "m[si]=m[si]+1\n",
    "m[sj]=m[sj]+1\n",
    "plt.imshow(m)"
   ]
  },
  {
   "cell_type": "code",
   "execution_count": null,
   "id": "ba0c9de7-65a3-4868-8176-185e5ec8c8ae",
   "metadata": {},
   "outputs": [],
   "source": []
  },
  {
   "cell_type": "code",
   "execution_count": 194,
   "id": "6e33cb3d-08d6-4597-b6df-288a1fa47bb4",
   "metadata": {},
   "outputs": [
    {
     "data": {
      "text/plain": [
       "<matplotlib.image.AxesImage at 0x7fd6e07df0a0>"
      ]
     },
     "execution_count": 194,
     "metadata": {},
     "output_type": "execute_result"
    },
    {
     "data": {
      "image/png": "[encoded data removed]",
      "text/plain": [
       "<Figure size 432x288 with 1 Axes>"
      ]
     },
     "metadata": {},
     "output_type": "display_data"
    }
   ],
   "source": [
    "img = np.copy(variograms[ix].reshape(NLTI.shape))\n",
    "mm = np.copy(variograms[ix].reshape(NLTI.shape))\n",
    "mm[si] = np.max(variograms[ix].reshape(NLTI.shape))\n",
    "mm[sj] = 0\n",
    "plt.imshow(mm)"
   ]
  },
  {
   "cell_type": "code",
   "execution_count": 195,
   "id": "3d3c4c90-188e-411f-b71f-0ad0575908ad",
   "metadata": {},
   "outputs": [],
   "source": [
    "from skimage.draw import line\n",
    "\n",
    "rr, cc = line(si[0], si[1], sj[0], sj[1])\n",
    "\n"
   ]
  },
  {
   "cell_type": "code",
   "execution_count": 209,
   "id": "70772f57-76ff-4be4-ac82-051db1e6b059",
   "metadata": {},
   "outputs": [
    {
     "data": {
      "text/plain": [
       "<matplotlib.image.AxesImage at 0x7fd706423cd0>"
      ]
     },
     "execution_count": 209,
     "metadata": {},
     "output_type": "execute_result"
    },
    {
     "data": {
      "image/png": "[encoded data removed]",
      "text/plain": [
       "<Figure size 432x288 with 1 Axes>"
      ]
     },
     "metadata": {},
     "output_type": "display_data"
    }
   ],
   "source": [
    "img_line = np.copy(m)\n",
    "\n",
    "img_line[rr,cc]=2\n",
    "\n",
    "plt.imshow(img_line)"
   ]
  },
  {
   "cell_type": "code",
   "execution_count": 201,
   "id": "83aa8381-f8c9-477e-89e5-ba7bc80e6048",
   "metadata": {},
   "outputs": [
    {
     "data": {
      "text/plain": [
       "[<matplotlib.lines.Line2D at 0x7fd7063192b0>]"
      ]
     },
     "execution_count": 201,
     "metadata": {},
     "output_type": "execute_result"
    },
    {
     "data": {
      "image/png": "[encoded data removed]",
      "text/plain": [
       "<Figure size 432x288 with 1 Axes>"
      ]
     },
     "metadata": {},
     "output_type": "display_data"
    }
   ],
   "source": [
    "l = list([])\n",
    "\n",
    "\n",
    "        \n",
    "for i in range(len(rr)):\n",
    "            \n",
    "#    a = (rr[i],cc[i])\n",
    "            \n",
    "    l.append(img[(rr[i],cc[i])])\n",
    "    \n",
    "plt.plot(l)"
   ]
  },
  {
   "cell_type": "code",
   "execution_count": 215,
   "id": "3642252b-ea1d-488f-8795-21758d8aeb3d",
   "metadata": {},
   "outputs": [
    {
     "data": {
      "text/plain": [
       "<matplotlib.collections.LineCollection at 0x7fd721943e20>"
      ]
     },
     "execution_count": 215,
     "metadata": {},
     "output_type": "execute_result"
    },
    {
     "data": {
      "image/png": "[encoded data removed]",
      "text/plain": [
       "<Figure size 432x288 with 1 Axes>"
      ]
     },
     "metadata": {},
     "output_type": "display_data"
    }
   ],
   "source": [
    "\n",
    "plt.plot(l)\n",
    "plt.vlines(ps.detectRegion(l,True),ymin=0,ymax=np.max(l))\n"
   ]
  },
  {
   "cell_type": "code",
   "execution_count": 218,
   "id": "66a0af6b-632c-4a63-a26b-159bab78459b",
   "metadata": {},
   "outputs": [
    {
     "data": {
      "text/plain": [
       "<matplotlib.image.AxesImage at 0x7fd7066ec0a0>"
      ]
     },
     "execution_count": 218,
     "metadata": {},
     "output_type": "execute_result"
    },
    {
     "data": {
      "image/png": "[encoded data removed]",
      "text/plain": [
       "<Figure size 432x288 with 1 Axes>"
      ]
     },
     "metadata": {},
     "output_type": "display_data"
    }
   ],
   "source": [
    "params = {\"type\": \"semivar\", \n",
    "          \"si\": si, \n",
    "          \"atol\": setup[\"tolerance_angle\"], \n",
    "          \"dtol\": setup[\"tolerance_distance\"]}\n",
    "\n",
    "\n",
    "sv = np.zeros(luminance.shape)\n",
    "\n",
    "#tell to the class, which object is going to be used to make the semivariogram\n",
    "\n",
    "\n",
    "rG = rg.rGrowing(nonsat2)\n",
    "\n",
    "rG.setParams(params)\n",
    "\n",
    "sv = rG.makeSemivarianceMap(si)\n",
    "\n",
    "plt.imshow(sv)"
   ]
  },
  {
   "cell_type": "code",
   "execution_count": 225,
   "id": "fe7aa414-19ba-4922-858c-febacb6f7d32",
   "metadata": {},
   "outputs": [
    {
     "name": "stdout",
     "output_type": "stream",
     "text": [
      "Flat Means Decrease  True\n"
     ]
    },
    {
     "data": {
      "text/plain": [
       "<matplotlib.image.AxesImage at 0x7fd6d0567c40>"
      ]
     },
     "execution_count": 225,
     "metadata": {},
     "output_type": "execute_result"
    },
    {
     "data": {
      "image/png": "[encoded data removed]",
      "text/plain": [
       "<Figure size 432x288 with 1 Axes>"
      ]
     },
     "metadata": {},
     "output_type": "display_data"
    }
   ],
   "source": [
    "#semivariance mask\n",
    "fmd = True\n",
    "print(\"Flat Means Decrease \", fmd)\n",
    "sm = ps.constructMask(si,sv,fmd)\n",
    "plt.imshow(sm)"
   ]
  },
  {
   "cell_type": "code",
   "execution_count": 120,
   "id": "13950d5c-7323-497f-84e5-8bb4d8bf9590",
   "metadata": {},
   "outputs": [
    {
     "name": "stdout",
     "output_type": "stream",
     "text": [
      "(1, 1)\n",
      "Selct cost functions: \n",
      " 'xor','max' or 'cover'\n",
      "Search Space Boundaries: [[ 0 60]\n",
      " [ 0 52]]\n",
      "__________________________________________________ 0.3% GA is running..."
     ]
    },
    {
     "ename": "KeyboardInterrupt",
     "evalue": "",
     "output_type": "error",
     "traceback": [
      "\u001b[0;31m------------------------------------------------------------------\u001b[0m",
      "\u001b[0;31mKeyboardInterrupt\u001b[0m                Traceback (most recent call last)",
      "Input \u001b[0;32mIn [120]\u001b[0m, in \u001b[0;36m<cell line: 5>\u001b[0;34m()\u001b[0m\n\u001b[1;32m     27\u001b[0m algorithm_parameters \u001b[38;5;241m=\u001b[39m setup[\u001b[38;5;124m\"\u001b[39m\u001b[38;5;124mga_params\u001b[39m\u001b[38;5;124m\"\u001b[39m]\n\u001b[1;32m     28\u001b[0m model\u001b[38;5;241m=\u001b[39mga(function\u001b[38;5;241m=\u001b[39mf,\n\u001b[1;32m     29\u001b[0m          dimension\u001b[38;5;241m=\u001b[39mdim,\n\u001b[1;32m     30\u001b[0m          algorithm_parameters \u001b[38;5;241m=\u001b[39m algorithm_parameters,\n\u001b[1;32m     31\u001b[0m          variable_type\u001b[38;5;241m=\u001b[39m\u001b[38;5;124m'\u001b[39m\u001b[38;5;124mint\u001b[39m\u001b[38;5;124m'\u001b[39m,\n\u001b[1;32m     32\u001b[0m          variable_boundaries\u001b[38;5;241m=\u001b[39mvarbound)\n\u001b[0;32m---> 36\u001b[0m \u001b[43mmodel\u001b[49m\u001b[38;5;241;43m.\u001b[39;49m\u001b[43mrun\u001b[49m\u001b[43m(\u001b[49m\u001b[43m)\u001b[49m\n\u001b[1;32m     37\u001b[0m r2\u001b[38;5;241m.\u001b[39mappend(model\u001b[38;5;241m.\u001b[39moutput_dict[\u001b[38;5;124m\"\u001b[39m\u001b[38;5;124mfunction\u001b[39m\u001b[38;5;124m\"\u001b[39m])\n\u001b[1;32m     38\u001b[0m results2\u001b[38;5;241m.\u001b[39mappend(model\u001b[38;5;241m.\u001b[39moutput_dict[\u001b[38;5;124m\"\u001b[39m\u001b[38;5;124mvariable\u001b[39m\u001b[38;5;124m\"\u001b[39m])\n",
      "File \u001b[0;32m~/anaconda3/envs/MachineLearning/lib/python3.8/site-packages/geneticalgorithm/geneticalgorithm.py:402\u001b[0m, in \u001b[0;36mgeneticalgorithm.run\u001b[0;34m(self)\u001b[0m\n\u001b[1;32m    400\u001b[0m ch1\u001b[38;5;241m=\u001b[39m\u001b[38;5;28mself\u001b[39m\u001b[38;5;241m.\u001b[39mmut(ch1)\n\u001b[1;32m    401\u001b[0m ch2\u001b[38;5;241m=\u001b[39m\u001b[38;5;28mself\u001b[39m\u001b[38;5;241m.\u001b[39mmutmidle(ch2,pvar1,pvar2)               \n\u001b[0;32m--> 402\u001b[0m solo[: \u001b[38;5;28mself\u001b[39m\u001b[38;5;241m.\u001b[39mdim]\u001b[38;5;241m=\u001b[39m\u001b[43mch1\u001b[49m\u001b[38;5;241;43m.\u001b[39;49m\u001b[43mcopy\u001b[49m\u001b[43m(\u001b[49m\u001b[43m)\u001b[49m                \n\u001b[1;32m    403\u001b[0m obj\u001b[38;5;241m=\u001b[39m\u001b[38;5;28mself\u001b[39m\u001b[38;5;241m.\u001b[39msim(ch1)\n\u001b[1;32m    404\u001b[0m solo[\u001b[38;5;28mself\u001b[39m\u001b[38;5;241m.\u001b[39mdim]\u001b[38;5;241m=\u001b[39mobj\n",
      "\u001b[0;31mKeyboardInterrupt\u001b[0m: "
     ]
    }
   ],
   "source": [
    "\n",
    "\n",
    "\n",
    "allc = setup[\"sensitivity_c\"]\n",
    "alls = setup[\"nsensors\"]\n",
    "for i in it.product(allc,alls):\n",
    "    clear_output(wait=False)\n",
    "    c = i[0]\n",
    "    n_sensors = i[1]\n",
    "    print(i)\n",
    "    \n",
    "    \n",
    "    \n",
    "    aptitude = netfit.NetworkFitness(NLTI,EAM,sensitivity,variograms,variograms_m,coords)\n",
    "    aptitude.selectFitnessFunction(\"max\")\n",
    "    f = aptitude.f\n",
    "\n",
    "\n",
    "\n",
    "    #variable ranges, 2 ranges per sensor position (dim*n_sensors) \n",
    "    varbound=np.array([[0,nonsat.shape[0]],[0,nonsat.shape[1]]]*n_sensors)\n",
    "    print(\"Search Space Boundaries:\", varbound)\n",
    "\n",
    "    dim = len(varbound)\n",
    "\n",
    "    #algorithms_parameters={'max_num_iteration': None, 'population_size': 500, 'mutation_probability': 0.1, 'elit_ratio': 0.01, 'crossover_probability': 0.5, 'parents_portion': 0.3, 'crossover_type': 'uniform', 'max_iteration_without_improv': None}\n",
    "#    algorithm_parameters={'max_num_iteration': 1, 'population_size': 2000, 'mutation_probability': 0.1, 'elit_ratio': 0.1, 'crossover_probability': 0.5, 'parents_portion': 0.3, 'crossover_type': 'uniform', 'max_iteration_without_improv': 500}\n",
    "    algorithm_parameters = setup[\"ga_params\"]\n",
    "    model=ga(function=f,\n",
    "             dimension=dim,\n",
    "             algorithm_parameters = algorithm_parameters,\n",
    "             variable_type='int',\n",
    "             variable_boundaries=varbound)\n",
    "\n",
    "    \n",
    "    \n",
    "    model.run()\n",
    "    r2.append(model.output_dict[\"function\"])\n",
    "    results2.append(model.output_dict[\"variable\"])\n",
    "    \n",
    "    res_df= pd.DataFrame(results2)\n",
    "    res_df.to_csv(saveOptimumValuesTofile)\n",
    "\n",
    "    res_df= pd.DataFrame(r2)\n",
    "    res_df.to_csv(saveArgsTofile)"
   ]
  },
  {
   "cell_type": "code",
   "execution_count": 73,
   "id": "15817d28-6a12-4a04-907e-78ff4ed9e7a7",
   "metadata": {},
   "outputs": [
    {
     "data": {
      "text/plain": [
       "7"
      ]
     },
     "execution_count": 73,
     "metadata": {},
     "output_type": "execute_result"
    }
   ],
   "source": [
    "s=[0,1,2,3,4,4,4,4]\n",
    "detectRegion(s,False)\n"
   ]
  },
  {
   "cell_type": "code",
   "execution_count": null,
   "id": "c7650dd5-f4fb-4534-bc2c-7f9964356421",
   "metadata": {},
   "outputs": [],
   "source": [
    "validate_coordinates"
   ]
  }
 ],
 "metadata": {
  "kernelspec": {
   "display_name": "Python 3",
   "language": "python",
   "name": "python3"
  },
  "language_info": {
   "codemirror_mode": {
    "name": "ipython",
    "version": 3
   },
   "file_extension": ".py",
   "mimetype": "text/x-python",
   "name": "python",
   "nbconvert_exporter": "python",
   "pygments_lexer": "ipython3",
   "version": "3.8.13"
  }
 },
 "nbformat": 4,
 "nbformat_minor": 5
}
