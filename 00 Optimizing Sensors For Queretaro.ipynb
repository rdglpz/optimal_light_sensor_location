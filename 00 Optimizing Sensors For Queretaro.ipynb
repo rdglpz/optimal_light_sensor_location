{
 "cells": [
  {
   "cell_type": "code",
   "execution_count": 3,
   "id": "3cbc9de0-fea9-4533-acad-9c82ca4b5766",
   "metadata": {},
   "outputs": [],
   "source": [
    "#Cargando librerías \n",
    "import importlib\n",
    "\n",
    "import matplotlib.pyplot as plt\n",
    "import scipy as sp\n",
    "import numpy as np\n",
    "import pandas as pd\n",
    "\n",
    "import positioning_sensors as ps\n",
    "importlib.reload(ps)\n",
    "\n",
    "import network_fitness as netfit\n",
    "importlib.reload(netfit)\n",
    "\n",
    "from geneticalgorithm import geneticalgorithm as ga\n",
    "\n",
    "from IPython.display import clear_output\n",
    "\n",
    "import itertools as it\n",
    "\n",
    "\n",
    "plt.style.use(\"ggplot\")"
   ]
  },
  {
   "cell_type": "code",
   "execution_count": 5,
   "id": "e3b33eaa-f4e1-4990-b401-6ea54cec2f05",
   "metadata": {},
   "outputs": [
    {
     "name": "stdout",
     "output_type": "stream",
     "text": [
      " W = i*a^(p)\n",
      "Selct cost functions: \n",
      " 'xor','max' or 'cover'\n",
      "Testing Objective Function with the 906 locations is  100.00%\n"
     ]
    }
   ],
   "source": [
    "#cargamos imagenes en luminance e importance\n",
    "ilumina = 'example/inputs/qro_light_th'\n",
    "niveles = 'example/inputs/prioridades'\n",
    "sigma_y = 0.5\n",
    "sigma_x = 0.5\n",
    "sigma = [sigma_y,sigma_x]\n",
    "\n",
    "#Loading precalculated local and directed empirical variograms\n",
    "\n",
    "filesv = \"semivariance_15_05_D.csv\"\n",
    "filesvmask = \"semivariance_15_05_mask_D.csv\"\n",
    "\n",
    "data = pd.read_csv(filesv)\n",
    "data_m = pd.read_csv(filesvmask)\n",
    "variogram_set = np.array(data.iloc[:,3:])\n",
    "variogram_set_m = np.array(data_m.iloc[:,3:])\n",
    "\n",
    "\n",
    "#NLTI: luminance\n",
    "luminance = ps.readIMG(ilumina)\n",
    "\n",
    "#EAM: Environtmental attention map is the importance\n",
    "EAM = ps.readIMG(niveles,invert=True)\n",
    "\n",
    "nonsat,b = ps.desaturate(luminance,th=62)\n",
    "\n",
    "variograms = variogram_set.reshape(len(variogram_set),nonsat.shape[0],nonsat.shape[1])\n",
    "variograms_m = variogram_set_m.reshape(len(variogram_set),nonsat.shape[0],nonsat.shape[1])\n",
    "\n",
    "coords = np.array(data.iloc[:,1:3])\n",
    "\n",
    "NLTI = sp.ndimage.filters.gaussian_filter(nonsat, sigma, mode='constant')\n",
    "NLTI = (NLTI>=22)*NLTI\n",
    "\n",
    "sensitivity = ps.f5(NLTI,EAM,64)\n",
    "aptitude = netfit.NetworkFitness(NLTI,EAM,sensitivity,variograms,variograms_m,coords)\n",
    "aptitude.selectFitnessFunction(\"max\")\n",
    "f = aptitude.f\n",
    "\n",
    "#Testing Objective function: all positions should produce 100%\n",
    "all_coord = ps.get_coords(NLTI>0)\n",
    "X_opt = all_coord.flatten()\n",
    "s = 'Testing Objective Function with the {l} locations is {fitness: 3.2f}%'.format(l=len(all_coord), fitness=-f(X_opt)*100)\n",
    "print(s)\n"
   ]
  },
  {
   "cell_type": "code",
   "execution_count": 8,
   "id": "0340e0cc-939a-45e3-b38d-7594674feac7",
   "metadata": {},
   "outputs": [
    {
     "name": "stdout",
     "output_type": "stream",
     "text": [
      "optimizing for (c,n): (160, 6)\n",
      " W = i*a^(p)\n",
      "Selct cost functions: \n",
      " 'xor','max' or 'cover'\n",
      "Search Space Boundaries: [[ 0 60]\n",
      " [ 0 52]\n",
      " [ 0 60]\n",
      " [ 0 52]\n",
      " [ 0 60]\n",
      " [ 0 52]\n",
      " [ 0 60]\n",
      " [ 0 52]\n",
      " [ 0 60]\n",
      " [ 0 52]\n",
      " [ 0 60]\n",
      " [ 0 52]]\n",
      " The best solution found:                                                                           \n",
      " [33. 31. 35. 15. 31. 38. 36. 25. 38. 25. 21. 14.]\n",
      "\n",
      " Objective function:\n",
      " -0.859874822016327\n"
     ]
    },
    {
     "data": {
      "image/png": "[encoded data removed]",
      "text/plain": [
       "<Figure size 432x288 with 1 Axes>"
      ]
     },
     "metadata": {},
     "output_type": "display_data"
    },
    {
     "name": "stdout",
     "output_type": "stream",
     "text": [
      "\n",
      "Warning: GA is terminated due to the maximum number of iterations without improvement was met!"
     ]
    }
   ],
   "source": [
    "r2 = list([])\n",
    "results = list([])\n",
    "\n",
    "\n",
    "for i in it.product(np.arange(1,17,3)*10,np.arange(1,7)):\n",
    "    clear_output(wait=True)\n",
    "    print(\"optimizing for (c,n)=\", i)\n",
    "    c,n_sensors = i\n",
    "    \n",
    "    #setting the optimization function\n",
    "    \n",
    "    #set the sensitivity map\n",
    "    sensitivity = ps.f5(NLTI,EAM,c)\n",
    "    \n",
    "    #set aptitude\n",
    "    aptitude = netfit.NetworkFitness(NLTI,EAM,sensitivity,variograms,variograms_m,coords)\n",
    "    aptitude.selectFitnessFunction(\"max\")\n",
    "    f = aptitude.f\n",
    "\n",
    "    #variable ranges, 2 ranges per sensor position (dim*n_sensors) \n",
    "    varbound=np.array([[0,nonsat.shape[0]],[0,nonsat.shape[1]]]*n_sensors)\n",
    "    print(\"Search over the Space Boundaries:\", varbound)\n",
    "\n",
    "    dim = len(varbound)            \n",
    "\n",
    "    model=ga(function=f,\n",
    "             dimension=dim,\n",
    "             algorithm_parameters={'max_num_iteration': 2000, 'population_size': 2000, 'mutation_probability': 0.1, 'elit_ratio': 0.01, 'crossover_probability': 0.5, 'parents_portion': 0.3, 'crossover_type': 'uniform', 'max_iteration_without_improv': 50},\n",
    "             variable_type='int',\n",
    "             variable_boundaries=varbound)\n",
    "\n",
    "    \n",
    "    \n",
    "    model.run()\n",
    "    r2.append(model.output_dict[\"function\"])\n",
    "    results.append(model.output_dict[\"variable\"])\n",
    "    "
   ]
  },
  {
   "cell_type": "code",
   "execution_count": 16,
   "id": "23631e45-5015-4e94-a8cb-1575dca62577",
   "metadata": {},
   "outputs": [
    {
     "data": {
      "text/plain": [
       "<matplotlib.image.AxesImage at 0x7fc87155a970>"
      ]
     },
     "execution_count": 16,
     "metadata": {},
     "output_type": "execute_result"
    },
    {
     "data": {
      "image/png": "[encoded data removed]",
      "text/plain": [
       "<Figure size 432x288 with 1 Axes>"
      ]
     },
     "metadata": {},
     "output_type": "display_data"
    }
   ],
   "source": [
    "plt.imshow(aptitude.project(results[1])+NLTI/20)"
   ]
  },
  {
   "cell_type": "code",
   "execution_count": null,
   "id": "ab85b565-884c-4eed-a0a0-c9f752f7c889",
   "metadata": {},
   "outputs": [],
   "source": []
  }
 ],
 "metadata": {
  "kernelspec": {
   "display_name": "Python 3",
   "language": "python",
   "name": "python3"
  },
  "language_info": {
   "codemirror_mode": {
    "name": "ipython",
    "version": 3
   },
   "file_extension": ".py",
   "mimetype": "text/x-python",
   "name": "python",
   "nbconvert_exporter": "python",
   "pygments_lexer": "ipython3",
   "version": "3.8.13"
  }
 },
 "nbformat": 4,
 "nbformat_minor": 5
}
