{
 "cells": [
  {
   "cell_type": "code",
   "execution_count": 743,
   "id": "bdeb3b94-4ce0-4626-99c3-765812722a80",
   "metadata": {},
   "outputs": [],
   "source": [
    "#Cargando librerías \n",
    "import importlib\n",
    "\n",
    "import matplotlib.pyplot as plt\n",
    "import scipy as sp\n",
    "import numpy as np\n",
    "import pandas as pd\n",
    "\n",
    "import positioning_sensors as ps\n",
    "importlib.reload(ps)\n",
    "\n",
    "import network_fitness as netfit\n",
    "importlib.reload(netfit)\n",
    "\n",
    "from geneticalgorithm import geneticalgorithm as ga\n",
    "\n",
    "plt.style.use(\"ggplot\")"
   ]
  },
  {
   "cell_type": "code",
   "execution_count": 744,
   "id": "9828b37f-3af4-4ee7-bfac-fa3eb2ea38bc",
   "metadata": {},
   "outputs": [
    {
     "name": "stdout",
     "output_type": "stream",
     "text": [
      " W = i*a^(p)\n",
      "Selct cost functions: \n",
      " 'xor','max' or 'cover'\n"
     ]
    },
    {
     "data": {
      "text/plain": [
       "<matplotlib.image.AxesImage at 0x7f8a776eb080>"
      ]
     },
     "execution_count": 744,
     "metadata": {},
     "output_type": "execute_result"
    },
    {
     "data": {
      "image/png": "[encoded data removed]",
      "text/plain": [
       "<Figure size 432x288 with 1 Axes>"
      ]
     },
     "metadata": {},
     "output_type": "display_data"
    }
   ],
   "source": [
    "#cargamos imagenes en luminance e importance\n",
    "ilumina = 'example/inputs/qro_light_th'\n",
    "niveles = 'example/inputs/prioridades'\n",
    "sigma_y = 0.5\n",
    "sigma_x = 0.5\n",
    "sigma = [sigma_y,sigma_x]\n",
    "\n",
    "#Loading precalculated local and directed empirical variograms\n",
    "data = pd.read_csv(\"th100_atol_15_dirdelta_1.csv\")\n",
    "variogram_set = np.array(data.iloc[:,3:])\n",
    "variograms = variogram_set.reshape(len(variogram_set),nonsat.shape[0],nonsat.shape[1])\n",
    "coords = np.array(data.iloc[:,1:3])\n",
    "\n",
    "#NLTI: luminance\n",
    "luminance = ps.readIMG(ilumina)\n",
    "\n",
    "#EAM: Environtmental attention map is the importance\n",
    "EAM = ps.readIMG(niveles,invert=True)\n",
    "#EAM[37][23]+=1\n",
    "\n",
    "nonsat = ps.desaturate(luminance,th=62)\n",
    "NLTI = sp.ndimage.filters.gaussian_filter(nonsat, sigma, mode='constant')\n",
    "sensitivity = ps.f5(NLTI,EAM,15)\n",
    "\n",
    "\n",
    "aptitude = netfit.NetworkFitness(NLTI,EAM,sensitivity,variograms,coords)\n",
    "\n",
    "\n",
    "aptitude.selectFitnessFunction(\"max\")\n",
    "f = aptitude.f\n",
    "\n",
    "X = np.array([37,23])\n",
    "f(X)\n",
    "\n",
    "plt.imshow(sensitivity)"
   ]
  },
  {
   "cell_type": "code",
   "execution_count": 745,
   "id": "db9cfa69-c318-4522-a164-bc92d2fb3c68",
   "metadata": {},
   "outputs": [
    {
     "name": "stdout",
     "output_type": "stream",
     "text": [
      "Search Space Boundaries: [[ 0 60]\n",
      " [ 0 52]\n",
      " [ 0 60]\n",
      " [ 0 52]\n",
      " [ 0 60]\n",
      " [ 0 52]\n",
      " [ 0 60]\n",
      " [ 0 52]\n",
      " [ 0 60]\n",
      " [ 0 52]]\n",
      " The best solution found:                                                                           \n",
      " [27. 25. 37. 23. 38. 23. 39. 25. 21. 16.]\n",
      "\n",
      " Objective function:\n",
      " -17747986.456348155\n"
     ]
    },
    {
     "data": {
      "image/png": "[encoded data removed]",
      "text/plain": [
       "<Figure size 432x288 with 1 Axes>"
      ]
     },
     "metadata": {},
     "output_type": "display_data"
    }
   ],
   "source": [
    "n_sensors = 5\n",
    "\n",
    "#variable ranges, 2 ranges per sensor position (dim*n_sensors) \n",
    "varbound=np.array([[0,nonsat.shape[0]],[0,nonsat.shape[1]]]*n_sensors)\n",
    "print(\"Search Space Boundaries:\", varbound)\n",
    "\n",
    "dim = len(varbound)\n",
    "\n",
    "#algorithms_parameters={'max_num_iteration': None, 'population_size': 500, 'mutation_probability': 0.1, 'elit_ratio': 0.01, 'crossover_probability': 0.5, 'parents_portion': 0.3, 'crossover_type': 'uniform', 'max_iteration_without_improv': None}\n",
    "\n",
    "model=ga(function=f,\n",
    "         dimension=dim,\n",
    "         algorithm_parameters={'max_num_iteration': None, 'population_size': 1000, 'mutation_probability': 0.1, 'elit_ratio': 0.01, 'crossover_probability': 0.5, 'parents_portion': 0.3, 'crossover_type': 'uniform', 'max_iteration_without_improv': None},\n",
    "         variable_type='int',\n",
    "         variable_boundaries=varbound)\n",
    "\n",
    "model.run()"
   ]
  },
  {
   "cell_type": "code",
   "execution_count": 746,
   "id": "e5d96369-a909-4ebb-ab55-adfb19b5f034",
   "metadata": {},
   "outputs": [
    {
     "data": {
      "image/png": "[encoded data removed]",
      "text/plain": [
       "<Figure size 432x288 with 1 Axes>"
      ]
     },
     "metadata": {},
     "output_type": "display_data"
    }
   ],
   "source": [
    "X = model.output_dict[\"variable\"]\n",
    "\n",
    "plt.imshow(aptitude.showPositions(X))\n",
    "plt.show()"
   ]
  },
  {
   "cell_type": "code",
   "execution_count": null,
   "id": "db6dcf0d-80c5-4ab6-96c8-83ead2889126",
   "metadata": {},
   "outputs": [],
   "source": []
  },
  {
   "cell_type": "code",
   "execution_count": null,
   "id": "23014afa-3845-4580-aa2b-38f73a693eb9",
   "metadata": {},
   "outputs": [],
   "source": []
  },
  {
   "cell_type": "code",
   "execution_count": null,
   "id": "e4932242-e1f6-4d94-9e25-cf63599eb972",
   "metadata": {},
   "outputs": [],
   "source": []
  },
  {
   "cell_type": "code",
   "execution_count": 639,
   "id": "43d39d28-9fc6-4d11-867f-53316c8e1369",
   "metadata": {},
   "outputs": [
    {
     "data": {
      "text/plain": [
       "array([38., 26., 34., 23.])"
      ]
     },
     "execution_count": 639,
     "metadata": {},
     "output_type": "execute_result"
    }
   ],
   "source": []
  },
  {
   "cell_type": "code",
   "execution_count": 731,
   "id": "d5b3eb15-47be-4f6d-a846-4823176b82ec",
   "metadata": {},
   "outputs": [
    {
     "data": {
      "text/plain": [
       "<matplotlib.image.AxesImage at 0x7f8a7721e5f8>"
      ]
     },
     "execution_count": 731,
     "metadata": {},
     "output_type": "execute_result"
    },
    {
     "data": {
      "image/png": "[encoded data removed]",
      "text/plain": [
       "<Figure size 432x288 with 1 Axes>"
      ]
     },
     "metadata": {},
     "output_type": "display_data"
    }
   ],
   "source": [
    "ix = aptitude.validate_coordinates(X[5],X[6])\n",
    "plt.imshow(((variograms[ix][0]<=2)*1*(variograms[ix][0]>0)*1)*EAM  )"
   ]
  },
  {
   "cell_type": "code",
   "execution_count": 653,
   "id": "a1d83b52-0b6b-4e91-9490-64a8c97a0819",
   "metadata": {},
   "outputs": [
    {
     "data": {
      "text/plain": [
       "array([[1, 1, 1, ..., 1, 1, 1],\n",
       "       [1, 1, 1, ..., 1, 1, 1],\n",
       "       [1, 1, 1, ..., 1, 1, 1],\n",
       "       ...,\n",
       "       [1, 1, 1, ..., 1, 1, 1],\n",
       "       [1, 1, 1, ..., 1, 1, 1],\n",
       "       [1, 1, 1, ..., 1, 1, 1]])"
      ]
     },
     "execution_count": 653,
     "metadata": {},
     "output_type": "execute_result"
    }
   ],
   "source": [
    "((variograms[ix][0]<=2)*1+(variograms[ix][0]>0)*1)"
   ]
  },
  {
   "cell_type": "code",
   "execution_count": 622,
   "id": "fc2c3a1a-5232-462c-95c5-75f7bc170910",
   "metadata": {},
   "outputs": [
    {
     "data": {
      "text/plain": [
       "[<matplotlib.lines.Line2D at 0x7f8a71b83320>]"
      ]
     },
     "execution_count": 622,
     "metadata": {},
     "output_type": "execute_result"
    },
    {
     "data": {
      "image/png": "[encoded data removed]",
      "text/plain": [
       "<Figure size 432x288 with 1 Axes>"
      ]
     },
     "metadata": {},
     "output_type": "display_data"
    }
   ],
   "source": [
    "plt.plot(variograms[ix][0][29][14:22]>2)"
   ]
  },
  {
   "cell_type": "code",
   "execution_count": 715,
   "id": "de881ca6-3c90-4129-a823-79c9d568032d",
   "metadata": {},
   "outputs": [
    {
     "data": {
      "text/plain": [
       "<matplotlib.image.AxesImage at 0x7f8bd6399710>"
      ]
     },
     "execution_count": 715,
     "metadata": {},
     "output_type": "execute_result"
    },
    {
     "data": {
      "image/png": "[encoded data removed]",
      "text/plain": [
       "<Figure size 432x288 with 1 Axes>"
      ]
     },
     "metadata": {},
     "output_type": "display_data"
    }
   ],
   "source": [
    "plt.imshow(variograms[ix][0]*(variograms[ix][0]<=2))"
   ]
  },
  {
   "cell_type": "code",
   "execution_count": 691,
   "id": "258f957e-eebf-443d-8069-8c038134b90a",
   "metadata": {},
   "outputs": [
    {
     "data": {
      "text/plain": [
       "<matplotlib.image.AxesImage at 0x7f8a76c68c50>"
      ]
     },
     "execution_count": 691,
     "metadata": {},
     "output_type": "execute_result"
    },
    {
     "data": {
      "image/png": "[encoded data removed]",
      "text/plain": [
       "<Figure size 432x288 with 1 Axes>"
      ]
     },
     "metadata": {},
     "output_type": "display_data"
    }
   ],
   "source": [
    "plt.imshow(variograms[ix][0]*(variograms[ix][0])>0)"
   ]
  },
  {
   "cell_type": "code",
   "execution_count": 608,
   "id": "ad45f11d-e2dc-40d9-8e46-5ab8030d50c6",
   "metadata": {},
   "outputs": [
    {
     "data": {
      "text/plain": [
       "2368.8499693752537"
      ]
     },
     "execution_count": 608,
     "metadata": {},
     "output_type": "execute_result"
    }
   ],
   "source": [
    "nonsat[29][21]**2/2"
   ]
  },
  {
   "cell_type": "code",
   "execution_count": 609,
   "id": "4134b06d-c1a9-4b6e-8231-4f07763a4f67",
   "metadata": {},
   "outputs": [
    {
     "data": {
      "text/plain": [
       "2358.4547110805825"
      ]
     },
     "execution_count": 609,
     "metadata": {},
     "output_type": "execute_result"
    }
   ],
   "source": [
    "np.max(variograms[ix][0][29][:])"
   ]
  },
  {
   "cell_type": "code",
   "execution_count": 289,
   "id": "06d199c4-663c-42c5-b3f9-067f19a54d33",
   "metadata": {},
   "outputs": [
    {
     "data": {
      "image/png": "[encoded data removed]",
      "text/plain": [
       "<Figure size 432x288 with 1 Axes>"
      ]
     },
     "metadata": {},
     "output_type": "display_data"
    }
   ],
   "source": [
    "ix = 200\n",
    "\n",
    "pi = NLTI[coords[ix][0]][coords[ix][1]]\n",
    "\n",
    "\n",
    "tvar = variograms[ix]\n",
    "outofrange = (tvar==0)*(pi**2/2)\n",
    "plt.imshow(outofrange)\n",
    "\n",
    "#we have 0 variation in the location of the sensor\n",
    "tvar[coords[ix][0]][coords[ix][1]]=0"
   ]
  },
  {
   "cell_type": "code",
   "execution_count": 294,
   "id": "ce6b47ed-88a0-4810-baef-7eb5556b9df5",
   "metadata": {},
   "outputs": [
    {
     "data": {
      "text/plain": [
       "<matplotlib.image.AxesImage at 0x7f8bf3ea37f0>"
      ]
     },
     "execution_count": 294,
     "metadata": {},
     "output_type": "execute_result"
    },
    {
     "data": {
      "image/png": "[encoded data removed]",
      "text/plain": [
       "<Figure size 432x288 with 1 Axes>"
      ]
     },
     "metadata": {},
     "output_type": "display_data"
    }
   ],
   "source": [
    "M = tvar+outofrange\n",
    "plt.imshow(M)"
   ]
  },
  {
   "cell_type": "code",
   "execution_count": 310,
   "id": "072bd404-fe72-49c9-8682-1114e7376a21",
   "metadata": {},
   "outputs": [
    {
     "data": {
      "text/plain": [
       "<matplotlib.image.AxesImage at 0x7f8bf419e7b8>"
      ]
     },
     "execution_count": 310,
     "metadata": {},
     "output_type": "execute_result"
    },
    {
     "data": {
      "image/png": "[encoded data removed]",
      "text/plain": [
       "<Figure size 432x288 with 1 Axes>"
      ]
     },
     "metadata": {},
     "output_type": "display_data"
    }
   ],
   "source": [
    "lb = pi**2/2\n",
    "normalizedMap = (-M+lb)/lb\n",
    "plt.imshow(normalizedMap)"
   ]
  },
  {
   "cell_type": "code",
   "execution_count": null,
   "id": "077bf02f-90a0-4fee-b92e-ab05dc14a6a9",
   "metadata": {},
   "outputs": [],
   "source": []
  },
  {
   "cell_type": "code",
   "execution_count": null,
   "id": "5c9b4cad-b455-4fe4-8035-069d9b09782e",
   "metadata": {},
   "outputs": [],
   "source": []
  },
  {
   "cell_type": "code",
   "execution_count": null,
   "id": "81654bc0-6125-4c1e-bd0e-30419d27aabb",
   "metadata": {},
   "outputs": [],
   "source": []
  },
  {
   "cell_type": "code",
   "execution_count": null,
   "id": "24a6c60a-852e-4d3a-b1cf-d5d71691d833",
   "metadata": {},
   "outputs": [],
   "source": [
    "\n",
    "\n"
   ]
  },
  {
   "cell_type": "code",
   "execution_count": 275,
   "id": "291c5531-5d21-482b-9963-86960b4a47a4",
   "metadata": {},
   "outputs": [
    {
     "data": {
      "text/plain": [
       "<matplotlib.image.AxesImage at 0x7f8bf331e7b8>"
      ]
     },
     "execution_count": 275,
     "metadata": {},
     "output_type": "execute_result"
    },
    {
     "data": {
      "image/png": "[encoded data removed]",
      "text/plain": [
       "<Figure size 432x288 with 1 Axes>"
      ]
     },
     "metadata": {},
     "output_type": "display_data"
    }
   ],
   "source": [
    "V = tvar+outofrange\n",
    "-V+\n",
    "plt.imshow(V)"
   ]
  },
  {
   "cell_type": "code",
   "execution_count": null,
   "id": "3527c241-26de-4c1d-bf14-a28ea3e2872d",
   "metadata": {},
   "outputs": [],
   "source": [
    "m = np.max(sensitivity)\n",
    "plt.plot(np.arange(0,m,1))\n",
    "plt.plot(np.arange(0,m,1)**4)\n",
    "plt.plot(np.arange(0,m,1)**3)\n",
    "plt.plot(np.arange(0,m,1)**2)\n",
    "plt.plot(np.arange(0,m,1)**1)"
   ]
  },
  {
   "cell_type": "code",
   "execution_count": 460,
   "id": "50f340cd-aef0-48cf-b815-2bad3cbed045",
   "metadata": {},
   "outputs": [
    {
     "data": {
      "text/plain": [
       "array([[37, 23]])"
      ]
     },
     "execution_count": 460,
     "metadata": {},
     "output_type": "execute_result"
    }
   ],
   "source": [
    "np.argwhere(sensitivity==np.max(sensitivity))"
   ]
  },
  {
   "cell_type": "code",
   "execution_count": 467,
   "id": "8ee522db-a14c-4676-a002-ee8616b2b596",
   "metadata": {},
   "outputs": [
    {
     "data": {
      "text/plain": [
       "3.446784628160252e+18"
      ]
     },
     "execution_count": 467,
     "metadata": {},
     "output_type": "execute_result"
    }
   ],
   "source": [
    "sensitivity[38][24]"
   ]
  },
  {
   "cell_type": "code",
   "execution_count": 468,
   "id": "31f42a2b-f51c-41f1-81d8-430823aff6a6",
   "metadata": {},
   "outputs": [
    {
     "data": {
      "text/plain": [
       "4.3290424569792205e+18"
      ]
     },
     "execution_count": 468,
     "metadata": {},
     "output_type": "execute_result"
    }
   ],
   "source": [
    "sensitivity[37][23]"
   ]
  },
  {
   "cell_type": "code",
   "execution_count": 485,
   "id": "407d6d57-a953-4711-adb7-b2efb98deb9b",
   "metadata": {},
   "outputs": [
    {
     "data": {
      "text/plain": [
       "4.0"
      ]
     },
     "execution_count": 485,
     "metadata": {},
     "output_type": "execute_result"
    }
   ],
   "source": [
    "importance[37][23]=+1"
   ]
  },
  {
   "cell_type": "code",
   "execution_count": 553,
   "id": "47149825-522b-453d-ac51-2d6c79fc9a6e",
   "metadata": {},
   "outputs": [
    {
     "data": {
      "text/plain": [
       "[<matplotlib.lines.Line2D at 0x7f8a724ad780>]"
      ]
     },
     "execution_count": 553,
     "metadata": {},
     "output_type": "execute_result"
    },
    {
     "data": {
      "image/png": "[encoded data removed]",
      "text/plain": [
       "<Figure size 432x288 with 1 Axes>"
      ]
     },
     "metadata": {},
     "output_type": "display_data"
    }
   ],
   "source": [
    "plt.plot(np.arange(0,1+0.1,0.1)**2)"
   ]
  },
  {
   "cell_type": "code",
   "execution_count": 684,
   "id": "a73697dc-a051-47ee-b346-b9fe32795554",
   "metadata": {},
   "outputs": [
    {
     "data": {
      "text/plain": [
       "<matplotlib.image.AxesImage at 0x7f8a767735c0>"
      ]
     },
     "execution_count": 684,
     "metadata": {},
     "output_type": "execute_result"
    },
    {
     "data": {
      "image/png": "[encoded data removed]",
      "text/plain": [
       "<Figure size 432x288 with 1 Axes>"
      ]
     },
     "metadata": {},
     "output_type": "display_data"
    }
   ],
   "source": [
    "plt.imshow(NLTI)"
   ]
  },
  {
   "cell_type": "code",
   "execution_count": 696,
   "id": "3ad3d4ca-c3d0-4659-ab47-26c727b7c378",
   "metadata": {},
   "outputs": [],
   "source": [
    "sample = [1,3,6,9,10]\n",
    "distance = np.arange(1,6,1)"
   ]
  },
  {
   "cell_type": "code",
   "execution_count": 697,
   "id": "1af8e763-5845-4f14-a859-f25d4321bf5c",
   "metadata": {},
   "outputs": [
    {
     "data": {
      "text/plain": [
       "array([1, 2, 3, 4, 5])"
      ]
     },
     "execution_count": 697,
     "metadata": {},
     "output_type": "execute_result"
    }
   ],
   "source": [
    "distance"
   ]
  },
  {
   "cell_type": "code",
   "execution_count": 698,
   "id": "ef4ce399-934f-45e3-805f-845e4ba370c4",
   "metadata": {},
   "outputs": [
    {
     "data": {
      "text/plain": [
       "array([1.        , 0.75      , 0.66666667, 0.5625    , 0.4       ])"
      ]
     },
     "execution_count": 698,
     "metadata": {},
     "output_type": "execute_result"
    }
   ],
   "source": [
    "sample/(distance**2)"
   ]
  },
  {
   "cell_type": "markdown",
   "id": "18183b7d-8da5-4046-abb3-f3e7bf4ce481",
   "metadata": {},
   "source": [
    "# mapas importantes para mostrar\n",
    "1. Posiciones en el NLTI\n",
    "2. Regiones por sensor y área cubierta total suma de areas por sensor.\n",
    "3. posiciones en el EAM\n",
    "4. posiciones en Sensitivity\n",
    "\n",
    "\n",
    "apt.showSolution(X)"
   ]
  }
 ],
 "metadata": {
  "kernelspec": {
   "display_name": "Python 3",
   "language": "python",
   "name": "python3"
  },
  "language_info": {
   "codemirror_mode": {
    "name": "ipython",
    "version": 3
   },
   "file_extension": ".py",
   "mimetype": "text/x-python",
   "name": "python",
   "nbconvert_exporter": "python",
   "pygments_lexer": "ipython3",
   "version": "3.7.0"
  }
 },
 "nbformat": 4,
 "nbformat_minor": 5
}
