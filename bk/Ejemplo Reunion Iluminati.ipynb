{
 "cells": [
  {
   "cell_type": "markdown",
   "metadata": {},
   "source": [
    "Avances de resultados estrategia para la localización Óptima de Sensores de Contaminación Lumínica"
   ]
  },
  {
   "cell_type": "code",
   "execution_count": 7,
   "metadata": {},
   "outputs": [],
   "source": [
    "#!pip install scikit-image"
   ]
  },
  {
   "cell_type": "code",
   "execution_count": 8,
   "metadata": {},
   "outputs": [],
   "source": [
    "from PIL import Image\n",
    "                    \n",
    "import numpy as np\n",
    "\n",
    "#from noisyopt import minimizeCompass\n",
    "\n",
    "from sortedcontainers import SortedList\n",
    "\n",
    "import pandas as pd\n",
    "\n",
    "import matplotlib.pyplot as plt\n",
    "import matplotlib.cbook as cbook\n",
    "from matplotlib.pylab import rcParams\n",
    "#from matplotlib_scalebar.scalebar import ScaleBar\n",
    "from matplotlib.colors import ListedColormap, LinearSegmentedColormap\n",
    "from matplotlib import cm\n",
    "import matplotlib.patches as mpatches\n",
    "from matplotlib.pyplot import figure\n",
    "\n",
    "from skimage.feature import peak_local_max\n",
    "\n",
    "from skimage.segmentation import watershed\n",
    "\n",
    "from scipy import ndimage as ndi\n"
   ]
  },
  {
   "cell_type": "code",
   "execution_count": 9,
   "metadata": {},
   "outputs": [
    {
     "data": {
      "text/plain": [
       "<module 'positioning_sensors' from '/Users/rodrigo/SourceCodes/git/optimal_light_sensor_location/bk/positioning_sensors.py'>"
      ]
     },
     "execution_count": 9,
     "metadata": {},
     "output_type": "execute_result"
    }
   ],
   "source": [
    "import importlib\n",
    "\n",
    "import positioning_sensors as ps\n",
    "importlib.reload(ps)"
   ]
  },
  {
   "cell_type": "code",
   "execution_count": 10,
   "metadata": {},
   "outputs": [],
   "source": [
    "def f5(i,p,e=4):\n",
    "    '''\n",
    "    Pesos exponenciales\n",
    "    \n",
    "    W = i*a^(p-r)\n",
    "    '''\n",
    "    return i*e**(p)\n",
    "\n",
    "def getN(W,i,j):\n",
    "    ln = ([])\n",
    "    c = W[i,j]\n",
    "    ln.append(W[i+1,j])\n",
    "    ln.append(W[i-1,j])\n",
    "    ln.append(W[i-1,j-1])\n",
    "    ln.append(W[i-1,j+1])\n",
    "    ln.append(W[i+1,j+1])\n",
    "    ln.append(W[i+1,j-1])\n",
    "    ln.append(W[i,j+1])\n",
    "    ln.append(W[i,j-1])\n",
    "    opt = False if W[i,j]<max(ln) else True\n",
    "    return opt\n",
    "\n",
    "def fuerza_puntual(x,y,im2,h=2,e=2):\n",
    "    '''\n",
    "    this does not make sense if we have corrected verions solving the saturarion image problem\n",
    "    \n",
    "    '''\n",
    "    s = 0.0 \n",
    "    g1 = float(im2[x][y])\n",
    "    xlb = 0 if(x-h)<0 else x-h\n",
    "    xub = im2.shape[0] if(x+h)> im2.shape[0] else x+h\n",
    "    \n",
    "    ylb = 0 if(y-h)<0 else y-h\n",
    "    yub = im2.shape[1] if(y+h)> (im2.shape[1]) else y+h \n",
    "    \n",
    "    ri = np.arange(xlb,xub)\n",
    "    rj = np.arange(ylb,yub)\n",
    "    for i in ri:\n",
    "        for j in rj:\n",
    "            d=((i-x)**2+(j-y)**2)**(0.5)\n",
    "            g2 = float(im2[i][j])\n",
    "            if d >0: s += (g1*g2)/(d**e)\n",
    "    return s\n",
    "\n",
    "def filtro_fuerza_puntual(A,h=3,e=2):\n",
    "    pot1 = np.zeros(A.shape)\n",
    "    for i in range(pot1.shape[0]):\n",
    "        for j in range(pot1.shape[1]):\n",
    "            pot1[i][j] = fuerza_puntual(i,j,A,h,e)\n",
    "            \n",
    "    return pot1\n",
    "\n",
    "\n",
    "def plot_examples(data,colormaps,filename):\n",
    "    \"\"\"\n",
    "    Helper function to plot data with associated colormap.\n",
    "    \"\"\"\n",
    "    n = len(colormaps)\n",
    "    #fig, axs = plt.subplots(1, n, figsize=(n * 2 + 2, 3),\n",
    "    #                        constrained_layout=False, squeeze=False)\n",
    "    fig, axs = plt.subplots(1, n, figsize=(6, 5.2),constrained_layout=False, squeeze=False)\n",
    "   \n",
    "    scalebar = ScaleBar(1000) # 1 pixel = 0.2 meter\n",
    "    plt.gca().add_artist(scalebar)\n",
    "    for [ax, cmap] in zip(axs.flat, colormaps):\n",
    "        ax.get_xaxis().set_visible(False)\n",
    "        ax.get_yaxis().set_visible(False)\n",
    "        psm = ax.pcolormesh(np.flip(data,0), cmap=cmap, rasterized=False, vmin=0, vmax=data.max())\n",
    "        fig.colorbar(psm, ax=ax)\n",
    "    \n",
    "    \n",
    "\n",
    "    plt.savefig(filename, dpi = 150)\n",
    "\n",
    "def getMax(img):\n",
    "    B = np.zeros(img.shape)\n",
    "    for i in range(1,B.shape[0]-1):\n",
    "        for j in range(1,B.shape[1]-1):\n",
    "            B[i][j] = getN(img,i,j)\n",
    "    \n",
    "    positionsB = B*(img>0)\n",
    "    locationsP = np.zeros(nonsat.shape)\n",
    "    for i in range(0,nonsat.shape[0]):\n",
    "        for j in range(0,nonsat.shape[1]):\n",
    "            locationsP[i][j] = 8 if positionsB[i][j]==1 else P[i,j]\n",
    "    \n",
    "    \n",
    "    return positionsB\n",
    "\n",
    "def get_coords(seeds):\n",
    "    coords = np.array([[0,0]])\n",
    "    for i in range(0,seeds.shape[0]):\n",
    "        for j in range(0,seeds.shape[1]):\n",
    "            if seeds[i,j]!=0:\n",
    "                coords = np.append(coords,[[i,j]],axis=0)\n",
    "    return coords\n",
    "\n",
    "custom_cmap = cm.get_cmap('hot', 256)\n",
    "newcolors = custom_cmap(np.linspace(0, 1, 256))\n",
    "pink = np.array([200/256, 200/256, 200/256, 1])\n",
    "newcolors[:1, :] = pink\n",
    "newcmp = ListedColormap(newcolors)"
   ]
  },
  {
   "cell_type": "markdown",
   "metadata": {},
   "source": [
    "Carga de imágenes"
   ]
  },
  {
   "cell_type": "code",
   "execution_count": 12,
   "metadata": {},
   "outputs": [],
   "source": [
    "#Original nocturnal image without values <21\n",
    "im1 = np.array(Image.open('../example/inputs/qro_light_th'))\n",
    "im1 = np.where(im1==255, 0, im1) \n",
    "\n",
    "#Region priorities of Jorge and Lamphar\n",
    "P = np.array(Image.open('../example/inputs/prioridades'))\n",
    "\n",
    "#calcular este valor automaticamente\n",
    "nc = 5\n",
    "\n",
    "# 0 máxima prioridad\n",
    "# 4 mínima prioridad (antes espacio nan)\n",
    "P = np.where(np.isnan(P),nc, P)-1 \n",
    "P = P.max()-P\n",
    "\n",
    "\n",
    "im1_gr = filtro_fuerza_puntual(im1,h=3,e=4)\n",
    "\n",
    "W1 = f5(im1,P)\n",
    "W2 = f5(im1_gr,P)\n"
   ]
  },
  {
   "cell_type": "markdown",
   "metadata": {},
   "source": [
    "# Transformada de la distancia en la región saturada. Usamos esta en vez de la transformación que nos inventamos"
   ]
  },
  {
   "cell_type": "code",
   "execution_count": 13,
   "metadata": {},
   "outputs": [
    {
     "data": {
      "text/plain": [
       "<matplotlib.image.AxesImage at 0x7ff654fb7ba8>"
      ]
     },
     "execution_count": 13,
     "metadata": {},
     "output_type": "execute_result"
    },
    {
     "data": {
      "image/png": "[encoded data removed]",
      "text/plain": [
       "<Figure size 432x288 with 1 Axes>"
      ]
     },
     "metadata": {
      "needs_background": "light"
     },
     "output_type": "display_data"
    }
   ],
   "source": [
    "\n",
    "plt.imshow(im1)"
   ]
  },
  {
   "cell_type": "code",
   "execution_count": 14,
   "metadata": {},
   "outputs": [
    {
     "data": {
      "text/plain": [
       "<matplotlib.image.AxesImage at 0x7ff655190668>"
      ]
     },
     "execution_count": 14,
     "metadata": {},
     "output_type": "execute_result"
    },
    {
     "data": {
      "image/png": "[encoded data removed]",
      "text/plain": [
       "<Figure size 432x288 with 1 Axes>"
      ]
     },
     "metadata": {
      "needs_background": "light"
     },
     "output_type": "display_data"
    }
   ],
   "source": [
    "th = 62\n",
    "\n",
    "image = im1>=th\n",
    "\n",
    "distance = ndi.distance_transform_edt(image)\n",
    "\n",
    "plt.imshow(distance)"
   ]
  },
  {
   "cell_type": "code",
   "execution_count": 15,
   "metadata": {},
   "outputs": [
    {
     "data": {
      "text/plain": [
       "<matplotlib.image.AxesImage at 0x7ff6552ce198>"
      ]
     },
     "execution_count": 15,
     "metadata": {},
     "output_type": "execute_result"
    },
    {
     "data": {
      "image/png": "[encoded data removed]",
      "text/plain": [
       "<Figure size 432x288 with 1 Axes>"
      ]
     },
     "metadata": {
      "needs_background": "light"
     },
     "output_type": "display_data"
    }
   ],
   "source": [
    "#Sustituimos la parte saturada en la imagen original.\n",
    "nons = (im1>=th)*im1\n",
    "\n",
    "nonsat = im1+(distance)\n",
    "plt.imshow(nonsat)"
   ]
  },
  {
   "cell_type": "code",
   "execution_count": 16,
   "metadata": {},
   "outputs": [
    {
     "data": {
      "text/plain": [
       "[<matplotlib.lines.Line2D at 0x7ff655108710>]"
      ]
     },
     "execution_count": 16,
     "metadata": {},
     "output_type": "execute_result"
    },
    {
     "data": {
      "image/png": "[encoded data removed]",
      "text/plain": [
       "<Figure size 432x288 with 1 Axes>"
      ]
     },
     "metadata": {
      "needs_background": "light"
     },
     "output_type": "display_data"
    }
   ],
   "source": [
    "# Ejemplo Sección desaturada vs original saturada fila 34\n",
    "\n",
    "plt.plot(nonsat[30,:])\n",
    "plt.plot(im1[30,:])"
   ]
  },
  {
   "cell_type": "markdown",
   "metadata": {},
   "source": [
    "**Watershed Segmentation** define una región sin minimos \n"
   ]
  },
  {
   "cell_type": "code",
   "execution_count": 17,
   "metadata": {},
   "outputs": [
    {
     "data": {
      "text/plain": [
       "<matplotlib.lines.Line2D at 0x7ff650b107f0>"
      ]
     },
     "execution_count": 17,
     "metadata": {},
     "output_type": "execute_result"
    },
    {
     "data": {
      "image/png": "[encoded data removed]",
      "text/plain": [
       "<Figure size 432x288 with 1 Axes>"
      ]
     },
     "metadata": {
      "needs_background": "light"
     },
     "output_type": "display_data"
    }
   ],
   "source": [
    "#  hacemos la analogia del mapa de NTI con la de una cuenca\n",
    "plt.plot(-nonsat[30,:])\n",
    "plt.axhline(y=-41, color='r', linestyle='--')\n",
    "\n",
    "#region definida por watershed\n",
    "plt.axvline(x=22-4, color='b', linestyle='--')\n",
    "plt.axvline(x=22+11, color='b', linestyle='--')\n",
    "\n",
    "#region definida por la tolerancia de las variaciones con respecto a la intensidad asociada a la ubicacion del sensor\n",
    "plt.axvline(x=14, color='grey', linestyle='--')\n",
    "plt.axvline(x=29, color='grey', linestyle='--')\n",
    "\n",
    "\n",
    "\n",
    "#valor maximo local, donde estaría ubicado el sensor\n",
    "plt.axvline(x=22, color='g', linestyle='--')\n",
    "\n",
    "#plt.plot(-im1[34,:])"
   ]
  },
  {
   "cell_type": "markdown",
   "metadata": {},
   "source": [
    "Identificar Picos de la imagen sin las clases P"
   ]
  },
  {
   "cell_type": "code",
   "execution_count": 18,
   "metadata": {},
   "outputs": [
    {
     "data": {
      "text/plain": [
       "<matplotlib.image.AxesImage at 0x7ff650ab15c0>"
      ]
     },
     "execution_count": 18,
     "metadata": {},
     "output_type": "execute_result"
    },
    {
     "data": {
      "image/png": "[encoded data removed]",
      "text/plain": [
       "<Figure size 432x288 with 1 Axes>"
      ]
     },
     "metadata": {
      "needs_background": "light"
     },
     "output_type": "display_data"
    }
   ],
   "source": [
    "seeds = getMax(nonsat)\n",
    "plt.imshow(seeds*20+nonsat)"
   ]
  },
  {
   "cell_type": "markdown",
   "metadata": {},
   "source": [
    "#seeds is a bidim matrix with true labels in seeds\n",
    "coords = get_coords(seeds) \n",
    "\n",
    "mask = np.zeros(im1.shape, dtype=bool)\n",
    "mask[tuple(coords.T)] = True\n",
    "\n",
    "markers, _ = ndi.label(mask)\n",
    "labels = watershed(-nonsat, markers, mask=im1)\n",
    "\n",
    "figure(figsize=(10, 10), dpi=80)\n",
    "plt.imshow(labels+seeds*10)"
   ]
  },
  {
   "cell_type": "code",
   "execution_count": null,
   "metadata": {},
   "outputs": [],
   "source": [
    "\n",
    "\n"
   ]
  },
  {
   "cell_type": "code",
   "execution_count": 21,
   "metadata": {},
   "outputs": [
    {
     "ename": "NameError",
     "evalue": "name 'ScaleBar' is not defined",
     "output_type": "error",
     "traceback": [
      "\u001b[0;31m---------------------------------------------------------------------------\u001b[0m",
      "\u001b[0;31mNameError\u001b[0m                                 Traceback (most recent call last)",
      "\u001b[0;32m<ipython-input-21-394cb3eb862d>\u001b[0m in \u001b[0;36m<module>\u001b[0;34m\u001b[0m\n\u001b[1;32m     18\u001b[0m \u001b[0mplt\u001b[0m\u001b[0;34m.\u001b[0m\u001b[0mlegend\u001b[0m\u001b[0;34m(\u001b[0m\u001b[0mhandles\u001b[0m\u001b[0;34m=\u001b[0m\u001b[0mpatches\u001b[0m\u001b[0;34m,\u001b[0m \u001b[0mbbox_to_anchor\u001b[0m\u001b[0;34m=\u001b[0m\u001b[0;34m(\u001b[0m\u001b[0;36m0.33\u001b[0m\u001b[0;34m,\u001b[0m \u001b[0;36m0.25\u001b[0m\u001b[0;34m)\u001b[0m\u001b[0;34m,\u001b[0m \u001b[0mloc\u001b[0m\u001b[0;34m=\u001b[0m\u001b[0;36m1\u001b[0m\u001b[0;34m,\u001b[0m \u001b[0mborderaxespad\u001b[0m\u001b[0;34m=\u001b[0m\u001b[0;36m0.1\u001b[0m \u001b[0;34m)\u001b[0m\u001b[0;34m\u001b[0m\u001b[0m\n\u001b[1;32m     19\u001b[0m \u001b[0mplt\u001b[0m\u001b[0;34m.\u001b[0m\u001b[0maxis\u001b[0m\u001b[0;34m(\u001b[0m\u001b[0;34m'off'\u001b[0m\u001b[0;34m)\u001b[0m\u001b[0;34m\u001b[0m\u001b[0m\n\u001b[0;32m---> 20\u001b[0;31m \u001b[0mscalebar\u001b[0m \u001b[0;34m=\u001b[0m \u001b[0mScaleBar\u001b[0m\u001b[0;34m(\u001b[0m\u001b[0;36m1000\u001b[0m\u001b[0;34m)\u001b[0m \u001b[0;31m# 1 pixel = 0.2 meter\u001b[0m\u001b[0;34m\u001b[0m\u001b[0m\n\u001b[0m\u001b[1;32m     21\u001b[0m \u001b[0mplt\u001b[0m\u001b[0;34m.\u001b[0m\u001b[0mgca\u001b[0m\u001b[0;34m(\u001b[0m\u001b[0;34m)\u001b[0m\u001b[0;34m.\u001b[0m\u001b[0madd_artist\u001b[0m\u001b[0;34m(\u001b[0m\u001b[0mscalebar\u001b[0m\u001b[0;34m)\u001b[0m\u001b[0;34m\u001b[0m\u001b[0m\n\u001b[1;32m     22\u001b[0m \u001b[0;34m\u001b[0m\u001b[0m\n",
      "\u001b[0;31mNameError\u001b[0m: name 'ScaleBar' is not defined"
     ]
    },
    {
     "data": {
      "image/png": "[encoded data removed]",
      "text/plain": [
       "<Figure size 432x374.4 with 1 Axes>"
      ]
     },
     "metadata": {
      "needs_background": "light"
     },
     "output_type": "display_data"
    }
   ],
   "source": [
    "# Considerando la combinacion del mapa de NLTT y las clases P\n",
    "\n",
    "data = P\n",
    "\n",
    "# get the unique values from data\n",
    "# i.e. a sorted list of all values in data\n",
    "values = np.unique(data.ravel())\n",
    "\n",
    "plt.figure(figsize=(6, 5.2))\n",
    "im = plt.imshow(data,cmap = plt.cm.hot)\n",
    "\n",
    "# get the colors of the values, according to the \n",
    "# colormap used by imshow\n",
    "colors = [ im.cmap(im.norm(value)) for value in values]\n",
    "# create a patch (proxy artist) for every color \n",
    "patches = [ mpatches.Patch(color=colors[i], label=\"Level {l}\".format(l=int(values[i])) ) for i in range(1,5) ]\n",
    "# put those patched as legend-handles into the legend\n",
    "plt.legend(handles=patches, bbox_to_anchor=(0.33, 0.25), loc=1, borderaxespad=0.1 )\n",
    "plt.axis('off')\n",
    "scalebar = ScaleBar(1000) # 1 pixel = 0.2 meter\n",
    "plt.gca().add_artist(scalebar)\n",
    "\n",
    "plt.savefig(\"figures/01_importance_level_map.pdf\", dpi = 150)"
   ]
  },
  {
   "cell_type": "code",
   "execution_count": 27,
   "metadata": {},
   "outputs": [
    {
     "data": {
      "image/png": "[encoded data removed]",
      "text/plain": [
       "<Figure size 800x800 with 1 Axes>"
      ]
     },
     "metadata": {
      "needs_background": "light"
     },
     "output_type": "display_data"
    },
    {
     "data": {
      "image/png": "[encoded data removed]",
      "text/plain": [
       "<Figure size 800x800 with 1 Axes>"
      ]
     },
     "metadata": {
      "needs_background": "light"
     },
     "output_type": "display_data"
    },
    {
     "data": {
      "image/png": "[encoded data removed]",
      "text/plain": [
       "<Figure size 800x800 with 1 Axes>"
      ]
     },
     "metadata": {
      "needs_background": "light"
     },
     "output_type": "display_data"
    },
    {
     "data": {
      "image/png": "[encoded data removed]",
      "text/plain": [
       "<Figure size 800x800 with 1 Axes>"
      ]
     },
     "metadata": {
      "needs_background": "light"
     },
     "output_type": "display_data"
    },
    {
     "data": {
      "text/plain": [
       "<Figure size 800x800 with 0 Axes>"
      ]
     },
     "metadata": {},
     "output_type": "display_data"
    },
    {
     "data": {
      "image/png": "[encoded data removed]",
      "text/plain": [
       "<Figure size 800x800 with 1 Axes>"
      ]
     },
     "metadata": {
      "needs_background": "light"
     },
     "output_type": "display_data"
    },
    {
     "data": {
      "image/png": "[encoded data removed]",
      "text/plain": [
       "<Figure size 800x800 with 1 Axes>"
      ]
     },
     "metadata": {
      "needs_background": "light"
     },
     "output_type": "display_data"
    }
   ],
   "source": [
    "figure(figsize=(10, 10), dpi=80)\n",
    "plt.imshow(nonsat)\n",
    "plt.show()\n",
    "\n",
    "figure(figsize=(10, 10), dpi=80)\n",
    "plt.imshow(P)\n",
    "plt.show()\n",
    "\n",
    "figure(figsize=(10, 10), dpi=80)\n",
    "W1_nonsat = f5(nonsat,P)\n",
    "plt.title(\"W1_nonsat\")\n",
    "plt.imshow(W1_nonsat)\n",
    "plt.show()\n",
    "\n",
    "figure(figsize=(10, 10), dpi=80)\n",
    "seeds = getMax(W1_nonsat)\n",
    "plt.imshow(seeds)\n",
    "plt.show()\n",
    "\n",
    "figure(figsize=(10, 10), dpi=80)\n",
    "coords = get_coords(seeds)\n",
    "\n",
    "figure(figsize=(10, 10), dpi=80)\n",
    "mask = np.zeros(W1_nonsat.shape, dtype=bool)\n",
    "mask[tuple(coords.T)] = True\n",
    "plt.imshow(mask)\n",
    "\n",
    "figure(figsize=(10, 10), dpi=80)\n",
    "markers, _ = ndi.label(mask)\n",
    "labels = watershed(-W1_nonsat, markers, mask=(W1_nonsat>0))\n",
    "plt.imshow(labels)\n",
    "plt.show()\n"
   ]
  },
  {
   "cell_type": "code",
   "execution_count": null,
   "metadata": {},
   "outputs": [],
   "source": []
  },
  {
   "cell_type": "code",
   "execution_count": 33,
   "metadata": {},
   "outputs": [
    {
     "data": {
      "text/plain": [
       "{0,\n",
       " 1,\n",
       " 2,\n",
       " 3,\n",
       " 4,\n",
       " 5,\n",
       " 6,\n",
       " 7,\n",
       " 8,\n",
       " 9,\n",
       " 10,\n",
       " 11,\n",
       " 12,\n",
       " 13,\n",
       " 14,\n",
       " 15,\n",
       " 16,\n",
       " 17,\n",
       " 18,\n",
       " 19,\n",
       " 20,\n",
       " 21,\n",
       " 22,\n",
       " 23,\n",
       " 24,\n",
       " 25,\n",
       " 26,\n",
       " 27,\n",
       " 28,\n",
       " 29,\n",
       " 30,\n",
       " 31,\n",
       " 32,\n",
       " 33,\n",
       " 34,\n",
       " 35,\n",
       " 36,\n",
       " 37,\n",
       " 38,\n",
       " 39}"
      ]
     },
     "execution_count": 33,
     "metadata": {},
     "output_type": "execute_result"
    }
   ],
   "source": [
    "set(markers.flatten())"
   ]
  },
  {
   "cell_type": "code",
   "execution_count": 24,
   "metadata": {},
   "outputs": [
    {
     "data": {
      "text/plain": [
       "<matplotlib.image.AxesImage at 0x7ff6569b77b8>"
      ]
     },
     "execution_count": 24,
     "metadata": {},
     "output_type": "execute_result"
    },
    {
     "data": {
      "image/png": "[encoded data removed]",
      "text/plain": [
       "<Figure size 800x800 with 1 Axes>"
      ]
     },
     "metadata": {
      "needs_background": "light"
     },
     "output_type": "display_data"
    }
   ],
   "source": [
    "figure(figsize=(10, 10), dpi=80)\n",
    "plt.imshow(labels+seeds*50)"
   ]
  },
  {
   "cell_type": "markdown",
   "metadata": {},
   "source": [
    "# Ideas\n",
    "\n",
    "1) Podemos descomponer la imagenen en polígonos convexos (convex hull) *no necesariamente convexos* .\n",
    "\n",
    "2) Cada polígono representaría una aproximación de la contaminación lumínica en una región dado por un sensor. (Por ejemplo este puede ser el valor maximo de intensidad registrada en la región)\n",
    "\n",
    "3) Podríamos variar el numero de polígonos para controlar el detalle de la aproximación.\n",
    "\n",
    "4) El número de polígonos podría estar en función del número de sensores. \n",
    "\n",
    "5) Para priorizar localiacion de sensores, ademas de considerar: \n",
    "\n",
    "1) la intensidad de la luz  \n",
    "2) La clase a la que perteneces la región  \n",
    "\n",
    "Considerar:  \n",
    "3) la extensión que la medición de este sensor representaría.\n",
    "    \n",
    "Por ejemplo, si hay dos sensores con la misma \"calificación\" desempatar con la región que este representa. Pondríamos un sensor en el polígono mas grande, aunque este tenga la misma intensidad y misma clase.\n",
    "    \n",
    "    "
   ]
  },
  {
   "cell_type": "code",
   "execution_count": null,
   "metadata": {},
   "outputs": [],
   "source": []
  }
 ],
 "metadata": {
  "kernelspec": {
   "display_name": "Python 3",
   "language": "python",
   "name": "python3"
  },
  "language_info": {
   "codemirror_mode": {
    "name": "ipython",
    "version": 3
   },
   "file_extension": ".py",
   "mimetype": "text/x-python",
   "name": "python",
   "nbconvert_exporter": "python",
   "pygments_lexer": "ipython3",
   "version": "3.7.0"
  }
 },
 "nbformat": 4,
 "nbformat_minor": 4
}
