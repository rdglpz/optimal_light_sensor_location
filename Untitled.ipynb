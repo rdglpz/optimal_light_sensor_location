{
 "cells": [
  {
   "cell_type": "code",
   "execution_count": 1,
   "id": "66bd7ee4-2fe9-40cf-ad34-8af7a4cf9c41",
   "metadata": {},
   "outputs": [],
   "source": [
    "#Cargando librerías \n",
    "import importlib\n",
    "\n",
    "import matplotlib.pyplot as plt\n",
    "import scipy as sp\n",
    "import numpy as np\n",
    "import pandas as pd\n",
    "\n",
    "import positioning_sensors as ps\n",
    "importlib.reload(ps)\n",
    "\n",
    "import network_fitness as netfit\n",
    "importlib.reload(netfit)\n",
    "\n",
    "from geneticalgorithm import geneticalgorithm as ga\n",
    "\n",
    "plt.style.use(\"ggplot\")\n",
    "\n",
    "import skgstat as skg"
   ]
  },
  {
   "cell_type": "code",
   "execution_count": 2,
   "id": "e1942869-9214-459b-bdd7-3e2fcfbcfa84",
   "metadata": {},
   "outputs": [],
   "source": [
    "#cargamos imagenes en luminance e importance\n",
    "ilumina = 'example/inputs/qro_light_th'\n",
    "niveles = 'example/inputs/prioridades'\n",
    "sigma_y = 0.5\n",
    "sigma_x = 0.5\n",
    "sigma = [sigma_y,sigma_x]\n",
    "\n",
    "#Loading precalculated local and directed empirical variograms\n",
    "data = pd.read_csv(\"th100_atol_15_dirdelta_1.csv\")\n",
    "variogram_set = np.array(data.iloc[:,3:])\n",
    "\n",
    "#NLTI: luminance\n",
    "z = ps.readIMG(ilumina)"
   ]
  },
  {
   "cell_type": "code",
   "execution_count": 3,
   "id": "f1b60fc0-5d0f-4454-a88b-8a747336efce",
   "metadata": {},
   "outputs": [
    {
     "ename": "NameError",
     "evalue": "name 'luminance' is not defined",
     "output_type": "error",
     "traceback": [
      "\u001b[0;31m---------------------------------------------------------------------------\u001b[0m",
      "\u001b[0;31mNameError\u001b[0m                                 Traceback (most recent call last)",
      "\u001b[0;32m<ipython-input-3-d78222225a94>\u001b[0m in \u001b[0;36m<module>\u001b[0;34m\u001b[0m\n\u001b[0;32m----> 1\u001b[0;31m \u001b[0mz\u001b[0m \u001b[0;34m=\u001b[0m \u001b[0mps\u001b[0m\u001b[0;34m.\u001b[0m\u001b[0mdesaturate\u001b[0m\u001b[0;34m(\u001b[0m\u001b[0mluminance\u001b[0m\u001b[0;34m,\u001b[0m\u001b[0mth\u001b[0m\u001b[0;34m=\u001b[0m\u001b[0;36m62\u001b[0m\u001b[0;34m)\u001b[0m\u001b[0;34m\u001b[0m\u001b[0m\n\u001b[0m\u001b[1;32m      2\u001b[0m \u001b[0;34m\u001b[0m\u001b[0m\n\u001b[1;32m      3\u001b[0m \u001b[0mz\u001b[0m \u001b[0;34m=\u001b[0m \u001b[0msp\u001b[0m\u001b[0;34m.\u001b[0m\u001b[0mndimage\u001b[0m\u001b[0;34m.\u001b[0m\u001b[0mfilters\u001b[0m\u001b[0;34m.\u001b[0m\u001b[0mgaussian_filter\u001b[0m\u001b[0;34m(\u001b[0m\u001b[0mz\u001b[0m\u001b[0;34m,\u001b[0m \u001b[0msigma\u001b[0m\u001b[0;34m,\u001b[0m \u001b[0mmode\u001b[0m\u001b[0;34m=\u001b[0m\u001b[0;34m'constant'\u001b[0m\u001b[0;34m)\u001b[0m\u001b[0;34m\u001b[0m\u001b[0m\n\u001b[1;32m      4\u001b[0m \u001b[0mplt\u001b[0m\u001b[0;34m.\u001b[0m\u001b[0mimshow\u001b[0m\u001b[0;34m(\u001b[0m\u001b[0mnonsat\u001b[0m\u001b[0;34m)\u001b[0m\u001b[0;34m\u001b[0m\u001b[0m\n",
      "\u001b[0;31mNameError\u001b[0m: name 'luminance' is not defined"
     ]
    }
   ],
   "source": [
    "z = ps.desaturate(luminance,th=62)\n",
    "\n",
    "z = sp.ndimage.filters.gaussian_filter(z, sigma, mode='constant')\n",
    "plt.imshow(nonsat)"
   ]
  },
  {
   "cell_type": "code",
   "execution_count": null,
   "id": "6cc21221-e611-4e83-a931-9adc1ac2ae71",
   "metadata": {},
   "outputs": [],
   "source": []
  },
  {
   "cell_type": "code",
   "execution_count": null,
   "id": "dbfdb15f-26c4-49f0-907f-7629dab43aab",
   "metadata": {},
   "outputs": [],
   "source": [
    "#coords = [(np.random.randint(nonsat.shape[0]),np.random.randint(nonsat.shape[1])) for i in range(500)]\n",
    "\n",
    "coords = ps.get_coords(z>0)"
   ]
  },
  {
   "cell_type": "code",
   "execution_count": null,
   "id": "1838412b-572d-4e22-8bbe-c98c9ea75dbb",
   "metadata": {},
   "outputs": [],
   "source": [
    "values = np.fromiter((z[c[0]][c[1]] for c in coords), dtype=float)"
   ]
  },
  {
   "cell_type": "code",
   "execution_count": null,
   "id": "cc3a8606-2a24-41b6-b829-8dddd14fdb7b",
   "metadata": {},
   "outputs": [],
   "source": [
    " V = skg.Variogram(coords, values)"
   ]
  },
  {
   "cell_type": "code",
   "execution_count": null,
   "id": "48c2cd16-00a8-41b6-be9d-e83e6706019d",
   "metadata": {},
   "outputs": [],
   "source": [
    "V.plot()\n",
    "plt.show()"
   ]
  },
  {
   "cell_type": "code",
   "execution_count": null,
   "id": "1480575c-4e13-4312-af65-89b97cf83f17",
   "metadata": {},
   "outputs": [],
   "source": [
    "V"
   ]
  },
  {
   "cell_type": "code",
   "execution_count": null,
   "id": "2cc7f4d2-22bd-4aa3-b2fe-3a9c4772a89b",
   "metadata": {},
   "outputs": [],
   "source": [
    "coords"
   ]
  },
  {
   "cell_type": "code",
   "execution_count": null,
   "id": "b9ed6147-0ff8-4b52-bb78-6a15cc4f6fb7",
   "metadata": {},
   "outputs": [],
   "source": []
  }
 ],
 "metadata": {
  "kernelspec": {
   "display_name": "Python 3",
   "language": "python",
   "name": "python3"
  },
  "language_info": {
   "codemirror_mode": {
    "name": "ipython",
    "version": 3
   },
   "file_extension": ".py",
   "mimetype": "text/x-python",
   "name": "python",
   "nbconvert_exporter": "python",
   "pygments_lexer": "ipython3",
   "version": "3.8.13"
  }
 },
 "nbformat": 4,
 "nbformat_minor": 5
}
