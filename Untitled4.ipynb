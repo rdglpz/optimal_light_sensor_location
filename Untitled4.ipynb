{
 "cells": [
  {
   "cell_type": "markdown",
   "id": "7af5c254-0437-461b-9479-f6865a00fa13",
   "metadata": {},
   "source": [
    "# 2. Python para cómputo científico.\n",
    "(Introducción a Python)\n",
    "\n",
    "* Python es un lenguaje fácil de aprender y agradable ampliamente utilizado. \n",
    "* Es claro de leer y escribir.\n",
    "* Es un lenguaje de plataforma cruzada. Aunque es posible crear aplicaciones específicas para una plataforma, en general las librerías son transparentes. \n",
    "* Es interpretado por lo que no se requiere compilar. \n",
    "\n",
    "\n"
   ]
  },
  {
   "cell_type": "markdown",
   "id": "0366a9bd-f02e-4dd3-b5b6-165a6ae68715",
   "metadata": {},
   "source": [
    "## Introducción rápida a la programación procedural: Los 8 componentes de Python.\n",
    "\n",
    "* Python se puede escribir en cualquier editor texto plano.  \n",
    "* Puede ser escrito en ASCII o **UTF-8** (unicode transformation format 8 bit).  \n",
    "\n",
    "Unicode es un estándar de codificación de caracteres diseñado para facilitar el tratamiento informático, transmisión y visualización de textos de numerosos idiomas y disciplinas técnicas, además de textos clásicos de lenguas muertas. El término Unicode proviene de los tres objetivos perseguidos: universalidad, uniformidad y unicidad.\n",
    "\n"
   ]
  },
  {
   "cell_type": "markdown",
   "id": "65c42025-af00-4e33-8954-d652525e5c9e",
   "metadata": {},
   "source": [
    "**1. Tipos de Datos**\n",
    "\n",
    "Python soporta la represenatación de varios tipos de datos de manera nativa.  Estos son inmutables: el tipo de dato no se puede cambiar una vez asignado.\n",
    "\n",
    "Ejemplo de algunos tipos de datos.\n"
   ]
  },
  {
   "cell_type": "markdown",
   "id": "bf623f20-2f0f-4493-a9d5-aba43f7e56fa",
   "metadata": {},
   "source": [
    "**Entero (int)**\n",
    "\n",
    "El número mas grande está limitado solo por la memoria."
   ]
  },
  {
   "cell_type": "code",
   "execution_count": 55,
   "id": "da6c36e5-b8d5-47ed-aa82-3d984b83d488",
   "metadata": {},
   "outputs": [
    {
     "data": {
      "text/plain": [
       "6454"
      ]
     },
     "execution_count": 55,
     "metadata": {},
     "output_type": "execute_result"
    }
   ],
   "source": [
    "6454"
   ]
  },
  {
   "cell_type": "markdown",
   "id": "ef8b090b-e10c-4cba-93f1-eb773cfdb79f",
   "metadata": {},
   "source": [
    "**String (str)**\n",
    "\n",
    "Son delimitadas por comillas simples o dobles, siempre y cuando coincidan en la apertura y cierre. Ejemplo"
   ]
  },
  {
   "cell_type": "code",
   "execution_count": 56,
   "id": "c681da73-e6b0-4254-83fe-cc445d0fd028",
   "metadata": {},
   "outputs": [
    {
     "data": {
      "text/plain": [
       "'hola como están'"
      ]
     },
     "execution_count": 56,
     "metadata": {},
     "output_type": "execute_result"
    }
   ],
   "source": [
    "\"hola como están\""
   ]
  },
  {
   "cell_type": "code",
   "execution_count": 57,
   "id": "c14bbcc5-eb01-4c8e-961a-2402a4f51868",
   "metadata": {},
   "outputs": [
    {
     "data": {
      "text/plain": [
       "'hola como están'"
      ]
     },
     "execution_count": 57,
     "metadata": {},
     "output_type": "execute_result"
    }
   ],
   "source": [
    "'hola como están'"
   ]
  },
  {
   "cell_type": "markdown",
   "id": "751a2c12-5fbe-487d-b0e0-2993a3f86863",
   "metadata": {},
   "source": [
    "Python utiliza \"[ ]\" para acceder a un elemento de una secuencia de un dato tipo string, pero no para asignar un caracter. La razón es porque las variables son **inmutables**"
   ]
  },
  {
   "cell_type": "code",
   "execution_count": 58,
   "id": "29267a08-8e9d-46ae-bfbb-14b5e8be38f2",
   "metadata": {},
   "outputs": [
    {
     "data": {
      "text/plain": [
       "'n'"
      ]
     },
     "execution_count": 58,
     "metadata": {},
     "output_type": "execute_result"
    }
   ],
   "source": [
    "\"Python es divertido\"[5]"
   ]
  },
  {
   "cell_type": "code",
   "execution_count": 61,
   "id": "3a76ea73-9ec4-470d-a9fc-ea144d2d13d4",
   "metadata": {},
   "outputs": [
    {
     "ename": "TypeError",
     "evalue": "'str' object does not support item assignment",
     "output_type": "error",
     "traceback": [
      "\u001b[0;31m---------------------------------------------------------------------------\u001b[0m",
      "\u001b[0;31mTypeError\u001b[0m                                 Traceback (most recent call last)",
      "Input \u001b[0;32mIn [61]\u001b[0m, in \u001b[0;36m<cell line: 2>\u001b[0;34m()\u001b[0m\n\u001b[1;32m      1\u001b[0m \u001b[38;5;66;03m#probando inmutabilidad, el intérprete marca un error.\u001b[39;00m\n\u001b[0;32m----> 2\u001b[0m \u001b[38;5;124m\"\u001b[39m\u001b[38;5;124mPython es divertido\u001b[39m\u001b[38;5;124m\"\u001b[39m[\u001b[38;5;241m0\u001b[39m] \u001b[38;5;241m=\u001b[39m \u001b[38;5;124m\"\u001b[39m\u001b[38;5;124mC\u001b[39m\u001b[38;5;124m\"\u001b[39m\n",
      "\u001b[0;31mTypeError\u001b[0m: 'str' object does not support item assignment"
     ]
    }
   ],
   "source": [
    "#probando inmutabilidad, el intérprete marca un error.\n",
    "\"Python es divertido\"[0] = \"C\""
   ]
  },
  {
   "cell_type": "markdown",
   "id": "014a9827-cdb6-40cc-9be0-fa6af3f4f118",
   "metadata": {},
   "source": [
    "**Para convertir un tipo de dato a otro se utiliza la sintaxis**\n",
    "\n",
    "```\n",
    "datatype(item)\n",
    "```\n",
    "\n",
    "Ejemplo:"
   ]
  },
  {
   "cell_type": "code",
   "execution_count": 30,
   "id": "f036f52d-c9ca-4ff6-9840-ab15106b8e67",
   "metadata": {},
   "outputs": [
    {
     "data": {
      "text/plain": [
       "56"
      ]
     },
     "execution_count": 30,
     "metadata": {},
     "output_type": "execute_result"
    }
   ],
   "source": [
    "int(\"56\")"
   ]
  },
  {
   "cell_type": "code",
   "execution_count": 32,
   "id": "a7fc1bf8-9998-40b6-93ae-d5d6883fda51",
   "metadata": {},
   "outputs": [
    {
     "data": {
      "text/plain": [
       "'56'"
      ]
     },
     "execution_count": 32,
     "metadata": {},
     "output_type": "execute_result"
    }
   ],
   "source": [
    "str(56)"
   ]
  },
  {
   "cell_type": "markdown",
   "id": "7047e5ce-cf8f-4e78-824a-25c07155140c",
   "metadata": {},
   "source": [
    "**2. Referencias a Objetos**\n",
    "\n",
    "Una vez que tenemos identificadas los tipos de datos, el siguiente paso es guardarlos.\n",
    "\n",
    "Python guarda los valores en **referencias a objetos** no en variables. (En la práctica eso no se distingue la diferencia, por lo que se usará el nombre de variable o referencia a objetos indistintamente ).  \n",
    "\n",
    "No es necesario pre-declarar estas referencias a objetos antes ni especificar el valor de su tipo.  \n",
    "\n",
    "El operador '=', relaciona una referencia de objeto a un objeto en la memoria.\n",
    "\n",
    "Los nombres para referencia a objetos se llaman **identificadores**, y deben comenzar con una letra o guión bajo sin espacios.\n",
    "\n",
    "Ejemplo:"
   ]
  },
  {
   "cell_type": "code",
   "execution_count": 64,
   "id": "f1834de7-1757-42f3-9aee-ee095d2f2fbc",
   "metadata": {},
   "outputs": [],
   "source": [
    "x = \"gato\"\n",
    "y = \"perro\"\n",
    "z = x\n",
    "\n",
    "#1. Genera una referencia a objeto llamado \"x\"\n",
    "#2. Python genera un objeto \"str\" llamado \"Gato\"\n",
    "\n"
   ]
  },
  {
   "cell_type": "markdown",
   "id": "55b41dfc-eed7-4966-b8aa-9074d0eb4836",
   "metadata": {},
   "source": [
    "Una variable puede reasignar a un objeto de diferente tipo. Esto se llama **Tipeo dinámico (Dynamics typing)**\n",
    "\n",
    "Para conocer el tipo de dato de la referencia a objeto "
   ]
  },
  {
   "cell_type": "code",
   "execution_count": 72,
   "id": "4ed971f7-5ec3-49ce-8037-4bdb2b6d078a",
   "metadata": {},
   "outputs": [],
   "source": [
    "pais = \"Holanda\""
   ]
  },
  {
   "cell_type": "code",
   "execution_count": 73,
   "id": "472e23ce-39bd-4d3a-acc4-8457894c3cde",
   "metadata": {},
   "outputs": [
    {
     "name": "stdout",
     "output_type": "stream",
     "text": [
      "Holanda <class 'str'>\n"
     ]
    }
   ],
   "source": [
    "print(pais,type(pais))"
   ]
  },
  {
   "cell_type": "markdown",
   "id": "6ef9e882-c228-4ce8-ab92-4b25a496f73b",
   "metadata": {},
   "source": [
    "**3. colección de tipos de datos**\n",
    "\n",
    "Python puede manejar diferentes tipos de coleción de datos, como arreglos asociativos, conjuntos, tuplas.\n",
    "\n"
   ]
  },
  {
   "cell_type": "markdown",
   "id": "7131aae4-104a-475a-88d2-4282222549ea",
   "metadata": {},
   "source": [
    "Las tuplas son creadas utilizando las comas (,).\n",
    "\n",
    "Las tuplas son inmutables.\n",
    "\n",
    "Ejemplo tupla:\n"
   ]
  },
  {
   "cell_type": "code",
   "execution_count": 93,
   "id": "597dd320-dc7e-45d6-9783-3b4ac497ccde",
   "metadata": {},
   "outputs": [
    {
     "data": {
      "text/plain": [
       "('hola', 'como', 'estas')"
      ]
     },
     "execution_count": 93,
     "metadata": {},
     "output_type": "execute_result"
    }
   ],
   "source": [
    "\"hola\",\"como\",\"estas\""
   ]
  },
  {
   "cell_type": "code",
   "execution_count": 95,
   "id": "9e13523b-7ee0-4c67-9c68-44cb4e9fb8e6",
   "metadata": {},
   "outputs": [],
   "source": [
    "#referencia al objeto tupla\n",
    "a = (3,4)\n",
    "\n",
    "a = (\"Noruega\",5,6)\n",
    "\n"
   ]
  },
  {
   "cell_type": "markdown",
   "id": "ac8c0ee9-932d-41a5-a1c6-50f7e5a665f2",
   "metadata": {},
   "source": [
    "Ejemplo Arreglo "
   ]
  },
  {
   "cell_type": "code",
   "execution_count": 89,
   "id": "9c2828ec-2929-4951-b840-5db005637aee",
   "metadata": {},
   "outputs": [
    {
     "name": "stdout",
     "output_type": "stream",
     "text": [
      "Contenido de la posicion 0 del arreglo: Noruega\n",
      "Contenido despues de cambiar la referencia de a[0]: 9\n"
     ]
    }
   ],
   "source": [
    "a = [\"Noruega\",5,6]\n",
    "print(\"Contenido de la posicion 0 del arreglo:\",a[0])\n",
    "\n",
    "a[0] = 9\n",
    "print(\"Contenido despues de cambiar la referencia de a[0]:\",a[0])"
   ]
  },
  {
   "cell_type": "markdown",
   "id": "e470fc70-9f8c-4fbb-8ca8-4ad2ff3e83c6",
   "metadata": {},
   "source": [
    "Como Python es un leguaje procedural, se llaman funciones que reciben datos como argumentos.\n",
    "\n",
    "El punto es un operador para acceder a los atributos de los objetos."
   ]
  },
  {
   "cell_type": "code",
   "execution_count": 105,
   "id": "cb3d9804-c385-4ec6-8d53-6c80455ced55",
   "metadata": {},
   "outputs": [
    {
     "name": "stdout",
     "output_type": "stream",
     "text": [
      "['gato', 'ornitorrinco', 56]\n"
     ]
    }
   ],
   "source": [
    "animales = [\"gato\"]\n",
    "\n",
    "animales.append(\"ornitorrinco\")\n",
    "animales.append(56)\n",
    "\n",
    "print(animales)"
   ]
  },
  {
   "cell_type": "markdown",
   "id": "a9a9e56f-904e-4259-bb7f-4d2adec97ab8",
   "metadata": {},
   "source": [
    "Tuplas, listas y cadenas tienen tamaño de longitud y puede verificarse con \n",
    "\n",
    "```len()```"
   ]
  },
  {
   "cell_type": "code",
   "execution_count": 91,
   "id": "2d66a0d9-3b9e-4557-97a3-df9226736f8e",
   "metadata": {},
   "outputs": [
    {
     "data": {
      "text/plain": [
       "('hola',)"
      ]
     },
     "execution_count": 91,
     "metadata": {},
     "output_type": "execute_result"
    }
   ],
   "source": []
  },
  {
   "cell_type": "markdown",
   "id": "91c1c004-3fd5-4bad-ba3b-2d4d3025e506",
   "metadata": {},
   "source": [
    "**4. Operadores Lógicos**\n",
    "\n",
    "Python provee 4 conjuntos de operaciones lógicas.\n",
    "\n",
    "Operador Identidad"
   ]
  },
  {
   "cell_type": "code",
   "execution_count": 112,
   "id": "615cd544-2bb9-49d6-8427-afa5258420aa",
   "metadata": {},
   "outputs": [
    {
     "name": "stdout",
     "output_type": "stream",
     "text": [
      "False\n",
      "True\n"
     ]
    }
   ],
   "source": [
    "#Generamos dos objetos listas identicas y verificamos si tienen la misma referencia\n",
    "\n",
    "\n",
    "#referencia 1\n",
    "a = [\"Ballena\",4]\n",
    "\n",
    "#referencia 2\n",
    "b = [\"Ballena\",4]\n",
    "\n",
    "#compara si la dirección de memoria a la que apunta 'a' es igual a 'b', no los valores en sí.\n",
    "print(a is b)\n",
    "\n",
    "a = b\n",
    "\n",
    "print(a is b)"
   ]
  },
  {
   "cell_type": "markdown",
   "id": "685fedfe-5dd3-4006-b6ea-3d0bf2ead553",
   "metadata": {},
   "source": [
    "Un caso de uso de ```is```, es verificar si una variable hace referencia a una dirección de memoria con ```None```"
   ]
  },
  {
   "cell_type": "code",
   "execution_count": 118,
   "id": "bd20cbf8-f41b-4a95-a4fc-1feeb8050543",
   "metadata": {},
   "outputs": [
    {
     "name": "stdout",
     "output_type": "stream",
     "text": [
      "a is not None: True\n",
      "b is not None: False\n",
      "a is b: False\n"
     ]
    }
   ],
   "source": [
    "a = 5\n",
    "b = None\n",
    "print(\"a is not None:\", a is not None)\n",
    "print(\"b is not None:\", b is not None)\n",
    "print(\"a is b:\", a is b)"
   ]
  },
  {
   "cell_type": "markdown",
   "id": "ace2be67-6f23-40a9-bb91-8bb97fb5536e",
   "metadata": {},
   "source": [
    "**4.1 Operadores de Comparación**\n",
    "\n",
    "Python tiene el conjunto estandard de operadores binarios de comparación \n",
    "\n",
    "<,<=, ==, != >=\n",
    "\n",
    "\n"
   ]
  },
  {
   "cell_type": "code",
   "execution_count": 135,
   "id": "2185b4e0-23ab-4c57-ad19-ab73711175e0",
   "metadata": {},
   "outputs": [
    {
     "data": {
      "text/plain": [
       "True"
      ]
     },
     "execution_count": 135,
     "metadata": {},
     "output_type": "execute_result"
    }
   ],
   "source": [
    "#los operadores pueden encadenarse\n",
    "\n",
    "z = 10\n",
    "0 < 10 <20  "
   ]
  },
  {
   "cell_type": "code",
   "execution_count": 147,
   "id": "14ccd2b5-f490-4be4-a238-3f1378a9ccdd",
   "metadata": {},
   "outputs": [
    {
     "data": {
      "text/plain": [
       "True"
      ]
     },
     "execution_count": 147,
     "metadata": {},
     "output_type": "execute_result"
    }
   ],
   "source": [
    "a = \"Pato\"\n",
    "b = \"Pato\"\n",
    "\n",
    "a is b\n",
    "\n",
    "a == b"
   ]
  },
  {
   "cell_type": "markdown",
   "id": "ee3c6a1f-e6ab-474e-9eb5-8f7dc44f4fb5",
   "metadata": {},
   "source": [
    "En este caso por eficiencia, Python reusa el mismo objeto *string* \"Pato\"\n",
    "\n",
    "Usar operadores. ```==``` y ```!=``` cuando se comparan los valores.\n",
    "y ```is, is not```, cuando se comparan con la referencia ```None``` \n",
    "\n",
    "Python compara sobre el mismo tiempo de datos, si no, arroja una excepción."
   ]
  },
  {
   "cell_type": "markdown",
   "id": "36f3d5bf-07ec-4b06-817b-16a11a9512c0",
   "metadata": {},
   "source": [
    "**4.2 Operador de membresía**"
   ]
  },
  {
   "cell_type": "code",
   "execution_count": 145,
   "id": "3ce4f8fd-7d72-42ed-a97d-21337f352a2b",
   "metadata": {},
   "outputs": [
    {
     "name": "stdout",
     "output_type": "stream",
     "text": [
      "True\n",
      "False\n"
     ]
    }
   ],
   "source": [
    "p = (\"lagartija\",\"gallo\",\"perro\")\n",
    "\n",
    "print(\"lagartija\" in p)\n",
    "print(\"gallo\" not in p)"
   ]
  },
  {
   "cell_type": "markdown",
   "id": "1ee012cd-c171-4522-b389-55593dca33d1",
   "metadata": {},
   "source": [
    "**4.3 Operadores Lógicos**\n",
    "\n",
    "```\n",
    "and  \n",
    "or   \n",
    "not\n",
    "```   \n",
    "Estos operadores utilizan lógica de corto circuito. El valod devuelto es el último que determina la operación.\n"
   ]
  },
  {
   "cell_type": "code",
   "execution_count": null,
   "id": "7fc864fc-47ac-4232-88d2-6aaa37d5b2fd",
   "metadata": {},
   "outputs": [],
   "source": []
  },
  {
   "cell_type": "code",
   "execution_count": 158,
   "id": "d2d7d5ca-ca0b-4b5e-a0c6-9a751bc2ad15",
   "metadata": {},
   "outputs": [
    {
     "name": "stdout",
     "output_type": "stream",
     "text": [
      "3\n",
      "1\n",
      "0\n",
      "1\n"
     ]
    }
   ],
   "source": [
    "z = 0\n",
    "a = 1\n",
    "b = 2\n",
    "c = 3\n",
    "\n",
    "print(b and a and c)\n",
    "print(b and a)\n",
    "print(b and z)\n",
    "\n",
    "print( (b and a) or (c and b))"
   ]
  },
  {
   "cell_type": "markdown",
   "id": "b91a3f20-77ab-48fa-820a-3fe397f23e2c",
   "metadata": {},
   "source": [
    "En el contexto booleano si la salida de la expresión lógica en corto circuito es > 0 entonces es ```True``` , y de lo contrario ```False ```\n",
    "\n",
    "Probar la salida con ```or```"
   ]
  },
  {
   "cell_type": "markdown",
   "id": "5e96e020-c64e-41e1-8855-bd1a0843df15",
   "metadata": {},
   "source": [
    "**5. Control de flujo**\n",
    "\n",
    "Sintaxis general\n",
    "\n",
    "Sentencia ```if``` \n",
    "\n",
    "```\n",
    "if expresión_booleana_1:\n",
    "    bloque de instrucciones 1\n",
    "elif expresión_booleana_2:\n",
    "    bloque de instrucciones 2\n",
    "    .\n",
    "    .\n",
    "    ,\n",
    "elif expresión_booleana_n:\n",
    "    bloque de instrucciones n\n",
    "else:\n",
    "    bloque de instrucciones n+1\n",
    "```\n",
    "\n",
    "Python utiliza identación para definir el inicio y fin de un bloque de instrucciones dentro de una estructura de control de flujo.\n",
    "\n",
    "Sentencia ```while```\n",
    "\n",
    "```while True:\n",
    "    item = get_next_item()\n",
    "    if not item:\n",
    "        break\n",
    "    process_item(item)\n",
    "```\n",
    "\n",
    "Sentencia ```for... in```\n",
    "\n",
    "```for variable in iterable```"
   ]
  },
  {
   "cell_type": "code",
   "execution_count": 189,
   "id": "d4a79cd3-1e7c-45e3-b5f8-2efc6ffcca08",
   "metadata": {},
   "outputs": [
    {
     "name": "stdout",
     "output_type": "stream",
     "text": [
      "perro\n",
      "gallo\n",
      "gato\n",
      "lagartija\n",
      "lechuza\n"
     ]
    }
   ],
   "source": [
    "lista_animales= [\"perro\",\"gallo\", \"gato\", \"lagartija\",\"lechuza\"]\n",
    "for animal in lista_animales:\n",
    "    print(animal)\n",
    "    \n",
    "    \n",
    "\n",
    "\n"
   ]
  },
  {
   "cell_type": "markdown",
   "id": "a987357e-c05e-4c5b-937b-469f9592fcf6",
   "metadata": {},
   "source": [
    "**Manejo Básico de Excepciones**\n",
    "\n",
    "Muchas funciones de Python, indican errores o eventos lanzando una exceptición que produce una salida de texto.\n",
    "\n",
    "```\n",
    "try:\n",
    "    instrucción\n",
    "except instrucción as variable1:\n",
    "   descripción excepcion \n",
    "…\n",
    "except exceptionN as variableN:\n",
    "    exception_suiteN\n",
    "```\n",
    "\n",
    "Is las intrucciones dentro de try se ejecutan sin errores, el bloque except no se ejecuta.\n",
    "\n",
    "Esta estructura soporta opciones mas complejas para manejo de ciertas excepcioens específicas.\n",
    "\n",
    "Ejemplo:"
   ]
  },
  {
   "cell_type": "code",
   "execution_count": 222,
   "id": "20c6fcc1-7ceb-4eb8-aa6c-7c4ac8b5a7c8",
   "metadata": {},
   "outputs": [
    {
     "name": "stdin",
     "output_type": "stream",
     "text": [
      " 7\n"
     ]
    }
   ],
   "source": [
    "try:\n",
    "    i = int(input())\n",
    "except ValueError as err:\n",
    "    print(\"no puedo convertir a entero \")"
   ]
  },
  {
   "cell_type": "markdown",
   "id": "20e4a573-2dcc-471d-acc2-081a13f91675",
   "metadata": {},
   "source": [
    "**6. Operadores Aritméticos**\n",
    "\n",
    "Python ofrece todos los operadores aritméticos ```+,-,*,/```, operadores binarios y de asignación aumentada."
   ]
  },
  {
   "cell_type": "code",
   "execution_count": 224,
   "id": "56ebf5d7-905b-48ae-8ea0-7c67468cfbba",
   "metadata": {},
   "outputs": [
    {
     "name": "stdout",
     "output_type": "stream",
     "text": [
      "Suma: 10\n",
      "Resta: 2\n",
      "Multiplicación: 15\n",
      "División: 1.6666666666666667\n",
      "División truncada: 1\n",
      "Modulo: 2\n",
      "Asignación aumentada: 9\n",
      "No que los objetos en python son inmutables?!! Que pasa?\n",
      "+=, también puede operar sobre listas.  ['perro', 'gallo', 'gato', 'lagartija', 'lechuza', 'Lechuza', 'Lechuza', 'Lechuza', 'Lechuza', 'Lechuza', 'Lechuza']\n",
      "\n",
      " +=, también puede operar sobre cadenas.  Rodrigo Lopez\n"
     ]
    }
   ],
   "source": [
    "print(\"Suma:\",5+5)\n",
    "\n",
    "print(\"Resta:\",5-3)\n",
    "\n",
    "print(\"Multiplicación:\",5*3)\n",
    "\n",
    "print(\"División:\",5/3)\n",
    "\n",
    "print(\"División truncada:\",5//3)\n",
    "\n",
    "print(\"Modulo:\",5%3)\n",
    "\n",
    "v =  5\n",
    "\n",
    "v+=4\n",
    "\n",
    "print(\"Asignación aumentada:\",v)\n",
    "\n",
    "print(\"No que los objetos en python son inmutables?!! Que pasa?\")\n",
    "\n",
    "lista_animales+=[\"Lechuza\"]\n",
    "\n",
    "print(\"+=, también puede operar sobre listas. \", lista_animales)\n",
    "\n",
    "nombre = \"Rodrigo\"\n",
    "nombre += \" \"\n",
    "nombre += \"Lopez\"\n",
    "\n",
    "print(\"\\n +=, también puede operar sobre cadenas. \", nombre)"
   ]
  },
  {
   "cell_type": "markdown",
   "id": "f108800b-49bb-470d-a6be-0f205af338c1",
   "metadata": {},
   "source": [
    "**7. Entrada y Salida**\n",
    "\n",
    "Para usar una entrada de un usuario se utiliza ```input()```\n"
   ]
  },
  {
   "cell_type": "code",
   "execution_count": 197,
   "id": "878c3cc5-571e-421f-b470-2250c49614b7",
   "metadata": {},
   "outputs": [
    {
     "name": "stdin",
     "output_type": "stream",
     "text": [
      "Introduce un número 4\n",
      "Introduce un número 7\n"
     ]
    },
    {
     "name": "stdout",
     "output_type": "stream",
     "text": [
      "la suma es 11\n"
     ]
    }
   ],
   "source": [
    "a = int(input(\"Introduce un número\"))\n",
    "b = int(input(\"Introduce un número\"))\n",
    "\n",
    "print(\"la suma es\", a+b)"
   ]
  },
  {
   "cell_type": "markdown",
   "id": "f451fc9c-85ad-47e4-98cc-cc95d6226fd2",
   "metadata": {},
   "source": [
    "**8. Creando y llamando funciones**\n",
    "\n",
    "\n",
    "Muchas veces necesitamos utilizar un bloque de código muchas veces y construir software a partir de bloques de instrucciones existentes.\n",
    "\n",
    "Podemos crear funciones para encapsular un conjunto de instrucciones."
   ]
  },
  {
   "cell_type": "code",
   "execution_count": 200,
   "id": "8c7f337d-b79c-40d6-a0f9-25a2337d3d0f",
   "metadata": {},
   "outputs": [],
   "source": [
    "def f(x,n):\n",
    "    return (x**n)"
   ]
  },
  {
   "cell_type": "code",
   "execution_count": 201,
   "id": "e848fffb-c42f-4339-b384-a8172c4fcb74",
   "metadata": {},
   "outputs": [
    {
     "data": {
      "text/plain": [
       "15625"
      ]
     },
     "execution_count": 201,
     "metadata": {},
     "output_type": "execute_result"
    }
   ],
   "source": [
    "f(5,6)"
   ]
  },
  {
   "cell_type": "markdown",
   "id": "1a50ee30-cf10-4e21-b6d5-31d922563a14",
   "metadata": {},
   "source": [
    "Los argumentos son opcionales, y en caso de recibir, se separan con comas.\n",
    "\n",
    "Todas las funciones regresan un valor, cuando no se especifica explicitamente este valor es equivalente a regresar ```None```"
   ]
  },
  {
   "cell_type": "code",
   "execution_count": 213,
   "id": "419c883f-16b8-48b5-974d-0383c8e707bd",
   "metadata": {},
   "outputs": [
    {
     "name": "stdout",
     "output_type": "stream",
     "text": [
      "no regreso valor calculado: 15625\n",
      "None\n"
     ]
    }
   ],
   "source": [
    "def f(x,n):\n",
    "    print(\"no regreso valor calculado:\", x**n)\n",
    "    return None\n",
    "v = f(5,6)\n",
    "print(v)"
   ]
  },
  {
   "cell_type": "markdown",
   "id": "cb36e345-7892-446d-a74e-c96f729f0e8f",
   "metadata": {},
   "source": [
    "cuando ```def``` se ejecuta se crea un objeto funcion, con un objeto referencia con el nombre especificado. \n",
    "\n",
    "Como las funciones son objetos, se guardan como colección de tipo de datos y pasado como argumentos a otras funciones.\n",
    "\n"
   ]
  },
  {
   "cell_type": "code",
   "execution_count": 215,
   "id": "e4529d53-664f-4fcf-a275-3c553deca9b3",
   "metadata": {},
   "outputs": [
    {
     "data": {
      "text/plain": [
       "78125"
      ]
     },
     "execution_count": 215,
     "metadata": {},
     "output_type": "execute_result"
    }
   ],
   "source": [
    "def f(x,n):\n",
    "    return (x**n)\n",
    "\n",
    "def g(x,y):\n",
    "    return(x*y) \n",
    "\n",
    "g(5,f(5,6))"
   ]
  },
  {
   "cell_type": "markdown",
   "id": "94704130-5bd6-4bb2-b22e-ec8a9ecc6bf1",
   "metadata": {},
   "source": [
    "**Modulos**\n",
    "\n",
    "Son archivos con codigo fuente Python con extensión .py. Pueden contener funciones , clases, variables.\n",
    "\n",
    "```import mi_modulo```\n",
    "La manera de usar una funciónd de un modulo es \n",
    "\n",
    "```modulo.funcion(argumentos)```\n",
    "\n",
    "La libreria estandar de módulos todas tienes nombres en minúsculas.\n",
    "\n",
    "Se recomienda usar usar nombres capitalizados\n"
   ]
  },
  {
   "cell_type": "code",
   "execution_count": 232,
   "id": "12d675e6-d8e9-4e60-ae75-948fd0474d0c",
   "metadata": {
    "tags": []
   },
   "outputs": [
    {
     "data": {
      "text/plain": [
       "2"
      ]
     },
     "execution_count": 232,
     "metadata": {},
     "output_type": "execute_result"
    }
   ],
   "source": [
    "import random\n",
    "x = random.randint(1,6)\n",
    "x"
   ]
  }
 ],
 "metadata": {
  "kernelspec": {
   "display_name": "Python 3",
   "language": "python",
   "name": "python3"
  },
  "language_info": {
   "codemirror_mode": {
    "name": "ipython",
    "version": 3
   },
   "file_extension": ".py",
   "mimetype": "text/x-python",
   "name": "python",
   "nbconvert_exporter": "python",
   "pygments_lexer": "ipython3",
   "version": "3.8.13"
  }
 },
 "nbformat": 4,
 "nbformat_minor": 5
}
