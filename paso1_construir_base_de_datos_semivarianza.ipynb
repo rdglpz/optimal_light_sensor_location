{
 "cells": [
  {
   "cell_type": "code",
   "execution_count": 37,
   "id": "40118634",
   "metadata": {},
   "outputs": [],
   "source": [
    "#Cargando librerías \n",
    "import importlib\n",
    "\n",
    "import matplotlib.pyplot as plt\n",
    "import scipy as sp\n",
    "import numpy as np\n",
    "import pandas as pd\n",
    "\n",
    "import src.positioning_sensors as ps\n",
    "import src.regionGrowing as rg\n",
    "import src.manageExperiments as me\n",
    "importlib.reload(ps)\n",
    "importlib.reload(rg)\n",
    "importlib.reload(me)\n",
    "\n",
    "import src.network_fitness as netfit\n",
    "importlib.reload(netfit)\n",
    "\n",
    "from geneticalgorithm import geneticalgorithm as ga\n",
    "\n",
    "plt.style.use(\"ggplot\")\n",
    "\n",
    "##\n",
    "from scipy import ndimage as ndi\n",
    "from skimage.segmentation import watershed\n",
    "from skimage.feature import peak_local_max\n",
    "from skimage.filters import rank\n",
    "\n",
    "#import scipy.misc\n",
    "#import numpy as np\n",
    "from skimage.draw import line\n"
   ]
  },
  {
   "cell_type": "code",
   "execution_count": 38,
   "id": "47815f1c-63c4-4571-9e74-2967c0093662",
   "metadata": {},
   "outputs": [],
   "source": [
    "fn = \"config_exp_15062022_redo_exp.txt\"\n"
   ]
  },
  {
   "cell_type": "code",
   "execution_count": 39,
   "id": "777c156a-fd7d-458b-a326-63e866d823d0",
   "metadata": {},
   "outputs": [
    {
     "name": "stdout",
     "output_type": "stream",
     "text": [
      "creating Directory exp_15062022_flat_is_decrease_redo/\n",
      "Creating Directory exp_15062022_flat_is_decrease_redo/results/\n",
      "Creating Directory exp_15062022_flat_is_decrease_redo/semivariances/\n",
      "Copy config_exp_15062022_redo_exp.txt -> exp_15062022_flat_is_decrease_redo/config_exp_15062022_redo_exp.txt\n"
     ]
    }
   ],
   "source": [
    "\n",
    "me.createProject(fn)"
   ]
  },
  {
   "cell_type": "code",
   "execution_count": 40,
   "id": "f657be6b-bef1-48ab-86e3-ae435a437c06",
   "metadata": {},
   "outputs": [],
   "source": [
    "setup = me.readConfigFile(fn)"
   ]
  },
  {
   "cell_type": "code",
   "execution_count": 41,
   "id": "6f99b59d-6b42-4e4c-a4b6-17c3c0c01c8c",
   "metadata": {},
   "outputs": [
    {
     "name": "stdout",
     "output_type": "stream",
     "text": [
      "True\n"
     ]
    }
   ],
   "source": [
    "flat_means_decrease = bool(setup['flatness_means_decrease'])\n",
    "print(flat_means_decrease)"
   ]
  },
  {
   "cell_type": "code",
   "execution_count": 42,
   "id": "11f7149a-f0ec-44b7-96d8-4bcacf85e089",
   "metadata": {},
   "outputs": [],
   "source": [
    "\n",
    "#cargamos imagenes en luminance e importance\n",
    "ilumina = setup[\"folder_input\"]+setup[\"input_ntli\"]\n",
    "niveles = setup[\"folder_input\"]+setup[\"input_evm\"]\n",
    "\n",
    "#NTLI: luminance\n",
    "NTLI = ps.readIMG(ilumina)\n",
    "\n",
    "#EAM: Environtmental attention map is the importance\n",
    "EAM = ps.readIMG(niveles,invert=True)"
   ]
  },
  {
   "cell_type": "code",
   "execution_count": 43,
   "id": "61fed99b-e226-478d-9c85-b3d1b064d17a",
   "metadata": {},
   "outputs": [],
   "source": [
    "\n",
    "\n",
    "\n",
    "th = int(setup[\"desaturation_th\"])"
   ]
  },
  {
   "cell_type": "code",
   "execution_count": 44,
   "id": "13b31402-edf6-4db3-a382-207974b9ce38",
   "metadata": {},
   "outputs": [],
   "source": [
    "DNTLI,distance = ps.desaturate(NTLI,th=th)"
   ]
  },
  {
   "cell_type": "code",
   "execution_count": 45,
   "id": "4a570219-b97f-44af-b0e3-32bc186b6acf",
   "metadata": {},
   "outputs": [
    {
     "data": {
      "image/png": "[encoded data removed]",
      "text/plain": [
       "<Figure size 432x288 with 1 Axes>"
      ]
     },
     "metadata": {},
     "output_type": "display_data"
    }
   ],
   "source": [
    "#smoothing parameters\n",
    "sigma_y = setup['filterg_sy']\n",
    "sigma_x =setup['filterg_sx']\n",
    "sigma = [sigma_y,sigma_x]\n",
    "\n",
    "FDNTLI = sp.ndimage.filters.gaussian_filter(DNTLI, sigma, mode=setup['gaussian_mode'])\n",
    "#nonsat2 = luminance\n",
    "\n",
    "#we filter only the values greater than 22\n",
    "FDNTLI = (FDNTLI>=setup['neglect_values'])*FDNTLI\n",
    "si = (33,24)\n",
    "nonsatc = np.copy(FDNTLI)\n",
    "nonsatc[si]=0\n",
    "plt.imshow(nonsatc)\n",
    "plt.show()"
   ]
  },
  {
   "cell_type": "code",
   "execution_count": 46,
   "id": "1ea474b8-21d7-446d-b4d1-5da773ea2b30",
   "metadata": {},
   "outputs": [
    {
     "data": {
      "text/plain": [
       "[<matplotlib.lines.Line2D at 0x7fd2d36e3040>]"
      ]
     },
     "execution_count": 46,
     "metadata": {},
     "output_type": "execute_result"
    },
    {
     "data": {
      "image/png": "[encoded data removed]",
      "text/plain": [
       "<Figure size 432x288 with 1 Axes>"
      ]
     },
     "metadata": {},
     "output_type": "display_data"
    }
   ],
   "source": [
    "r = 20\n",
    "#plt.plot(NTLI[si[0],si[1]-r:si[1]+r+1])\n",
    "plt.plot(DNTLI[si[0],si[1]-r:si[1]+r+1])\n",
    "plt.plot(FDNTLI[si[0],si[1]-r:si[1]+r+1])\n",
    "#plt.vlines(si[1],0,np.max(nonsat2[si[0],:]))\n"
   ]
  },
  {
   "cell_type": "code",
   "execution_count": 47,
   "id": "ac29b399-f62c-4165-9165-783d33c54a75",
   "metadata": {},
   "outputs": [
    {
     "data": {
      "text/plain": [
       "<matplotlib.image.AxesImage at 0x7fd2e15d1580>"
      ]
     },
     "execution_count": 47,
     "metadata": {},
     "output_type": "execute_result"
    },
    {
     "data": {
      "image/png": "[encoded data removed]",
      "text/plain": [
       "<Figure size 432x288 with 1 Axes>"
      ]
     },
     "metadata": {},
     "output_type": "display_data"
    }
   ],
   "source": [
    "plt.imshow(EAM)"
   ]
  },
  {
   "cell_type": "code",
   "execution_count": 48,
   "id": "27e8af02-e135-46d5-b3d8-72555b705364",
   "metadata": {},
   "outputs": [],
   "source": [
    "from IPython.display import clear_output\n",
    "\n",
    "coords = ps.get_coords(FDNTLI>0)\n",
    "\n",
    "#fill the required params\n",
    "si = (37,18)\n",
    "\n",
    "params = {\"type\": \"semivar\", \n",
    "          \"atol\": setup[\"tolerance_angle\"], \n",
    "          \"dtol\": setup[\"tolerance_distance\"]}\n",
    "\n",
    "\n",
    "sv = np.zeros(FDNTLI.shape)\n",
    "\n",
    "#tell to the class, which object is going to be used to make the semivariogram\n",
    "\n",
    "rG = rg.rGrowing(FDNTLI)\n",
    "\n",
    "rG.setParams(params)\n",
    "\n",
    "n = len(coords)\n",
    "\n",
    "#ncords x imagesize m x n\n",
    "image_size = (n,FDNTLI.shape[0]*FDNTLI.shape[1])\n",
    "allsemivariances = np.zeros(image_size)\n",
    "allmask = np.zeros(image_size)\n",
    "\n",
    "\n",
    "df = pd.DataFrame()\n",
    "\n"
   ]
  },
  {
   "cell_type": "code",
   "execution_count": 49,
   "id": "a68848d7-e1b8-4d33-a04c-732004f950fa",
   "metadata": {},
   "outputs": [
    {
     "name": "stdout",
     "output_type": "stream",
     "text": [
      " 100.00%\n"
     ]
    }
   ],
   "source": [
    "for i,si in enumerate(coords):\n",
    "    \n",
    "    clear_output(wait=True)\n",
    "    s=\"{percen: 1.2f}%\"\n",
    "    print(s.format(percen = 100*(i+1)/(n)))\n",
    "    \n",
    "    si = tuple(si)\n",
    "\n",
    "    #generate a semivariance sv map\n",
    "    sv = rG.makeSemivarianceMap(si)\n",
    "    \n",
    "    #flattne sv to store it in a dataframe\n",
    "    allsemivariances[i] = sv.flatten()\n",
    "    \n",
    "    #construct a mask of sv and then flatten it\n",
    "    allmask[i] = ps.constructMask(si,sv,flat_means_decrease).flatten()"
   ]
  },
  {
   "cell_type": "code",
   "execution_count": 108,
   "id": "4b00e034-2ff2-4c3a-8a47-808779c0e2eb",
   "metadata": {},
   "outputs": [],
   "source": []
  },
  {
   "cell_type": "code",
   "execution_count": 109,
   "id": "c77f5ead-5e3a-49c0-91d8-15d3c6a12e13",
   "metadata": {},
   "outputs": [
    {
     "ename": "ValueError",
     "evalue": "Length of values (906) does not match length of index (3120)",
     "output_type": "error",
     "traceback": [
      "\u001b[0;31m------------------------------------------------------\u001b[0m",
      "\u001b[0;31mValueError\u001b[0m           Traceback (most recent call last)",
      "Input \u001b[0;32mIn [109]\u001b[0m, in \u001b[0;36m<cell line: 2>\u001b[0;34m()\u001b[0m\n\u001b[1;32m      1\u001b[0m df_semivariance \u001b[38;5;241m=\u001b[39m pd\u001b[38;5;241m.\u001b[39mDataFrame(allsemivariances)\n\u001b[0;32m----> 2\u001b[0m \u001b[43mdf_semivariance\u001b[49m\u001b[38;5;241;43m.\u001b[39;49m\u001b[43minsert\u001b[49m\u001b[43m(\u001b[49m\u001b[38;5;241;43m0\u001b[39;49m\u001b[43m,\u001b[49m\u001b[38;5;124;43m\"\u001b[39;49m\u001b[38;5;124;43mcoordsy\u001b[39;49m\u001b[38;5;124;43m\"\u001b[39;49m\u001b[43m,\u001b[49m\u001b[43mcoords\u001b[49m\u001b[43m[\u001b[49m\u001b[43m:\u001b[49m\u001b[43m,\u001b[49m\u001b[38;5;241;43m0\u001b[39;49m\u001b[43m]\u001b[49m\u001b[43m)\u001b[49m \n\u001b[1;32m      3\u001b[0m df_semivariance\u001b[38;5;241m.\u001b[39minsert(\u001b[38;5;241m1\u001b[39m,\u001b[38;5;124m\"\u001b[39m\u001b[38;5;124mcoordsx\u001b[39m\u001b[38;5;124m\"\u001b[39m,coords[:,\u001b[38;5;241m1\u001b[39m])\n\u001b[1;32m      4\u001b[0m df_semivariance\u001b[38;5;241m.\u001b[39mto_csv(filesv)\n",
      "File \u001b[0;32m~/anaconda3/envs/MachineLearning/lib/python3.8/site-packages/pandas/core/frame.py:4438\u001b[0m, in \u001b[0;36mDataFrame.insert\u001b[0;34m(self, loc, column, value, allow_duplicates)\u001b[0m\n\u001b[1;32m   4435\u001b[0m \u001b[38;5;28;01mif\u001b[39;00m \u001b[38;5;129;01mnot\u001b[39;00m \u001b[38;5;28misinstance\u001b[39m(loc, \u001b[38;5;28mint\u001b[39m):\n\u001b[1;32m   4436\u001b[0m     \u001b[38;5;28;01mraise\u001b[39;00m \u001b[38;5;167;01mTypeError\u001b[39;00m(\u001b[38;5;124m\"\u001b[39m\u001b[38;5;124mloc must be int\u001b[39m\u001b[38;5;124m\"\u001b[39m)\n\u001b[0;32m-> 4438\u001b[0m value \u001b[38;5;241m=\u001b[39m \u001b[38;5;28;43mself\u001b[39;49m\u001b[38;5;241;43m.\u001b[39;49m\u001b[43m_sanitize_column\u001b[49m\u001b[43m(\u001b[49m\u001b[43mvalue\u001b[49m\u001b[43m)\u001b[49m\n\u001b[1;32m   4439\u001b[0m \u001b[38;5;28mself\u001b[39m\u001b[38;5;241m.\u001b[39m_mgr\u001b[38;5;241m.\u001b[39minsert(loc, column, value)\n",
      "File \u001b[0;32m~/anaconda3/envs/MachineLearning/lib/python3.8/site-packages/pandas/core/frame.py:4529\u001b[0m, in \u001b[0;36mDataFrame._sanitize_column\u001b[0;34m(self, value)\u001b[0m\n\u001b[1;32m   4526\u001b[0m     \u001b[38;5;28;01mreturn\u001b[39;00m _reindex_for_setitem(value, \u001b[38;5;28mself\u001b[39m\u001b[38;5;241m.\u001b[39mindex)\n\u001b[1;32m   4528\u001b[0m \u001b[38;5;28;01mif\u001b[39;00m is_list_like(value):\n\u001b[0;32m-> 4529\u001b[0m     \u001b[43mcom\u001b[49m\u001b[38;5;241;43m.\u001b[39;49m\u001b[43mrequire_length_match\u001b[49m\u001b[43m(\u001b[49m\u001b[43mvalue\u001b[49m\u001b[43m,\u001b[49m\u001b[43m \u001b[49m\u001b[38;5;28;43mself\u001b[39;49m\u001b[38;5;241;43m.\u001b[39;49m\u001b[43mindex\u001b[49m\u001b[43m)\u001b[49m\n\u001b[1;32m   4530\u001b[0m \u001b[38;5;28;01mreturn\u001b[39;00m sanitize_array(value, \u001b[38;5;28mself\u001b[39m\u001b[38;5;241m.\u001b[39mindex, copy\u001b[38;5;241m=\u001b[39m\u001b[38;5;28;01mTrue\u001b[39;00m, allow_2d\u001b[38;5;241m=\u001b[39m\u001b[38;5;28;01mTrue\u001b[39;00m)\n",
      "File \u001b[0;32m~/anaconda3/envs/MachineLearning/lib/python3.8/site-packages/pandas/core/common.py:557\u001b[0m, in \u001b[0;36mrequire_length_match\u001b[0;34m(data, index)\u001b[0m\n\u001b[1;32m    553\u001b[0m \u001b[38;5;124;03m\"\"\"\u001b[39;00m\n\u001b[1;32m    554\u001b[0m \u001b[38;5;124;03mCheck the length of data matches the length of the index.\u001b[39;00m\n\u001b[1;32m    555\u001b[0m \u001b[38;5;124;03m\"\"\"\u001b[39;00m\n\u001b[1;32m    556\u001b[0m \u001b[38;5;28;01mif\u001b[39;00m \u001b[38;5;28mlen\u001b[39m(data) \u001b[38;5;241m!=\u001b[39m \u001b[38;5;28mlen\u001b[39m(index):\n\u001b[0;32m--> 557\u001b[0m     \u001b[38;5;28;01mraise\u001b[39;00m \u001b[38;5;167;01mValueError\u001b[39;00m(\n\u001b[1;32m    558\u001b[0m         \u001b[38;5;124m\"\u001b[39m\u001b[38;5;124mLength of values \u001b[39m\u001b[38;5;124m\"\u001b[39m\n\u001b[1;32m    559\u001b[0m         \u001b[38;5;124mf\u001b[39m\u001b[38;5;124m\"\u001b[39m\u001b[38;5;124m(\u001b[39m\u001b[38;5;132;01m{\u001b[39;00m\u001b[38;5;28mlen\u001b[39m(data)\u001b[38;5;132;01m}\u001b[39;00m\u001b[38;5;124m) \u001b[39m\u001b[38;5;124m\"\u001b[39m\n\u001b[1;32m    560\u001b[0m         \u001b[38;5;124m\"\u001b[39m\u001b[38;5;124mdoes not match length of index \u001b[39m\u001b[38;5;124m\"\u001b[39m\n\u001b[1;32m    561\u001b[0m         \u001b[38;5;124mf\u001b[39m\u001b[38;5;124m\"\u001b[39m\u001b[38;5;124m(\u001b[39m\u001b[38;5;132;01m{\u001b[39;00m\u001b[38;5;28mlen\u001b[39m(index)\u001b[38;5;132;01m}\u001b[39;00m\u001b[38;5;124m)\u001b[39m\u001b[38;5;124m\"\u001b[39m\n\u001b[1;32m    562\u001b[0m     )\n",
      "\u001b[0;31mValueError\u001b[0m: Length of values (906) does not match length of index (3120)"
     ]
    }
   ],
   "source": [
    "filesv = setup[\"experiment_id\"]+setup[\"folder_semivariances\"]+setup[\"output_semivariances\"]+\".csv\"\n",
    "filesvmask = setup[\"experiment_id\"]+setup[\"folder_semivariances\"]+setup[\"output_semivariances\"]+\"mask.csv\"\n",
    "\n",
    "\n",
    "df_semivariance = pd.DataFrame(allsemivariances)\n",
    "df_semivariance.insert(0,\"coordsy\",coords[:,0]) \n",
    "df_semivariance.insert(1,\"coordsx\",coords[:,1])\n",
    "df_semivariance.to_csv(filesv)\n",
    "\n",
    "df_semivariance_mask = pd.DataFrame(allmask)\n",
    "df_semivariance_mask.insert(0,\"coordsy\",coords[:,0]) \n",
    "df_semivariance_mask.insert(1,\"coordsx\",coords[:,1])\n",
    "df_semivariance_mask.to_csv(filesvmask)"
   ]
  },
  {
   "cell_type": "markdown",
   "id": "a70a7d2f-6a33-45d1-b612-c1ac17651591",
   "metadata": {},
   "source": [
    "# Hasta aqui se acaba el codigo importante"
   ]
  },
  {
   "cell_type": "code",
   "execution_count": 85,
   "id": "c10f770e-8225-4f66-9e13-edf17f1e0b6e",
   "metadata": {
    "collapsed": true,
    "jupyter": {
     "outputs_hidden": true
    },
    "tags": []
   },
   "outputs": [
    {
     "data": {
      "text/plain": [
       "<matplotlib.image.AxesImage at 0x7fd2e1bf0d30>"
      ]
     },
     "execution_count": 85,
     "metadata": {},
     "output_type": "execute_result"
    },
    {
     "data": {
      "image/png": "[encoded data removed]",
      "text/plain": [
       "<Figure size 432x288 with 1 Axes>"
      ]
     },
     "metadata": {},
     "output_type": "display_data"
    }
   ],
   "source": [
    "si = (33,29)\n",
    " #generate a semivariance sv map\n",
    "\n",
    "sv = rG.makeSemivarianceMap(si)\n",
    "plt.imshow(sv)"
   ]
  },
  {
   "cell_type": "code",
   "execution_count": 86,
   "id": "a9ecd85d-7240-4a4c-bd00-e4a8ef497ed9",
   "metadata": {},
   "outputs": [],
   "source": [
    "svm = ps.constructMask(si,sv,True)"
   ]
  },
  {
   "cell_type": "code",
   "execution_count": 87,
   "id": "ce603ba9-4b7a-4cc8-bf09-c840443f0923",
   "metadata": {},
   "outputs": [
    {
     "data": {
      "text/plain": [
       "<matplotlib.image.AxesImage at 0x7fd2900ef520>"
      ]
     },
     "execution_count": 87,
     "metadata": {},
     "output_type": "execute_result"
    },
    {
     "data": {
      "image/png": "[encoded data removed]",
      "text/plain": [
       "<Figure size 432x288 with 1 Axes>"
      ]
     },
     "metadata": {},
     "output_type": "display_data"
    }
   ],
   "source": [
    "svm[si]=0\n",
    "plt.imshow(svm)"
   ]
  },
  {
   "cell_type": "code",
   "execution_count": 89,
   "id": "40c9891f-29c0-4b46-8516-a1211f6366de",
   "metadata": {},
   "outputs": [],
   "source": [
    "rG.si = si\n",
    "sj=(20,30)\n",
    "v = rG.getRegion(sj)\n"
   ]
  },
  {
   "cell_type": "code",
   "execution_count": 90,
   "id": "f9209048-3fff-4272-9a40-8538dee5711b",
   "metadata": {},
   "outputs": [
    {
     "data": {
      "text/plain": [
       "<matplotlib.image.AxesImage at 0x7fd2d3ca2af0>"
      ]
     },
     "execution_count": 90,
     "metadata": {},
     "output_type": "execute_result"
    },
    {
     "data": {
      "image/png": "[encoded data removed]",
      "text/plain": [
       "<Figure size 432x288 with 1 Axes>"
      ]
     },
     "metadata": {},
     "output_type": "display_data"
    }
   ],
   "source": [
    "plt.imshow(v)"
   ]
  },
  {
   "cell_type": "code",
   "execution_count": null,
   "id": "f408fb47-1942-4c58-a18c-b2285e136a36",
   "metadata": {},
   "outputs": [],
   "source": []
  },
  {
   "cell_type": "code",
   "execution_count": 91,
   "id": "ba43eb5f-c2be-4b65-ae20-07089bd1418c",
   "metadata": {},
   "outputs": [
    {
     "data": {
      "text/plain": [
       "<matplotlib.image.AxesImage at 0x7fd2d3a813a0>"
      ]
     },
     "execution_count": 91,
     "metadata": {},
     "output_type": "execute_result"
    },
    {
     "data": {
      "image/png": "[encoded data removed]",
      "text/plain": [
       "<Figure size 432x288 with 1 Axes>"
      ]
     },
     "metadata": {},
     "output_type": "display_data"
    }
   ],
   "source": [
    "plt.imshow(allsemivariances[0].reshape(FDNTLI.shape))"
   ]
  },
  {
   "cell_type": "code",
   "execution_count": 81,
   "id": "f526c5bc-c990-43ee-b4e5-764fd900cb77",
   "metadata": {},
   "outputs": [],
   "source": [
    "sv = rG.makeSemivarianceMap(si)"
   ]
  },
  {
   "cell_type": "code",
   "execution_count": 92,
   "id": "4911169d-21c4-49a6-9220-4c450f2dd033",
   "metadata": {},
   "outputs": [],
   "source": [
    "filesv = setup[\"experiment_id\"]+setup[\"folder_semivariances\"]+setup[\"output_semivariances\"]+\".csv\"\n",
    "filesvmask = setup[\"experiment_id\"]+setup[\"folder_semivariances\"]+setup[\"output_semivariances\"]+\"mask.csv\"\n"
   ]
  },
  {
   "cell_type": "code",
   "execution_count": null,
   "id": "1739dc28-ddae-4621-aefa-60cb2414534e",
   "metadata": {},
   "outputs": [],
   "source": []
  },
  {
   "cell_type": "code",
   "execution_count": 93,
   "id": "01fd45b3-0217-43a1-afd7-46e3a15fd151",
   "metadata": {},
   "outputs": [],
   "source": [
    "\n",
    "df_semivariance = pd.DataFrame(allsemivariances)\n",
    "df_semivariance.insert(0,\"coordsy\",coords[:,0]) \n",
    "df_semivariance.insert(1,\"coordsx\",coords[:,1])\n",
    "df_semivariance.to_csv(filesv)\n",
    "\n",
    "df_semivariance_mask = pd.DataFrame(allmask)\n",
    "df_semivariance_mask.insert(0,\"coordsy\",coords[:,0]) \n",
    "df_semivariance_mask.insert(1,\"coordsx\",coords[:,1])\n",
    "df_semivariance_mask.to_csv(filesvmask)"
   ]
  },
  {
   "cell_type": "code",
   "execution_count": 94,
   "id": "7c04debc-b37b-46f7-919d-86924b92a816",
   "metadata": {},
   "outputs": [],
   "source": [
    "\n",
    "\n",
    "params = {\"type\": \"semivar\", \n",
    "          \"atol\": setup[\"tolerance_angle\"], \n",
    "          \"dtol\": setup[\"tolerance_distance\"]}\n",
    "\n",
    "\n",
    "sv = np.zeros(FDNTLI.shape)\n",
    "\n",
    "#tell to the class, which object is going to be used to make the semivariogram\n",
    "\n",
    "\n",
    "rG = rg.rGrowing(FDNTLI)\n",
    "\n",
    "rG.setParams(params)"
   ]
  },
  {
   "cell_type": "code",
   "execution_count": 95,
   "id": "8bf9a847-cc23-45ef-b062-d849368516ef",
   "metadata": {},
   "outputs": [
    {
     "data": {
      "text/plain": [
       "(33, 29)"
      ]
     },
     "execution_count": 95,
     "metadata": {},
     "output_type": "execute_result"
    }
   ],
   "source": [
    "si"
   ]
  },
  {
   "cell_type": "code",
   "execution_count": 96,
   "id": "5e2e2123-76b9-4b5f-8fb4-08e9e8c556b9",
   "metadata": {},
   "outputs": [],
   "source": [
    "sv = rG.makeSemivarianceMap(si)\n",
    "    \n",
    "#flattne sv to store it in a dataframe\n",
    "allsemivariances = sv.flatten()"
   ]
  },
  {
   "cell_type": "code",
   "execution_count": 97,
   "id": "642dd4cc-d04c-4b0a-909e-5b9b80f1b245",
   "metadata": {},
   "outputs": [
    {
     "data": {
      "text/plain": [
       "<matplotlib.image.AxesImage at 0x7fd2a0229880>"
      ]
     },
     "execution_count": 97,
     "metadata": {},
     "output_type": "execute_result"
    },
    {
     "data": {
      "image/png": "[encoded data removed]",
      "text/plain": [
       "<Figure size 432x288 with 1 Axes>"
      ]
     },
     "metadata": {},
     "output_type": "display_data"
    }
   ],
   "source": [
    "plt.imshow(sv)"
   ]
  },
  {
   "cell_type": "code",
   "execution_count": 98,
   "id": "270445ee-253f-4a77-a8ea-9f5a92854515",
   "metadata": {},
   "outputs": [
    {
     "data": {
      "text/plain": [
       "<matplotlib.image.AxesImage at 0x7fd2d3e55070>"
      ]
     },
     "execution_count": 98,
     "metadata": {},
     "output_type": "execute_result"
    },
    {
     "data": {
      "image/png": "[encoded data removed]",
      "text/plain": [
       "<Figure size 432x288 with 1 Axes>"
      ]
     },
     "metadata": {},
     "output_type": "display_data"
    }
   ],
   "source": [
    "plt.imshow(allsemivariances.reshape(FDNTLI.shape))"
   ]
  },
  {
   "cell_type": "code",
   "execution_count": null,
   "id": "3bcb5497-9e56-4dbe-b99f-53c29c6187d7",
   "metadata": {},
   "outputs": [],
   "source": []
  },
  {
   "cell_type": "code",
   "execution_count": 99,
   "id": "c85cb5cc-163b-4cbb-a5d7-66621d1a7d2e",
   "metadata": {},
   "outputs": [
    {
     "data": {
      "text/plain": [
       "<matplotlib.image.AxesImage at 0x7fd2d3ed9760>"
      ]
     },
     "execution_count": 99,
     "metadata": {},
     "output_type": "execute_result"
    },
    {
     "data": {
      "image/png": "[encoded data removed]",
      "text/plain": [
       "<Figure size 432x288 with 1 Axes>"
      ]
     },
     "metadata": {},
     "output_type": "display_data"
    }
   ],
   "source": [
    "plt.imshow(variograms[0]-sv)"
   ]
  },
  {
   "cell_type": "code",
   "execution_count": 80,
   "id": "cada428f-f9ff-47b2-b1a7-b99793b2f297",
   "metadata": {},
   "outputs": [
    {
     "data": {
      "text/plain": [
       "<matplotlib.image.AxesImage at 0x7fbfbb76bc40>"
      ]
     },
     "execution_count": 80,
     "metadata": {},
     "output_type": "execute_result"
    },
    {
     "data": {
      "image/png": "[encoded data removed]",
      "text/plain": [
       "<Figure size 432x288 with 1 Axes>"
      ]
     },
     "metadata": {},
     "output_type": "display_data"
    }
   ],
   "source": [
    "sv2 = rG.makeSemivarianceMap(si)\n",
    "plt.imshow(sv2)"
   ]
  },
  {
   "cell_type": "code",
   "execution_count": null,
   "id": "41547a09-abb6-456c-b524-a3a3214b1814",
   "metadata": {},
   "outputs": [],
   "source": []
  },
  {
   "cell_type": "code",
   "execution_count": 62,
   "id": "b4611723-5b09-4c29-96d5-6669c362a47b",
   "metadata": {},
   "outputs": [],
   "source": [
    "\n",
    "\n",
    "sv = rG.makeSemivarianceMap(si)"
   ]
  },
  {
   "cell_type": "code",
   "execution_count": null,
   "id": "2a8671e5-d983-46d7-a59c-e6f02c756162",
   "metadata": {},
   "outputs": [],
   "source": []
  },
  {
   "cell_type": "code",
   "execution_count": 63,
   "id": "7fbb6e9e-1ea5-4426-965c-9ce7a74f87f9",
   "metadata": {},
   "outputs": [
    {
     "data": {
      "text/plain": [
       "<matplotlib.image.AxesImage at 0x7fbfc8bce400>"
      ]
     },
     "execution_count": 63,
     "metadata": {},
     "output_type": "execute_result"
    },
    {
     "data": {
      "image/png": "[encoded data removed]",
      "text/plain": [
       "<Figure size 432x288 with 1 Axes>"
      ]
     },
     "metadata": {},
     "output_type": "display_data"
    }
   ],
   "source": [
    "csv = np.copy(sv)\n",
    "csv[si] = np.max(sv)\n",
    "plt.imshow(csv)"
   ]
  },
  {
   "cell_type": "code",
   "execution_count": 64,
   "id": "6794e4fc-4e7e-4c0b-8a13-18648922e0d9",
   "metadata": {},
   "outputs": [
    {
     "data": {
      "text/plain": [
       "<matplotlib.image.AxesImage at 0x7fbf881c7760>"
      ]
     },
     "execution_count": 64,
     "metadata": {},
     "output_type": "execute_result"
    },
    {
     "data": {
      "image/png": "[encoded data removed]",
      "text/plain": [
       "<Figure size 432x288 with 1 Axes>"
      ]
     },
     "metadata": {},
     "output_type": "display_data"
    }
   ],
   "source": [
    "plt.imshow(ps.constructMask(si,sv,True)*(FDNTLI>0))"
   ]
  },
  {
   "cell_type": "code",
   "execution_count": 65,
   "id": "b677a46b-ec33-40c6-a9b9-c50dcd4e802c",
   "metadata": {},
   "outputs": [
    {
     "data": {
      "text/plain": [
       "<matplotlib.image.AxesImage at 0x7fbfa8098e80>"
      ]
     },
     "execution_count": 65,
     "metadata": {},
     "output_type": "execute_result"
    },
    {
     "data": {
      "image/png": "[encoded data removed]",
      "text/plain": [
       "<Figure size 432x288 with 1 Axes>"
      ]
     },
     "metadata": {},
     "output_type": "display_data"
    }
   ],
   "source": [
    "plt.imshow(ps.constructMask(si,sv,False))"
   ]
  },
  {
   "cell_type": "markdown",
   "id": "d5d73792-f3f2-4dab-b3df-73e9a6cacdb3",
   "metadata": {},
   "source": [
    "### Verify .csv"
   ]
  },
  {
   "cell_type": "code",
   "execution_count": 113,
   "id": "4dc53f0e-0ba2-4969-aaf3-2d0750b22b24",
   "metadata": {},
   "outputs": [
    {
     "name": "stdout",
     "output_type": "stream",
     "text": [
      " W = i*a^(p)\n",
      "Selct cost functions: \n",
      " 'xor','max' or 'cover'\n"
     ]
    }
   ],
   "source": [
    "filesv = setup[\"experiment_id\"]+setup[\"folder_semivariances\"]+setup[\"output_semivariances\"]+\".csv\"\n",
    "filesvmask = setup[\"experiment_id\"]+setup[\"folder_semivariances\"]+setup[\"output_semivariances\"]+\"mask.csv\"\n",
    "\n",
    "data = pd.read_csv(filesv)\n",
    "data_m = pd.read_csv(filesvmask)\n",
    "\n",
    "variogram_set = np.array(data.iloc[:,3:])\n",
    "variogram_set_m = np.array(data_m.iloc[:,3:])\n",
    "variograms = variogram_set.reshape(len(variogram_set),FDNTLI.shape[0],FDNTLI.shape[1])\n",
    "variograms_m = variogram_set_m.reshape(len(variogram_set),FDNTLI.shape[0],FDNTLI.shape[1])\n",
    "sensitivity = ps.f5(FDNTLI,EAM,1)\n",
    "aptitude = netfit.NetworkFitness(FDNTLI,EAM,sensitivity,variograms,variograms_m,coords)"
   ]
  },
  {
   "cell_type": "code",
   "execution_count": 114,
   "id": "59f07f56-95dd-438c-9900-9b42299148b3",
   "metadata": {},
   "outputs": [
    {
     "data": {
      "text/plain": [
       "<matplotlib.image.AxesImage at 0x7fd2e150cb50>"
      ]
     },
     "execution_count": 114,
     "metadata": {},
     "output_type": "execute_result"
    },
    {
     "data": {
      "image/png": "[encoded data removed]",
      "text/plain": [
       "<Figure size 432x288 with 1 Axes>"
      ]
     },
     "metadata": {},
     "output_type": "display_data"
    }
   ],
   "source": [
    "plt.imshow(variograms[0])"
   ]
  },
  {
   "cell_type": "code",
   "execution_count": null,
   "id": "76cc947f-07aa-48b1-bbab-3423dee7a57d",
   "metadata": {},
   "outputs": [],
   "source": []
  },
  {
   "cell_type": "code",
   "execution_count": 115,
   "id": "9f13def0-e3ac-45c9-95ca-d1e0ee089312",
   "metadata": {},
   "outputs": [
    {
     "name": "stdout",
     "output_type": "stream",
     "text": [
      "[601]\n"
     ]
    },
    {
     "data": {
      "text/plain": [
       "<matplotlib.image.AxesImage at 0x7fd2d3e1df40>"
      ]
     },
     "execution_count": 115,
     "metadata": {},
     "output_type": "execute_result"
    },
    {
     "data": {
      "image/png": "[encoded data removed]",
      "text/plain": [
       "<Figure size 432x288 with 1 Axes>"
      ]
     },
     "metadata": {},
     "output_type": "display_data"
    }
   ],
   "source": [
    "ix = aptitude.validate_coordinates(si[0],si[1])\n",
    "print(ix)\n",
    "csvsm = np.copy(variograms[ix][0])\n",
    "plt.imshow(csvsm)"
   ]
  },
  {
   "cell_type": "code",
   "execution_count": 116,
   "id": "54ecc7dd-0035-426c-8ac1-3a9f0a9059a9",
   "metadata": {},
   "outputs": [
    {
     "data": {
      "text/plain": [
       "<matplotlib.image.AxesImage at 0x7fd2e28f3550>"
      ]
     },
     "execution_count": 116,
     "metadata": {},
     "output_type": "execute_result"
    },
    {
     "data": {
      "image/png": "[encoded data removed]",
      "text/plain": [
       "<Figure size 432x288 with 1 Axes>"
      ]
     },
     "metadata": {},
     "output_type": "display_data"
    }
   ],
   "source": [
    "n = csvsm-sv\n",
    "plt.imshow(n)"
   ]
  },
  {
   "cell_type": "code",
   "execution_count": null,
   "id": "eb97d1c3-7cff-4c1e-8d49-805cc2cd11e5",
   "metadata": {},
   "outputs": [],
   "source": []
  },
  {
   "cell_type": "code",
   "execution_count": 44,
   "id": "6ebd3522-1a33-4b7c-86c2-41dbdadd9b0d",
   "metadata": {},
   "outputs": [
    {
     "ename": "NameError",
     "evalue": "name 'sm' is not defined",
     "output_type": "error",
     "traceback": [
      "\u001b[0;31m----------------------------------------------------------------\u001b[0m",
      "\u001b[0;31mNameError\u001b[0m                      Traceback (most recent call last)",
      "Input \u001b[0;32mIn [44]\u001b[0m, in \u001b[0;36m<cell line: 1>\u001b[0;34m()\u001b[0m\n\u001b[0;32m----> 1\u001b[0m plt\u001b[38;5;241m.\u001b[39mimshow(\u001b[43msm\u001b[49m)\n",
      "\u001b[0;31mNameError\u001b[0m: name 'sm' is not defined"
     ]
    }
   ],
   "source": [
    "plt.imshow(sm)"
   ]
  },
  {
   "cell_type": "code",
   "execution_count": 90,
   "id": "866c06e2-4821-4098-bbb2-7c9363b3d6a8",
   "metadata": {},
   "outputs": [
    {
     "ename": "ValueError",
     "evalue": "The truth value of a Series is ambiguous. Use a.empty, a.bool(), a.item(), a.any() or a.all().",
     "output_type": "error",
     "traceback": [
      "\u001b[0;31m----------------------------------------------------------------\u001b[0m",
      "\u001b[0;31mValueError\u001b[0m                     Traceback (most recent call last)",
      "Input \u001b[0;32mIn [90]\u001b[0m, in \u001b[0;36m<cell line: 1>\u001b[0;34m()\u001b[0m\n\u001b[0;32m----> 1\u001b[0m ((data[\u001b[38;5;124m\"\u001b[39m\u001b[38;5;124mcoordsy\u001b[39m\u001b[38;5;124m\"\u001b[39m]\u001b[38;5;241m==\u001b[39msi[\u001b[38;5;241m0\u001b[39m]) \u001b[38;5;129;01mand\u001b[39;00m  (data[\u001b[38;5;124m\"\u001b[39m\u001b[38;5;124mcoordsx\u001b[39m\u001b[38;5;124m\"\u001b[39m]\u001b[38;5;241m==\u001b[39msi[\u001b[38;5;241m1\u001b[39m]))\n",
      "File \u001b[0;32m~/anaconda3/envs/MachineLearning/lib/python3.8/site-packages/pandas/core/generic.py:1535\u001b[0m, in \u001b[0;36mNDFrame.__nonzero__\u001b[0;34m(self)\u001b[0m\n\u001b[1;32m   1533\u001b[0m \u001b[38;5;129m@final\u001b[39m\n\u001b[1;32m   1534\u001b[0m \u001b[38;5;28;01mdef\u001b[39;00m \u001b[38;5;21m__nonzero__\u001b[39m(\u001b[38;5;28mself\u001b[39m):\n\u001b[0;32m-> 1535\u001b[0m     \u001b[38;5;28;01mraise\u001b[39;00m \u001b[38;5;167;01mValueError\u001b[39;00m(\n\u001b[1;32m   1536\u001b[0m         \u001b[38;5;124mf\u001b[39m\u001b[38;5;124m\"\u001b[39m\u001b[38;5;124mThe truth value of a \u001b[39m\u001b[38;5;132;01m{\u001b[39;00m\u001b[38;5;28mtype\u001b[39m(\u001b[38;5;28mself\u001b[39m)\u001b[38;5;241m.\u001b[39m\u001b[38;5;18m__name__\u001b[39m\u001b[38;5;132;01m}\u001b[39;00m\u001b[38;5;124m is ambiguous. \u001b[39m\u001b[38;5;124m\"\u001b[39m\n\u001b[1;32m   1537\u001b[0m         \u001b[38;5;124m\"\u001b[39m\u001b[38;5;124mUse a.empty, a.bool(), a.item(), a.any() or a.all().\u001b[39m\u001b[38;5;124m\"\u001b[39m\n\u001b[1;32m   1538\u001b[0m     )\n",
      "\u001b[0;31mValueError\u001b[0m: The truth value of a Series is ambiguous. Use a.empty, a.bool(), a.item(), a.any() or a.all()."
     ]
    }
   ],
   "source": [
    "((data[\"coordsy\"]==si[0]) and  (data[\"coordsx\"]==si[1]))"
   ]
  },
  {
   "cell_type": "code",
   "execution_count": 96,
   "id": "fa77856e-b04a-4610-83de-8f573d4f3729",
   "metadata": {},
   "outputs": [],
   "source": [
    "params = {\"type\": \"semivar\", \n",
    "          \"si\": si, \n",
    "          \"atol\": setup[\"tolerance_angle\"], \n",
    "          \"dtol\": setup[\"tolerance_distance\"]}\n",
    "\n",
    "\n",
    "sv = np.zeros(luminance.shape)\n",
    "\n",
    "#tell to the class, which object is going to be used to make the semivariogram\n",
    "\n",
    "\n",
    "rG = rg.rGrowing(nonsat2)\n",
    "\n",
    "rG.setParams(params)\n",
    "\n",
    "sv = rG.makeSemivarianceMap(si)"
   ]
  },
  {
   "cell_type": "code",
   "execution_count": 118,
   "id": "353cc555-bd32-4dc4-b02f-8b374add57ff",
   "metadata": {},
   "outputs": [
    {
     "data": {
      "text/html": [
       "<div>\n",
       "<style scoped>\n",
       "    .dataframe tbody tr th:only-of-type {\n",
       "        vertical-align: middle;\n",
       "    }\n",
       "\n",
       "    .dataframe tbody tr th {\n",
       "        vertical-align: top;\n",
       "    }\n",
       "\n",
       "    .dataframe thead th {\n",
       "        text-align: right;\n",
       "    }\n",
       "</style>\n",
       "<table border=\"1\" class=\"dataframe\">\n",
       "  <thead>\n",
       "    <tr style=\"text-align: right;\">\n",
       "      <th></th>\n",
       "      <th>Unnamed: 0</th>\n",
       "      <th>coordsy</th>\n",
       "      <th>coordsx</th>\n",
       "      <th>0</th>\n",
       "      <th>1</th>\n",
       "      <th>2</th>\n",
       "      <th>3</th>\n",
       "      <th>4</th>\n",
       "      <th>5</th>\n",
       "      <th>6</th>\n",
       "      <th>...</th>\n",
       "      <th>3110</th>\n",
       "      <th>3111</th>\n",
       "      <th>3112</th>\n",
       "      <th>3113</th>\n",
       "      <th>3114</th>\n",
       "      <th>3115</th>\n",
       "      <th>3116</th>\n",
       "      <th>3117</th>\n",
       "      <th>3118</th>\n",
       "      <th>3119</th>\n",
       "    </tr>\n",
       "  </thead>\n",
       "  <tbody>\n",
       "    <tr>\n",
       "      <th>0</th>\n",
       "      <td>0</td>\n",
       "      <td>2</td>\n",
       "      <td>19</td>\n",
       "      <td>291.654125</td>\n",
       "      <td>291.654125</td>\n",
       "      <td>291.654125</td>\n",
       "      <td>291.654125</td>\n",
       "      <td>291.654125</td>\n",
       "      <td>291.654125</td>\n",
       "      <td>291.654125</td>\n",
       "      <td>...</td>\n",
       "      <td>291.654125</td>\n",
       "      <td>291.654125</td>\n",
       "      <td>291.654125</td>\n",
       "      <td>291.654125</td>\n",
       "      <td>291.654125</td>\n",
       "      <td>291.654125</td>\n",
       "      <td>291.654125</td>\n",
       "      <td>291.654125</td>\n",
       "      <td>291.654125</td>\n",
       "      <td>291.654125</td>\n",
       "    </tr>\n",
       "    <tr>\n",
       "      <th>1</th>\n",
       "      <td>1</td>\n",
       "      <td>3</td>\n",
       "      <td>17</td>\n",
       "      <td>301.402967</td>\n",
       "      <td>301.402967</td>\n",
       "      <td>301.402967</td>\n",
       "      <td>301.402967</td>\n",
       "      <td>301.402967</td>\n",
       "      <td>301.402967</td>\n",
       "      <td>301.402967</td>\n",
       "      <td>...</td>\n",
       "      <td>301.402967</td>\n",
       "      <td>301.402967</td>\n",
       "      <td>301.402967</td>\n",
       "      <td>301.402967</td>\n",
       "      <td>301.402967</td>\n",
       "      <td>301.402967</td>\n",
       "      <td>301.402967</td>\n",
       "      <td>301.402967</td>\n",
       "      <td>301.402967</td>\n",
       "      <td>301.402967</td>\n",
       "    </tr>\n",
       "    <tr>\n",
       "      <th>2</th>\n",
       "      <td>2</td>\n",
       "      <td>3</td>\n",
       "      <td>18</td>\n",
       "      <td>443.744094</td>\n",
       "      <td>443.744094</td>\n",
       "      <td>443.744094</td>\n",
       "      <td>443.744094</td>\n",
       "      <td>443.744094</td>\n",
       "      <td>443.744094</td>\n",
       "      <td>443.744094</td>\n",
       "      <td>...</td>\n",
       "      <td>443.744094</td>\n",
       "      <td>443.744094</td>\n",
       "      <td>443.744094</td>\n",
       "      <td>443.744094</td>\n",
       "      <td>443.744094</td>\n",
       "      <td>443.744094</td>\n",
       "      <td>443.744094</td>\n",
       "      <td>443.744094</td>\n",
       "      <td>443.744094</td>\n",
       "      <td>443.744094</td>\n",
       "    </tr>\n",
       "    <tr>\n",
       "      <th>3</th>\n",
       "      <td>3</td>\n",
       "      <td>3</td>\n",
       "      <td>19</td>\n",
       "      <td>433.696100</td>\n",
       "      <td>433.696100</td>\n",
       "      <td>433.696100</td>\n",
       "      <td>433.696100</td>\n",
       "      <td>433.696100</td>\n",
       "      <td>433.696100</td>\n",
       "      <td>433.696100</td>\n",
       "      <td>...</td>\n",
       "      <td>433.696100</td>\n",
       "      <td>433.696100</td>\n",
       "      <td>433.696100</td>\n",
       "      <td>433.696100</td>\n",
       "      <td>433.696100</td>\n",
       "      <td>433.696100</td>\n",
       "      <td>433.696100</td>\n",
       "      <td>433.696100</td>\n",
       "      <td>433.696100</td>\n",
       "      <td>433.696100</td>\n",
       "    </tr>\n",
       "    <tr>\n",
       "      <th>4</th>\n",
       "      <td>4</td>\n",
       "      <td>3</td>\n",
       "      <td>20</td>\n",
       "      <td>333.394421</td>\n",
       "      <td>333.394421</td>\n",
       "      <td>333.394421</td>\n",
       "      <td>333.394421</td>\n",
       "      <td>333.394421</td>\n",
       "      <td>333.394421</td>\n",
       "      <td>333.394421</td>\n",
       "      <td>...</td>\n",
       "      <td>333.394421</td>\n",
       "      <td>333.394421</td>\n",
       "      <td>333.394421</td>\n",
       "      <td>333.394421</td>\n",
       "      <td>333.394421</td>\n",
       "      <td>333.394421</td>\n",
       "      <td>333.394421</td>\n",
       "      <td>333.394421</td>\n",
       "      <td>333.394421</td>\n",
       "      <td>333.394421</td>\n",
       "    </tr>\n",
       "    <tr>\n",
       "      <th>...</th>\n",
       "      <td>...</td>\n",
       "      <td>...</td>\n",
       "      <td>...</td>\n",
       "      <td>...</td>\n",
       "      <td>...</td>\n",
       "      <td>...</td>\n",
       "      <td>...</td>\n",
       "      <td>...</td>\n",
       "      <td>...</td>\n",
       "      <td>...</td>\n",
       "      <td>...</td>\n",
       "      <td>...</td>\n",
       "      <td>...</td>\n",
       "      <td>...</td>\n",
       "      <td>...</td>\n",
       "      <td>...</td>\n",
       "      <td>...</td>\n",
       "      <td>...</td>\n",
       "      <td>...</td>\n",
       "      <td>...</td>\n",
       "      <td>...</td>\n",
       "    </tr>\n",
       "    <tr>\n",
       "      <th>901</th>\n",
       "      <td>901</td>\n",
       "      <td>46</td>\n",
       "      <td>50</td>\n",
       "      <td>413.698715</td>\n",
       "      <td>413.698715</td>\n",
       "      <td>413.698715</td>\n",
       "      <td>413.698715</td>\n",
       "      <td>413.698715</td>\n",
       "      <td>413.698715</td>\n",
       "      <td>413.698715</td>\n",
       "      <td>...</td>\n",
       "      <td>413.698715</td>\n",
       "      <td>413.698715</td>\n",
       "      <td>413.698715</td>\n",
       "      <td>413.698715</td>\n",
       "      <td>413.698715</td>\n",
       "      <td>413.698715</td>\n",
       "      <td>413.698715</td>\n",
       "      <td>413.698715</td>\n",
       "      <td>413.698715</td>\n",
       "      <td>413.698715</td>\n",
       "    </tr>\n",
       "    <tr>\n",
       "      <th>902</th>\n",
       "      <td>902</td>\n",
       "      <td>46</td>\n",
       "      <td>51</td>\n",
       "      <td>464.143246</td>\n",
       "      <td>464.143246</td>\n",
       "      <td>464.143246</td>\n",
       "      <td>464.143246</td>\n",
       "      <td>464.143246</td>\n",
       "      <td>464.143246</td>\n",
       "      <td>464.143246</td>\n",
       "      <td>...</td>\n",
       "      <td>464.143246</td>\n",
       "      <td>464.143246</td>\n",
       "      <td>464.143246</td>\n",
       "      <td>464.143246</td>\n",
       "      <td>464.143246</td>\n",
       "      <td>464.143246</td>\n",
       "      <td>464.143246</td>\n",
       "      <td>464.143246</td>\n",
       "      <td>464.143246</td>\n",
       "      <td>464.143246</td>\n",
       "    </tr>\n",
       "    <tr>\n",
       "      <th>903</th>\n",
       "      <td>903</td>\n",
       "      <td>47</td>\n",
       "      <td>50</td>\n",
       "      <td>309.648689</td>\n",
       "      <td>309.648689</td>\n",
       "      <td>309.648689</td>\n",
       "      <td>309.648689</td>\n",
       "      <td>309.648689</td>\n",
       "      <td>309.648689</td>\n",
       "      <td>309.648689</td>\n",
       "      <td>...</td>\n",
       "      <td>309.648689</td>\n",
       "      <td>309.648689</td>\n",
       "      <td>309.648689</td>\n",
       "      <td>309.648689</td>\n",
       "      <td>309.648689</td>\n",
       "      <td>309.648689</td>\n",
       "      <td>309.648689</td>\n",
       "      <td>309.648689</td>\n",
       "      <td>309.648689</td>\n",
       "      <td>309.648689</td>\n",
       "    </tr>\n",
       "    <tr>\n",
       "      <th>904</th>\n",
       "      <td>904</td>\n",
       "      <td>47</td>\n",
       "      <td>51</td>\n",
       "      <td>340.375672</td>\n",
       "      <td>340.375672</td>\n",
       "      <td>340.375672</td>\n",
       "      <td>340.375672</td>\n",
       "      <td>340.375672</td>\n",
       "      <td>340.375672</td>\n",
       "      <td>340.375672</td>\n",
       "      <td>...</td>\n",
       "      <td>340.375672</td>\n",
       "      <td>340.375672</td>\n",
       "      <td>340.375672</td>\n",
       "      <td>340.375672</td>\n",
       "      <td>340.375672</td>\n",
       "      <td>340.375672</td>\n",
       "      <td>340.375672</td>\n",
       "      <td>340.375672</td>\n",
       "      <td>340.375672</td>\n",
       "      <td>340.375672</td>\n",
       "    </tr>\n",
       "    <tr>\n",
       "      <th>905</th>\n",
       "      <td>905</td>\n",
       "      <td>55</td>\n",
       "      <td>35</td>\n",
       "      <td>275.899426</td>\n",
       "      <td>275.899426</td>\n",
       "      <td>275.899426</td>\n",
       "      <td>275.899426</td>\n",
       "      <td>275.899426</td>\n",
       "      <td>275.899426</td>\n",
       "      <td>275.899426</td>\n",
       "      <td>...</td>\n",
       "      <td>275.899426</td>\n",
       "      <td>275.899426</td>\n",
       "      <td>275.899426</td>\n",
       "      <td>275.899426</td>\n",
       "      <td>275.899426</td>\n",
       "      <td>275.899426</td>\n",
       "      <td>275.899426</td>\n",
       "      <td>275.899426</td>\n",
       "      <td>275.899426</td>\n",
       "      <td>275.899426</td>\n",
       "    </tr>\n",
       "  </tbody>\n",
       "</table>\n",
       "<p>906 rows × 3123 columns</p>\n",
       "</div>"
      ],
      "text/plain": [
       "     Unnamed: 0  coordsy  coordsx           0           1           2  \\\n",
       "0             0        2       19  291.654125  291.654125  291.654125   \n",
       "1             1        3       17  301.402967  301.402967  301.402967   \n",
       "2             2        3       18  443.744094  443.744094  443.744094   \n",
       "3             3        3       19  433.696100  433.696100  433.696100   \n",
       "4             4        3       20  333.394421  333.394421  333.394421   \n",
       "..          ...      ...      ...         ...         ...         ...   \n",
       "901         901       46       50  413.698715  413.698715  413.698715   \n",
       "902         902       46       51  464.143246  464.143246  464.143246   \n",
       "903         903       47       50  309.648689  309.648689  309.648689   \n",
       "904         904       47       51  340.375672  340.375672  340.375672   \n",
       "905         905       55       35  275.899426  275.899426  275.899426   \n",
       "\n",
       "              3           4           5           6  ...        3110  \\\n",
       "0    291.654125  291.654125  291.654125  291.654125  ...  291.654125   \n",
       "1    301.402967  301.402967  301.402967  301.402967  ...  301.402967   \n",
       "2    443.744094  443.744094  443.744094  443.744094  ...  443.744094   \n",
       "3    433.696100  433.696100  433.696100  433.696100  ...  433.696100   \n",
       "4    333.394421  333.394421  333.394421  333.394421  ...  333.394421   \n",
       "..          ...         ...         ...         ...  ...         ...   \n",
       "901  413.698715  413.698715  413.698715  413.698715  ...  413.698715   \n",
       "902  464.143246  464.143246  464.143246  464.143246  ...  464.143246   \n",
       "903  309.648689  309.648689  309.648689  309.648689  ...  309.648689   \n",
       "904  340.375672  340.375672  340.375672  340.375672  ...  340.375672   \n",
       "905  275.899426  275.899426  275.899426  275.899426  ...  275.899426   \n",
       "\n",
       "           3111        3112        3113        3114        3115        3116  \\\n",
       "0    291.654125  291.654125  291.654125  291.654125  291.654125  291.654125   \n",
       "1    301.402967  301.402967  301.402967  301.402967  301.402967  301.402967   \n",
       "2    443.744094  443.744094  443.744094  443.744094  443.744094  443.744094   \n",
       "3    433.696100  433.696100  433.696100  433.696100  433.696100  433.696100   \n",
       "4    333.394421  333.394421  333.394421  333.394421  333.394421  333.394421   \n",
       "..          ...         ...         ...         ...         ...         ...   \n",
       "901  413.698715  413.698715  413.698715  413.698715  413.698715  413.698715   \n",
       "902  464.143246  464.143246  464.143246  464.143246  464.143246  464.143246   \n",
       "903  309.648689  309.648689  309.648689  309.648689  309.648689  309.648689   \n",
       "904  340.375672  340.375672  340.375672  340.375672  340.375672  340.375672   \n",
       "905  275.899426  275.899426  275.899426  275.899426  275.899426  275.899426   \n",
       "\n",
       "           3117        3118        3119  \n",
       "0    291.654125  291.654125  291.654125  \n",
       "1    301.402967  301.402967  301.402967  \n",
       "2    443.744094  443.744094  443.744094  \n",
       "3    433.696100  433.696100  433.696100  \n",
       "4    333.394421  333.394421  333.394421  \n",
       "..          ...         ...         ...  \n",
       "901  413.698715  413.698715  413.698715  \n",
       "902  464.143246  464.143246  464.143246  \n",
       "903  309.648689  309.648689  309.648689  \n",
       "904  340.375672  340.375672  340.375672  \n",
       "905  275.899426  275.899426  275.899426  \n",
       "\n",
       "[906 rows x 3123 columns]"
      ]
     },
     "execution_count": 118,
     "metadata": {},
     "output_type": "execute_result"
    }
   ],
   "source": [
    "data"
   ]
  },
  {
   "cell_type": "code",
   "execution_count": 142,
   "id": "de759611-7e59-49e2-85d3-46f3189ea97d",
   "metadata": {},
   "outputs": [
    {
     "data": {
      "text/plain": [
       "<matplotlib.image.AxesImage at 0x7fbfa87fdd60>"
      ]
     },
     "execution_count": 142,
     "metadata": {},
     "output_type": "execute_result"
    },
    {
     "data": {
      "image/png": "[encoded data removed]",
      "text/plain": [
       "<Figure size 432x288 with 1 Axes>"
      ]
     },
     "metadata": {},
     "output_type": "display_data"
    }
   ],
   "source": []
  },
  {
   "cell_type": "code",
   "execution_count": 143,
   "id": "304fbabc-a95d-42c8-805b-60dae625343c",
   "metadata": {},
   "outputs": [
    {
     "data": {
      "text/plain": [
       "<matplotlib.image.AxesImage at 0x7fbf681bff40>"
      ]
     },
     "execution_count": 143,
     "metadata": {},
     "output_type": "execute_result"
    },
    {
     "data": {
      "image/png": "[encoded data removed]",
      "text/plain": [
       "<Figure size 432x288 with 1 Axes>"
      ]
     },
     "metadata": {},
     "output_type": "display_data"
    }
   ],
   "source": [
    "sv2 = rG.makeSemivarianceMap(si)\n",
    "plt.imshow(sv2)"
   ]
  },
  {
   "cell_type": "code",
   "execution_count": 150,
   "id": "98efcc8b-ad82-4006-9145-9cfb5e5ab619",
   "metadata": {},
   "outputs": [
    {
     "data": {
      "text/plain": [
       "1453.4075774431192"
      ]
     },
     "execution_count": 150,
     "metadata": {},
     "output_type": "execute_result"
    }
   ],
   "source": [
    "sk = (10,20)\n",
    "sv2[sk]"
   ]
  },
  {
   "cell_type": "code",
   "execution_count": 151,
   "id": "271e0474-9561-4ddf-b729-5c680f430948",
   "metadata": {},
   "outputs": [
    {
     "data": {
      "text/plain": [
       "1564.0033466001173"
      ]
     },
     "execution_count": 151,
     "metadata": {},
     "output_type": "execute_result"
    }
   ],
   "source": [
    "sv_a[sk]"
   ]
  },
  {
   "cell_type": "code",
   "execution_count": 97,
   "id": "f3da3a11-fd23-45e0-846b-5b5eedb066f5",
   "metadata": {},
   "outputs": [
    {
     "data": {
      "text/plain": [
       "<matplotlib.image.AxesImage at 0x7f95128317f0>"
      ]
     },
     "execution_count": 97,
     "metadata": {},
     "output_type": "execute_result"
    },
    {
     "data": {
      "image/png": "[encoded data removed]",
      "text/plain": [
       "<Figure size 432x288 with 1 Axes>"
      ]
     },
     "metadata": {},
     "output_type": "display_data"
    }
   ],
   "source": [
    "plt.imshow(sv)"
   ]
  },
  {
   "cell_type": "code",
   "execution_count": 98,
   "id": "afa9b3c5-19ee-4325-9d44-777d0c588964",
   "metadata": {},
   "outputs": [
    {
     "data": {
      "text/plain": [
       "array([[2242.80912909, 2242.80912909, 2242.80912909, ..., 2242.80912909,\n",
       "        2242.80912909, 2242.80912909],\n",
       "       [2242.80912909, 2242.80912909, 2242.80912909, ..., 2242.80912909,\n",
       "        2242.80912909, 2242.80912909],\n",
       "       [2242.80912909, 2242.80912909, 2242.80912909, ..., 2242.80912909,\n",
       "        2242.80912909, 2242.80912909],\n",
       "       ...,\n",
       "       [2242.80912909, 2242.80912909, 2242.80912909, ..., 2242.80912909,\n",
       "        2242.80912909, 2242.80912909],\n",
       "       [2242.80912909, 2242.80912909, 2242.80912909, ..., 2242.80912909,\n",
       "        2242.80912909, 2242.80912909],\n",
       "       [2242.80912909, 2242.80912909, 2242.80912909, ..., 2242.80912909,\n",
       "        2242.80912909, 2242.80912909]])"
      ]
     },
     "execution_count": 98,
     "metadata": {},
     "output_type": "execute_result"
    }
   ],
   "source": [
    "si = (27,19)\n",
    "\n",
    "params = {\"type\": \"semivar\", \n",
    "          \"si\": si, \n",
    "          \"atol\": setup[\"tolerance_angle\"], \n",
    "          \"dtol\": setup[\"tolerance_distance\"]}\n",
    "\n",
    "\n",
    "sv = np.zeros(nonsat2.shape)\n",
    "\n",
    "#tell to the class, which object is going to be used to make the semivariogram\n",
    "\n",
    "\n",
    "rG = rg.rGrowing(nonsat2)\n",
    "\n",
    "rG.setParams(params)\n",
    "\n",
    "rG.makeSemivarianceMap(si)"
   ]
  },
  {
   "cell_type": "code",
   "execution_count": 99,
   "id": "830db976-1ea1-4ea8-9bee-55b776f40de4",
   "metadata": {},
   "outputs": [
    {
     "ename": "TypeError",
     "evalue": "constructMask() missing 1 required positional argument: 'flatMeansDecrease'",
     "output_type": "error",
     "traceback": [
      "\u001b[0;31m----------------------------------------------------------------\u001b[0m",
      "\u001b[0;31mTypeError\u001b[0m                      Traceback (most recent call last)",
      "Input \u001b[0;32mIn [99]\u001b[0m, in \u001b[0;36m<cell line: 1>\u001b[0;34m()\u001b[0m\n\u001b[0;32m----> 1\u001b[0m plt\u001b[38;5;241m.\u001b[39mimshow(\u001b[43mps\u001b[49m\u001b[38;5;241;43m.\u001b[39;49m\u001b[43mconstructMask\u001b[49m\u001b[43m(\u001b[49m\u001b[43msi\u001b[49m\u001b[43m,\u001b[49m\u001b[43msv\u001b[49m\u001b[43m)\u001b[49m)\n",
      "\u001b[0;31mTypeError\u001b[0m: constructMask() missing 1 required positional argument: 'flatMeansDecrease'"
     ]
    }
   ],
   "source": [
    "plt.imshow(ps.constructMask(si,sv))"
   ]
  },
  {
   "cell_type": "code",
   "execution_count": 77,
   "id": "7764b5de-9fcf-42b6-9f5c-c312aa20fb8d",
   "metadata": {},
   "outputs": [
    {
     "data": {
      "text/plain": [
       "array([0.00000000e+00, 1.39162867e-01, 1.70074725e+00, 6.65967570e+00,\n",
       "       1.53682726e+01, 2.67228672e+01, 6.90384956e+01, 6.59144411e+01,\n",
       "       4.22185392e+01, 7.18544844e+01, 8.04448297e+01, 7.23802311e+01,\n",
       "       4.82005779e+01, 7.79974332e+01, 7.96794817e+01, 9.52580655e+01,\n",
       "       1.24036635e+02, 2.97241586e+02, 3.41780220e+02, 3.94642639e+02,\n",
       "       4.21587883e+02, 4.59211007e+02, 4.97001455e+02, 6.08939449e+02,\n",
       "       8.36514626e+02, 1.14154464e+03, 1.38142291e+03, 1.63511424e+03])"
      ]
     },
     "execution_count": 77,
     "metadata": {},
     "output_type": "execute_result"
    }
   ],
   "source": [
    "sv[33,24:]"
   ]
  },
  {
   "cell_type": "code",
   "execution_count": 66,
   "id": "7a8be2c5-77e4-4588-b76e-6423e959eda2",
   "metadata": {},
   "outputs": [
    {
     "data": {
      "text/plain": [
       "5"
      ]
     },
     "execution_count": 66,
     "metadata": {},
     "output_type": "execute_result"
    }
   ],
   "source": [
    "ps.detectRegion([0,1,2,3,4,5,5,5])"
   ]
  },
  {
   "cell_type": "code",
   "execution_count": 54,
   "id": "b52730f0-8d39-40e7-9b46-18945e0f4571",
   "metadata": {},
   "outputs": [],
   "source": [
    "#cargamos imagenes en luminance e importance\n",
    "ilumina = 'location/queretaro/qro_light_th'\n",
    "niveles = 'location/queretaro/prioridades'\n",
    "sigma_y = 0.5\n",
    "sigma_x = 0.5\n",
    "sigma = [sigma_y,sigma_x]\n",
    "\n",
    "#Loading precalculated local and directed empirical variograms\n",
    "\n",
    "\n",
    "#NLTI: luminance\n",
    "luminance = ps.readIMG(ilumina)\n",
    "\n",
    "#EAM: Environtmental attention map is the importance\n",
    "EAM = ps.readIMG(niveles,invert=True)"
   ]
  },
  {
   "cell_type": "code",
   "execution_count": 57,
   "id": "ad7b5b7c-c4a3-4e10-8565-df5043f7b2ee",
   "metadata": {},
   "outputs": [],
   "source": [
    "nonsat,b = ps.desaturate(luminance,th=setup[\"desaturation_th\"])\n",
    "\n",
    "\n",
    "\n",
    "\n",
    "#nonsat2 = sp.ndimage.filters.gaussian_filter(nonsat, sigma, mode='constant')\n",
    "#nonsat2 = (nonsat2>=22)*nonsat2\n",
    "\n",
    "NLTI = sp.ndimage.filters.gaussian_filter(nonsat, sigma, mode='constant')\n",
    "NLTI = (NLTI>=setup[\"neglect_values\"])*NLTI"
   ]
  },
  {
   "cell_type": "code",
   "execution_count": null,
   "id": "7275bb28-a922-42ab-b6ce-a9d058398b83",
   "metadata": {},
   "outputs": [],
   "source": []
  }
 ],
 "metadata": {
  "kernelspec": {
   "display_name": "Python 3",
   "language": "python",
   "name": "python3"
  },
  "language_info": {
   "codemirror_mode": {
    "name": "ipython",
    "version": 3
   },
   "file_extension": ".py",
   "mimetype": "text/x-python",
   "name": "python",
   "nbconvert_exporter": "python",
   "pygments_lexer": "ipython3",
   "version": "3.8.13"
  }
 },
 "nbformat": 4,
 "nbformat_minor": 5
}
