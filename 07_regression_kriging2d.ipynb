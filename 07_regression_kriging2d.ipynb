{
 "cells": [
  {
   "cell_type": "code",
   "execution_count": 1,
   "metadata": {
    "collapsed": false,
    "jupyter": {
     "outputs_hidden": false
    }
   },
   "outputs": [],
   "source": [
    "%matplotlib inline"
   ]
  },
  {
   "cell_type": "markdown",
   "metadata": {},
   "source": [
    "\n",
    "# Regression kriging\n",
    "\n",
    "An example of regression kriging\n"
   ]
  },
  {
   "cell_type": "code",
   "execution_count": 6,
   "metadata": {
    "collapsed": false,
    "jupyter": {
     "outputs_hidden": false
    }
   },
   "outputs": [],
   "source": [
    "import sys\n",
    "\n",
    "from sklearn.svm import SVR\n",
    "from sklearn.ensemble import RandomForestRegressor\n",
    "from sklearn.linear_model import LinearRegression\n",
    "from sklearn.datasets import fetch_california_housing\n",
    "from sklearn.model_selection import train_test_split\n",
    "\n",
    "from pykrige.rk import RegressionKriging\n",
    "\n"
   ]
  },
  {
   "cell_type": "code",
   "execution_count": 7,
   "metadata": {},
   "outputs": [
    {
     "name": "stdout",
     "output_type": "stream",
     "text": [
      "========================================\n",
      "regression model: SVR\n",
      "Finished learning regression model\n",
      "Finished kriging residuals\n",
      "Regression Score:  -0.03405385545698292\n",
      "RK score:  0.6654647793667021\n",
      "========================================\n",
      "regression model: RandomForestRegressor\n",
      "Finished learning regression model\n",
      "Finished kriging residuals\n",
      "Regression Score:  0.6999502364468551\n",
      "RK score:  0.7387780863833813\n",
      "========================================\n",
      "regression model: LinearRegression\n",
      "Finished learning regression model\n",
      "Finished kriging residuals\n",
      "Regression Score:  0.5277968398381674\n",
      "RK score:  0.6019585173821766\n"
     ]
    }
   ],
   "source": [
    "svr_model = SVR(C=0.1, gamma=\"auto\")\n",
    "rf_model = RandomForestRegressor(n_estimators=100)\n",
    "lr_model = LinearRegression(normalize=True, copy_X=True, fit_intercept=False)\n",
    "\n",
    "models = [svr_model, rf_model, lr_model]\n",
    "\n",
    "try:\n",
    "    housing = fetch_california_housing()\n",
    "except PermissionError:\n",
    "    # this dataset can occasionally fail to download on Windows\n",
    "    sys.exit(0)\n",
    "\n",
    "# take the first 5000 as Kriging is memory intensive\n",
    "p = housing[\"data\"][:5000, :-2]\n",
    "x = housing[\"data\"][:5000, -2:]\n",
    "target = housing[\"target\"][:5000]\n",
    "\n",
    "p_train, p_test, x_train, x_test, target_train, target_test = train_test_split(\n",
    "    p, x, target, test_size=0.3, random_state=42\n",
    ")\n",
    "\n",
    "for m in models:\n",
    "    print(\"=\" * 40)\n",
    "    print(\"regression model:\", m.__class__.__name__)\n",
    "    m_rk = RegressionKriging(regression_model=m, n_closest_points=10)\n",
    "    m_rk.fit(p_train, x_train, target_train)\n",
    "    print(\"Regression Score: \", m_rk.regression_model.score(p_test, target_test))\n",
    "    print(\"RK score: \", m_rk.score(p_test, x_test, target_test))"
   ]
  },
  {
   "cell_type": "code",
   "execution_count": 8,
   "metadata": {},
   "outputs": [],
   "source": [
    "a= 1"
   ]
  },
  {
   "cell_type": "code",
   "execution_count": 10,
   "metadata": {},
   "outputs": [
    {
     "data": {
      "text/plain": [
       "array([[4.66020000e+00, 2.20000000e+01, 5.76712329e+00, 9.69863014e-01,\n",
       "        9.93000000e+02, 2.72054795e+00],\n",
       "       [2.21880000e+00, 5.00000000e+01, 4.92513369e+00, 1.00000000e+00,\n",
       "        4.20000000e+02, 2.24598930e+00],\n",
       "       [2.35710000e+00, 5.20000000e+01, 6.00813008e+00, 1.06775068e+00,\n",
       "        9.07000000e+02, 2.45799458e+00],\n",
       "       ...,\n",
       "       [2.39460000e+00, 3.50000000e+01, 3.63696370e+00, 1.01650165e+00,\n",
       "        6.88000000e+02, 2.27062706e+00],\n",
       "       [2.59000000e+00, 2.10000000e+01, 5.84076433e+00, 1.02229299e+00,\n",
       "        1.12000000e+03, 3.56687898e+00],\n",
       "       [4.97500000e+00, 1.60000000e+01, 5.62692308e+01, 1.01538462e+01,\n",
       "        5.40000000e+01, 2.07692308e+00]])"
      ]
     },
     "execution_count": 10,
     "metadata": {},
     "output_type": "execute_result"
    }
   ],
   "source": [
    "p_test"
   ]
  },
  {
   "cell_type": "code",
   "execution_count": null,
   "metadata": {},
   "outputs": [],
   "source": []
  }
 ],
 "metadata": {
  "kernelspec": {
   "display_name": "Python 3",
   "language": "python",
   "name": "python3"
  },
  "language_info": {
   "codemirror_mode": {
    "name": "ipython",
    "version": 3
   },
   "file_extension": ".py",
   "mimetype": "text/x-python",
   "name": "python",
   "nbconvert_exporter": "python",
   "pygments_lexer": "ipython3",
   "version": "3.7.0"
  }
 },
 "nbformat": 4,
 "nbformat_minor": 4
}
