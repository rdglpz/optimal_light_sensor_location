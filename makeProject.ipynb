{
 "cells": [
  {
   "cell_type": "code",
   "execution_count": 12,
   "id": "a31211e7-7782-4f04-af40-1795f1d87d22",
   "metadata": {},
   "outputs": [],
   "source": [
    "#Cargando librerías \n",
    "\n",
    "import importlib\n",
    "import os\n",
    "\n",
    "import matplotlib.pyplot as plt\n",
    "import scipy as sp\n",
    "import numpy as np\n",
    "import pandas as pd\n",
    "\n",
    "\n",
    "import src.positioning_sensors as ps\n",
    "importlib.reload(ps)\n",
    "\n",
    "import src.network_fitness as netfit\n",
    "importlib.reload(netfit)\n",
    "\n",
    "from geneticalgorithm import geneticalgorithm as ga\n",
    "\n",
    "from IPython.display import clear_output\n",
    "\n",
    "import itertools as it\n",
    "\n",
    "import src.manageExperiments as me\n",
    "importlib.reload(me)\n",
    "\n",
    "plt.style.use(\"ggplot\")"
   ]
  },
  {
   "cell_type": "code",
   "execution_count": 13,
   "id": "b158cea9-6b81-4295-afc1-4405aed17684",
   "metadata": {},
   "outputs": [
    {
     "name": "stdout",
     "output_type": "stream",
     "text": [
      "Help on module src.manageExperiments in src:\n",
      "\n",
      "NAME\n",
      "    src.manageExperiments\n",
      "\n",
      "FUNCTIONS\n",
      "    createProject(fn)\n",
      "    \n",
      "    readConfigFile(fn)\n",
      "\n",
      "FILE\n",
      "    /Users/rodrigo/Documents/SourcesCodes/optimal_light_sensor_loc_clean/src/manageExperiments.py\n",
      "\n",
      "\n"
     ]
    }
   ],
   "source": [
    "help(me)"
   ]
  },
  {
   "cell_type": "code",
   "execution_count": 14,
   "id": "56028c8e-980d-419d-ac78-2cfb5a065edb",
   "metadata": {},
   "outputs": [],
   "source": [
    "fn = \"config_test.txt\"\n",
    "\n",
    "\n"
   ]
  },
  {
   "cell_type": "code",
   "execution_count": 15,
   "id": "5b5241c3-b9a1-41bc-b7dd-dbcef7f28fe2",
   "metadata": {},
   "outputs": [
    {
     "ename": "NameError",
     "evalue": "name 'cfgr' is not defined",
     "output_type": "error",
     "traceback": [
      "\u001b[0;31m---------------------------------------------------------------------------\u001b[0m",
      "\u001b[0;31mNameError\u001b[0m                                 Traceback (most recent call last)",
      "Input \u001b[0;32mIn [15]\u001b[0m, in \u001b[0;36m<cell line: 1>\u001b[0;34m()\u001b[0m\n\u001b[0;32m----> 1\u001b[0m os\u001b[38;5;241m.\u001b[39mmakedirs(\u001b[43mcfgr\u001b[49m[\u001b[38;5;124m\"\u001b[39m\u001b[38;5;124mexperiment_id\u001b[39m\u001b[38;5;124m\"\u001b[39m]\u001b[38;5;241m+\u001b[39mcfgr[\u001b[38;5;124m\"\u001b[39m\u001b[38;5;124mfolder_output\u001b[39m\u001b[38;5;124m\"\u001b[39m],exist_ok\u001b[38;5;241m=\u001b[39m\u001b[38;5;28;01mTrue\u001b[39;00m)\n",
      "\u001b[0;31mNameError\u001b[0m: name 'cfgr' is not defined"
     ]
    }
   ],
   "source": [
    "os.makedirs(cfgr[\"experiment_id\"]+cfgr[\"folder_output\"],exist_ok=True)\n"
   ]
  },
  {
   "cell_type": "code",
   "execution_count": null,
   "id": "24ab2217-4d1d-4490-945c-ef5108fdcd16",
   "metadata": {},
   "outputs": [],
   "source": [
    "os.makedirs(cfgr[\"experiment_id\"]+cfgr[\"folder_semivariances\"],exist_ok=True)\n",
    "\n"
   ]
  },
  {
   "cell_type": "code",
   "execution_count": 177,
   "id": "7bc23ae1-7277-4d78-9f7d-3fbe7fe970c9",
   "metadata": {},
   "outputs": [
    {
     "name": "stdout",
     "output_type": "stream",
     "text": [
      "config_test/\n"
     ]
    }
   ],
   "source": [
    "print(cfgr[\"experiment_id\"])\n"
   ]
  },
  {
   "cell_type": "code",
   "execution_count": 178,
   "id": "640f7883-b13e-4b75-aae4-28f83a30b758",
   "metadata": {},
   "outputs": [
    {
     "data": {
      "text/plain": [
       "'config_test/config_test.txt'"
      ]
     },
     "execution_count": 178,
     "metadata": {},
     "output_type": "execute_result"
    }
   ],
   "source": [
    "shutil.copyfile(fn, cfgr[\"experiment_id\"]+fn)"
   ]
  },
  {
   "cell_type": "code",
   "execution_count": 118,
   "id": "03b0ba83-0f2c-4003-ac5a-e37c6daa62b3",
   "metadata": {},
   "outputs": [],
   "source": [
    "dict = {\"experiment_id\": \"exp_050512022_consider_flat/\", \"folder_input\": \"location/queretaro/\", \n",
    "        \"folder_semivariances\": \"semivariances/\", \"folder_output\": \"results/\", \"input_ntli\": \"qro_light_th\", \n",
    "        \"input_evm\": \"prioridades\", \"output_semivariances\": \"semivariance050512022\", \n",
    "        \"output_values\": \"optimum_values.csv\", \"output_args\": \"optimum_arguments.csv\", \"desaturation_th\": 63,\n",
    "        \"neglect_values\":22 ,\"tolerance_distance\": 0.5, \"tolerance_angle\": 15, \"filterg_sx\": 0.5, \n",
    "        \"filterg_sy\": 0.5, \"gaussian_mode\": \"constant\",\n",
    "        \"nsensors\": [1, 2, 3, 4, 5, 6, 7], \"sensitivity_c\": [1, 30, 60, 90, 120, 150, 180],\"ga_params\": ga }\n",
    "\n",
    "    \n",
    "    \n",
    "    "
   ]
  },
  {
   "cell_type": "code",
   "execution_count": 80,
   "id": "98502a7d-44ae-4a3d-8a99-f3d730a5f658",
   "metadata": {},
   "outputs": [
    {
     "data": {
      "text/plain": [
       "'exp_050512022_consider_flat/'"
      ]
     },
     "execution_count": 80,
     "metadata": {},
     "output_type": "execute_result"
    }
   ],
   "source": [
    "dict[\"experiment_id\"] "
   ]
  },
  {
   "cell_type": "code",
   "execution_count": 90,
   "id": "da549186-34b6-4657-82f6-5d3a4dfd588a",
   "metadata": {},
   "outputs": [],
   "source": [
    "\n",
    "ga = {'max_num_iteration': 2000, 'population_size': 2000, 'mutation_probability': 0.1, 'elit_ratio': 0.1, 'crossover_probability': 0.5, 'parents_portion': 0.3, 'crossover_type': 'uniform', 'max_iteration_without_improv': 500}\n"
   ]
  },
  {
   "cell_type": "code",
   "execution_count": 46,
   "id": "b22d6cc1-9ed7-4200-9de9-398a95959f65",
   "metadata": {},
   "outputs": [
    {
     "data": {
      "text/plain": [
       "'exp_050512022/location/queretaro/'"
      ]
     },
     "execution_count": 46,
     "metadata": {},
     "output_type": "execute_result"
    }
   ],
   "source": [
    "cfgr[\"experiment_id\"]+cfgr[\"folder_input\"]"
   ]
  },
  {
   "cell_type": "code",
   "execution_count": 89,
   "id": "b50ed9d9-ce60-4fcc-bf91-b2d734e4c1f3",
   "metadata": {},
   "outputs": [
    {
     "data": {
      "text/plain": [
       "{'max_num_iteration': 2000,\n",
       " 'population_size': 2000,\n",
       " 'mutation_probability': 0.1,\n",
       " 'elit_ratio': 0.1,\n",
       " 'crossover_probability': 0.5,\n",
       " 'parents_portion': 0.3,\n",
       " 'crossover_type': 'uniform',\n",
       " 'max_iteration_without_improv': 500}"
      ]
     },
     "execution_count": 89,
     "metadata": {},
     "output_type": "execute_result"
    }
   ],
   "source": [
    "ga[\"ga_params\"]"
   ]
  },
  {
   "cell_type": "code",
   "execution_count": null,
   "id": "4043dd70-a05d-4b37-846b-979fcc67fe34",
   "metadata": {},
   "outputs": [],
   "source": []
  }
 ],
 "metadata": {
  "kernelspec": {
   "display_name": "Python 3",
   "language": "python",
   "name": "python3"
  },
  "language_info": {
   "codemirror_mode": {
    "name": "ipython",
    "version": 3
   },
   "file_extension": ".py",
   "mimetype": "text/x-python",
   "name": "python",
   "nbconvert_exporter": "python",
   "pygments_lexer": "ipython3",
   "version": "3.8.13"
  }
 },
 "nbformat": 4,
 "nbformat_minor": 5
}
