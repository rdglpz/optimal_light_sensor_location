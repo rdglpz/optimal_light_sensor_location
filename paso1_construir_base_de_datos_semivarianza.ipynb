{
 "cells": [
  {
   "cell_type": "code",
   "execution_count": 94,
   "id": "40118634",
   "metadata": {},
   "outputs": [],
   "source": [
    "#Cargando librerías \n",
    "import importlib\n",
    "\n",
    "import matplotlib.pyplot as plt\n",
    "import scipy as sp\n",
    "import numpy as np\n",
    "import pandas as pd\n",
    "\n",
    "import src.positioning_sensors as ps\n",
    "import src.regionGrowing as rg\n",
    "import src.manageExperiments as me\n",
    "importlib.reload(ps)\n",
    "importlib.reload(rg)\n",
    "importlib.reload(me)\n",
    "\n",
    "import src.network_fitness as netfit\n",
    "importlib.reload(netfit)\n",
    "\n",
    "from geneticalgorithm import geneticalgorithm as ga\n",
    "\n",
    "plt.style.use(\"ggplot\")\n",
    "\n",
    "##\n",
    "from scipy import ndimage as ndi\n",
    "from skimage.segmentation import watershed\n",
    "from skimage.feature import peak_local_max\n",
    "from skimage.filters import rank\n",
    "\n",
    "#import scipy.misc\n",
    "#import numpy as np\n",
    "from skimage.draw import line\n"
   ]
  },
  {
   "cell_type": "code",
   "execution_count": 95,
   "id": "47815f1c-63c4-4571-9e74-2967c0093662",
   "metadata": {},
   "outputs": [],
   "source": [
    "fn = \"config_exp_13062022.txt\"\n"
   ]
  },
  {
   "cell_type": "code",
   "execution_count": 96,
   "id": "777c156a-fd7d-458b-a326-63e866d823d0",
   "metadata": {},
   "outputs": [
    {
     "name": "stdout",
     "output_type": "stream",
     "text": [
      "creating Directory exp_13062022_flat_is_decrease/\n",
      "Creating Directory exp_13062022_flat_is_decrease/results/\n",
      "Creating Directory exp_13062022_flat_is_decrease/semivariances/\n",
      "Copy config_exp_13062022.txt -> exp_13062022_flat_is_decrease/config_exp_13062022.txt\n"
     ]
    }
   ],
   "source": [
    "\n",
    "me.createProject(fn)"
   ]
  },
  {
   "cell_type": "code",
   "execution_count": 97,
   "id": "f657be6b-bef1-48ab-86e3-ae435a437c06",
   "metadata": {},
   "outputs": [],
   "source": [
    "setup = me.readConfigFile(fn)"
   ]
  },
  {
   "cell_type": "code",
   "execution_count": 98,
   "id": "6f99b59d-6b42-4e4c-a4b6-17c3c0c01c8c",
   "metadata": {},
   "outputs": [],
   "source": [
    "flat_means_decrease = bool(setup['flatness_means_decrease'])"
   ]
  },
  {
   "cell_type": "code",
   "execution_count": 99,
   "id": "11f7149a-f0ec-44b7-96d8-4bcacf85e089",
   "metadata": {},
   "outputs": [],
   "source": [
    "\n",
    "#cargamos imagenes en luminance e importance\n",
    "ilumina = setup[\"folder_input\"]+setup[\"input_ntli\"]\n",
    "niveles = setup[\"folder_input\"]+setup[\"input_evm\"]\n",
    "\n",
    "luminance = ps.readIMG(ilumina)\n",
    "\n",
    "#NTLI: luminance\n",
    "NTLI = ps.readIMG(ilumina)\n",
    "\n"
   ]
  },
  {
   "cell_type": "code",
   "execution_count": 100,
   "id": "61fed99b-e226-478d-9c85-b3d1b064d17a",
   "metadata": {},
   "outputs": [],
   "source": [
    "\n",
    "#EAM: Environtmental attention map is the importance\n",
    "EAM = ps.readIMG(niveles,invert=True)\n",
    "\n",
    "th = int(setup[\"desaturation_th\"])"
   ]
  },
  {
   "cell_type": "code",
   "execution_count": null,
   "id": "8ec2e228-683c-44ef-a734-f2c05c468562",
   "metadata": {},
   "outputs": [],
   "source": []
  },
  {
   "cell_type": "code",
   "execution_count": 101,
   "id": "13b31402-edf6-4db3-a382-207974b9ce38",
   "metadata": {},
   "outputs": [],
   "source": [
    "nonsat,distance = ps.desaturate(NTLI,th=th)"
   ]
  },
  {
   "cell_type": "code",
   "execution_count": 102,
   "id": "4a570219-b97f-44af-b0e3-32bc186b6acf",
   "metadata": {},
   "outputs": [
    {
     "data": {
      "image/png": "[encoded data removed]",
      "text/plain": [
       "<Figure size 432x288 with 1 Axes>"
      ]
     },
     "metadata": {},
     "output_type": "display_data"
    }
   ],
   "source": [
    "\n",
    "\n",
    "#smoothing parameters\n",
    "sigma_y = setup['filterg_sy']\n",
    "sigma_x =setup['filterg_sx']\n",
    "sigma = [sigma_y,sigma_x]\n",
    "\n",
    "nonsat2 = sp.ndimage.filters.gaussian_filter(nonsat, sigma, mode=setup['gaussian_mode'])\n",
    "#nonsat2 = luminance\n",
    "\n",
    "#we filter only the values greater than 22\n",
    "nonsat2 = (nonsat2>=setup['neglect_values'])*nonsat2\n",
    "si = (33,24)\n",
    "nonsatc = np.copy(nonsat2)\n",
    "nonsatc[si]=0\n",
    "plt.imshow(nonsatc)\n",
    "plt.show()"
   ]
  },
  {
   "cell_type": "code",
   "execution_count": 103,
   "id": "1ea474b8-21d7-446d-b4d1-5da773ea2b30",
   "metadata": {},
   "outputs": [
    {
     "data": {
      "text/plain": [
       "[<matplotlib.lines.Line2D at 0x7fc6305f91c0>]"
      ]
     },
     "execution_count": 103,
     "metadata": {},
     "output_type": "execute_result"
    },
    {
     "data": {
      "image/png": "[encoded data removed]",
      "text/plain": [
       "<Figure size 432x288 with 1 Axes>"
      ]
     },
     "metadata": {},
     "output_type": "display_data"
    }
   ],
   "source": [
    "r = 20\n",
    "plt.plot(nonsat2[si[0],si[1]-r:si[1]+r+1])\n",
    "plt.plot(nonsat[si[0],si[1]-r:si[1]+r+1])\n",
    "#plt.vlines(si[1],0,np.max(nonsat2[si[0],:]))\n"
   ]
  },
  {
   "cell_type": "code",
   "execution_count": null,
   "id": "3c18b50a-f9b9-4d0a-b585-ba8cd97969c1",
   "metadata": {},
   "outputs": [],
   "source": []
  },
  {
   "cell_type": "code",
   "execution_count": 104,
   "id": "ac29b399-f62c-4165-9165-783d33c54a75",
   "metadata": {},
   "outputs": [
    {
     "data": {
      "text/plain": [
       "<matplotlib.image.AxesImage at 0x7fc6305be220>"
      ]
     },
     "execution_count": 104,
     "metadata": {},
     "output_type": "execute_result"
    },
    {
     "data": {
      "image/png": "[encoded data removed]",
      "text/plain": [
       "<Figure size 432x288 with 1 Axes>"
      ]
     },
     "metadata": {},
     "output_type": "display_data"
    }
   ],
   "source": [
    "plt.imshow(EAM)"
   ]
  },
  {
   "cell_type": "code",
   "execution_count": 105,
   "id": "27e8af02-e135-46d5-b3d8-72555b705364",
   "metadata": {},
   "outputs": [
    {
     "name": "stdout",
     "output_type": "stream",
     "text": [
      " 100.00%\n"
     ]
    }
   ],
   "source": [
    "from IPython.display import clear_output\n",
    "\n",
    "coords = ps.get_coords(nonsat2>0)\n",
    "\n",
    "#fill the required params\n",
    "si = (37,18)\n",
    "\n",
    "params = {\"type\": \"semivar\", \n",
    "          \"si\": si, \n",
    "          \"atol\": setup[\"tolerance_angle\"], \n",
    "          \"dtol\": setup[\"tolerance_distance\"]}\n",
    "\n",
    "\n",
    "sv = np.zeros(luminance.shape)\n",
    "\n",
    "#tell to the class, which object is going to be used to make the semivariogram\n",
    "\n",
    "\n",
    "rG = rg.rGrowing(nonsat2)\n",
    "\n",
    "rG.setParams(params)\n",
    "\n",
    "n = len(coords)\n",
    "\n",
    "#ncords x imagesize m x n\n",
    "image_size = (n,nonsat2.shape[0]*nonsat2.shape[1])\n",
    "allsemivariances = np.zeros(image_size)\n",
    "allmask = np.zeros(image_size)\n",
    "\n",
    "df = pd.DataFrame()\n",
    "\n",
    "for i,si in enumerate(coords):\n",
    "    \n",
    "    clear_output(wait=True)\n",
    "    s=\"{percen: 1.2f}%\"\n",
    "    print(s.format(percen = 100*(i+1)/(n)))\n",
    "    si = tuple(si)\n",
    "    \n",
    "    #generate a semivariance sv map\n",
    "    sv = rG.makeSemivarianceMap(si)\n",
    "    \n",
    "    #flattne sv to store it in a dataframe\n",
    "    allsemivariances[i] = sv.flatten()\n",
    "    \n",
    "    #construct a mask of sv and then flatten it\n",
    "    allmask[i] = ps.constructMask(si,sv,flat_means_decrease).flatten()"
   ]
  },
  {
   "cell_type": "code",
   "execution_count": null,
   "id": "40c9891f-29c0-4b46-8516-a1211f6366de",
   "metadata": {},
   "outputs": [],
   "source": [
    "rG.si = si\n",
    "v = rG.getRegion((33,24))\n",
    "v[si]=1"
   ]
  },
  {
   "cell_type": "code",
   "execution_count": null,
   "id": "f9209048-3fff-4272-9a40-8538dee5711b",
   "metadata": {},
   "outputs": [
    {
     "data": {
      "text/plain": [
       "(55, 35)"
      ]
     },
     "execution_count": 107,
     "metadata": {},
     "output_type": "execute_result"
    }
   ],
   "source": [
    "si"
   ]
  },
  {
   "cell_type": "code",
   "execution_count": 108,
   "id": "ba43eb5f-c2be-4b65-ae20-07089bd1418c",
   "metadata": {},
   "outputs": [
    {
     "data": {
      "text/plain": [
       "<matplotlib.image.AxesImage at 0x7fc6432289d0>"
      ]
     },
     "execution_count": 108,
     "metadata": {},
     "output_type": "execute_result"
    },
    {
     "data": {
      "image/png": "[encoded data removed]",
      "text/plain": [
       "<Figure size 432x288 with 1 Axes>"
      ]
     },
     "metadata": {},
     "output_type": "display_data"
    }
   ],
   "source": [
    "plt.imshow(v)"
   ]
  },
  {
   "cell_type": "code",
   "execution_count": 109,
   "id": "4911169d-21c4-49a6-9220-4c450f2dd033",
   "metadata": {},
   "outputs": [],
   "source": [
    "filesv = setup[\"experiment_id\"]+setup[\"folder_semivariances\"]+setup[\"output_semivariances\"]+\".csv\"\n",
    "filesvmask = setup[\"experiment_id\"]+setup[\"folder_semivariances\"]+setup[\"output_semivariances\"]+\"mask.csv\"\n"
   ]
  },
  {
   "cell_type": "code",
   "execution_count": 110,
   "id": "01fd45b3-0217-43a1-afd7-46e3a15fd151",
   "metadata": {},
   "outputs": [],
   "source": [
    "\n",
    "df_semivariance = pd.DataFrame(allsemivariances)\n",
    "df_semivariance.insert(0,\"coordsy\",coords[:,0]) \n",
    "df_semivariance.insert(1,\"coordsx\",coords[:,1])\n",
    "df_semivariance.to_csv(filesv)\n",
    "\n",
    "df_semivariance_mask = pd.DataFrame(allmask)\n",
    "df_semivariance_mask.insert(0,\"coordsy\",coords[:,0]) \n",
    "df_semivariance_mask.insert(1,\"coordsx\",coords[:,1])\n",
    "df_semivariance_mask.to_csv(filesvmask)"
   ]
  },
  {
   "cell_type": "code",
   "execution_count": 247,
   "id": "b4611723-5b09-4c29-96d5-6669c362a47b",
   "metadata": {},
   "outputs": [],
   "source": [
    "\n",
    "\n",
    "sv = rG.makeSemivarianceMap(si)"
   ]
  },
  {
   "cell_type": "code",
   "execution_count": 248,
   "id": "2a8671e5-d983-46d7-a59c-e6f02c756162",
   "metadata": {},
   "outputs": [
    {
     "data": {
      "text/plain": [
       "<matplotlib.image.AxesImage at 0x7f9dfa3073d0>"
      ]
     },
     "execution_count": 248,
     "metadata": {},
     "output_type": "execute_result"
    },
    {
     "data": {
      "image/png": "[encoded data removed]",
      "text/plain": [
       "<Figure size 432x288 with 1 Axes>"
      ]
     },
     "metadata": {},
     "output_type": "display_data"
    }
   ],
   "source": [
    "plt.imshow(sv)"
   ]
  },
  {
   "cell_type": "code",
   "execution_count": 249,
   "id": "830db976-1ea1-4ea8-9bee-55b776f40de4",
   "metadata": {},
   "outputs": [
    {
     "data": {
      "text/plain": [
       "<matplotlib.image.AxesImage at 0x7f9dee139910>"
      ]
     },
     "execution_count": 249,
     "metadata": {},
     "output_type": "execute_result"
    },
    {
     "data": {
      "image/png": "[encoded data removed]",
      "text/plain": [
       "<Figure size 432x288 with 1 Axes>"
      ]
     },
     "metadata": {},
     "output_type": "display_data"
    }
   ],
   "source": [
    "plt.imshow(ps.constructMask(si,sv))"
   ]
  },
  {
   "cell_type": "code",
   "execution_count": 77,
   "id": "7764b5de-9fcf-42b6-9f5c-c312aa20fb8d",
   "metadata": {},
   "outputs": [
    {
     "data": {
      "text/plain": [
       "array([0.00000000e+00, 1.39162867e-01, 1.70074725e+00, 6.65967570e+00,\n",
       "       1.53682726e+01, 2.67228672e+01, 6.90384956e+01, 6.59144411e+01,\n",
       "       4.22185392e+01, 7.18544844e+01, 8.04448297e+01, 7.23802311e+01,\n",
       "       4.82005779e+01, 7.79974332e+01, 7.96794817e+01, 9.52580655e+01,\n",
       "       1.24036635e+02, 2.97241586e+02, 3.41780220e+02, 3.94642639e+02,\n",
       "       4.21587883e+02, 4.59211007e+02, 4.97001455e+02, 6.08939449e+02,\n",
       "       8.36514626e+02, 1.14154464e+03, 1.38142291e+03, 1.63511424e+03])"
      ]
     },
     "execution_count": 77,
     "metadata": {},
     "output_type": "execute_result"
    }
   ],
   "source": [
    "sv[33,24:]"
   ]
  },
  {
   "cell_type": "code",
   "execution_count": 66,
   "id": "7a8be2c5-77e4-4588-b76e-6423e959eda2",
   "metadata": {},
   "outputs": [
    {
     "data": {
      "text/plain": [
       "5"
      ]
     },
     "execution_count": 66,
     "metadata": {},
     "output_type": "execute_result"
    }
   ],
   "source": [
    "ps.detectRegion([0,1,2,3,4,5,5,5])"
   ]
  },
  {
   "cell_type": "code",
   "execution_count": 54,
   "id": "b52730f0-8d39-40e7-9b46-18945e0f4571",
   "metadata": {},
   "outputs": [],
   "source": [
    "#cargamos imagenes en luminance e importance\n",
    "ilumina = 'location/queretaro/qro_light_th'\n",
    "niveles = 'location/queretaro/prioridades'\n",
    "sigma_y = 0.5\n",
    "sigma_x = 0.5\n",
    "sigma = [sigma_y,sigma_x]\n",
    "\n",
    "#Loading precalculated local and directed empirical variograms\n",
    "\n",
    "\n",
    "#NLTI: luminance\n",
    "luminance = ps.readIMG(ilumina)\n",
    "\n",
    "#EAM: Environtmental attention map is the importance\n",
    "EAM = ps.readIMG(niveles,invert=True)"
   ]
  },
  {
   "cell_type": "code",
   "execution_count": 57,
   "id": "ad7b5b7c-c4a3-4e10-8565-df5043f7b2ee",
   "metadata": {},
   "outputs": [],
   "source": [
    "nonsat,b = ps.desaturate(luminance,th=setup[\"desaturation_th\"])\n",
    "\n",
    "\n",
    "\n",
    "\n",
    "#nonsat2 = sp.ndimage.filters.gaussian_filter(nonsat, sigma, mode='constant')\n",
    "#nonsat2 = (nonsat2>=22)*nonsat2\n",
    "\n",
    "NLTI = sp.ndimage.filters.gaussian_filter(nonsat, sigma, mode='constant')\n",
    "NLTI = (NLTI>=setup[\"neglect_values\"])*NLTI"
   ]
  },
  {
   "cell_type": "code",
   "execution_count": null,
   "id": "7275bb28-a922-42ab-b6ce-a9d058398b83",
   "metadata": {},
   "outputs": [],
   "source": []
  }
 ],
 "metadata": {
  "kernelspec": {
   "display_name": "Python 3",
   "language": "python",
   "name": "python3"
  },
  "language_info": {
   "codemirror_mode": {
    "name": "ipython",
    "version": 3
   },
   "file_extension": ".py",
   "mimetype": "text/x-python",
   "name": "python",
   "nbconvert_exporter": "python",
   "pygments_lexer": "ipython3",
   "version": "3.8.13"
  }
 },
 "nbformat": 4,
 "nbformat_minor": 5
}
