{
 "cells": [
  {
   "cell_type": "code",
   "execution_count": 718,
   "id": "bdeb3b94-4ce0-4626-99c3-765812722a80",
   "metadata": {},
   "outputs": [],
   "source": [
    "#Cargando librerías \n",
    "import importlib\n",
    "\n",
    "import matplotlib.pyplot as plt\n",
    "import scipy as sp\n",
    "import numpy as np\n",
    "import pandas as pd\n",
    "\n",
    "import positioning_sensors as ps\n",
    "importlib.reload(ps)\n",
    "\n",
    "import network_fitness as netfit\n",
    "importlib.reload(netfit)\n",
    "\n",
    "from geneticalgorithm import geneticalgorithm as ga\n",
    "\n",
    "plt.style.use(\"ggplot\")"
   ]
  },
  {
   "cell_type": "code",
   "execution_count": 719,
   "id": "9828b37f-3af4-4ee7-bfac-fa3eb2ea38bc",
   "metadata": {},
   "outputs": [
    {
     "name": "stdout",
     "output_type": "stream",
     "text": [
      " W = i*a^(p)\n",
      "Selct cost functions: \n",
      " 'xor','max' or 'cover'\n"
     ]
    },
    {
     "data": {
      "text/plain": [
       "<matplotlib.image.AxesImage at 0x7f8a77627550>"
      ]
     },
     "execution_count": 719,
     "metadata": {},
     "output_type": "execute_result"
    },
    {
     "data": {
      "image/png": "[encoded data removed]",
      "text/plain": [
       "<Figure size 432x288 with 1 Axes>"
      ]
     },
     "metadata": {},
     "output_type": "display_data"
    }
   ],
   "source": [
    "#cargamos imagenes en luminance e importance\n",
    "ilumina = 'example/inputs/qro_light_th'\n",
    "niveles = 'example/inputs/prioridades'\n",
    "sigma_y = 0.5\n",
    "sigma_x = 0.5\n",
    "sigma = [sigma_y,sigma_x]\n",
    "\n",
    "#Loading precalculated local and directed empirical variograms\n",
    "data = pd.read_csv(\"th100_atol_15_dirdelta_1.csv\")\n",
    "variogram_set = np.array(data.iloc[:,3:])\n",
    "variograms = variogram_set.reshape(len(variogram_set),nonsat.shape[0],nonsat.shape[1])\n",
    "coords = np.array(data.iloc[:,1:3])\n",
    "\n",
    "#NLTI: luminance\n",
    "luminance = ps.readIMG(ilumina)\n",
    "\n",
    "#EAM: Environtmental attention map is the importance\n",
    "EAM = ps.readIMG(niveles,invert=True)\n",
    "#EAM[37][23]+=1\n",
    "\n",
    "nonsat = ps.desaturate(luminance,th=62)\n",
    "NLTI = sp.ndimage.filters.gaussian_filter(nonsat, sigma, mode='constant')\n",
    "sensitivity = ps.f5(NLTI,EAM,15)\n",
    "\n",
    "\n",
    "aptitude = netfit.NetworkFitness(NLTI,EAM,sensitivity,variograms,coords)\n",
    "\n",
    "\n",
    "aptitude.selectFitnessFunction(\"max\")\n",
    "f = aptitude.f\n",
    "\n",
    "X = np.array([37,23])\n",
    "f(X)\n",
    "\n",
    "plt.imshow(sensitivity)"
   ]
  },
  {
   "cell_type": "code",
   "execution_count": null,
   "id": "db9cfa69-c318-4522-a164-bc92d2fb3c68",
   "metadata": {},
   "outputs": [
    {
     "name": "stdout",
     "output_type": "stream",
     "text": [
      "Search Space Boundaries: [[ 0 60]\n",
      " [ 0 52]\n",
      " [ 0 60]\n",
      " [ 0 52]\n",
      " [ 0 60]\n",
      " [ 0 52]\n",
      " [ 0 60]\n",
      " [ 0 52]\n",
      " [ 0 60]\n",
      " [ 0 52]]\n",
      "|||||||||||||||||||||_____________________________ 42.1% GA is running..."
     ]
    }
   ],
   "source": [
    "n_sensors = 5\n",
    "\n",
    "#variable ranges, 2 ranges per sensor position (dim*n_sensors) \n",
    "varbound=np.array([[0,nonsat.shape[0]],[0,nonsat.shape[1]]]*n_sensors)\n",
    "print(\"Search Space Boundaries:\", varbound)\n",
    "\n",
    "dim = len(varbound)\n",
    "\n",
    "#algorithms_parameters={'max_num_iteration': None, 'population_size': 500, 'mutation_probability': 0.1, 'elit_ratio': 0.01, 'crossover_probability': 0.5, 'parents_portion': 0.3, 'crossover_type': 'uniform', 'max_iteration_without_improv': None}\n",
    "\n",
    "model=ga(function=f,\n",
    "         dimension=dim,\n",
    "         algorithm_parameters={'max_num_iteration': None, 'population_size': 1000, 'mutation_probability': 0.1, 'elit_ratio': 0.01, 'crossover_probability': 0.5, 'parents_portion': 0.3, 'crossover_type': 'uniform', 'max_iteration_without_improv': None},\n",
    "         variable_type='int',\n",
    "         variable_boundaries=varbound)\n",
    "\n",
    "model.run()"
   ]
  },
  {
   "cell_type": "code",
   "execution_count": 721,
   "id": "e5d96369-a909-4ebb-ab55-adfb19b5f034",
   "metadata": {},
   "outputs": [
    {
     "data": {
      "image/png": "[encoded data removed]",
      "text/plain": [
       "<Figure size 432x288 with 1 Axes>"
      ]
     },
     "metadata": {},
     "output_type": "display_data"
    }
   ],
   "source": [
    "X = model.output_dict[\"variable\"]\n",
    "\n",
    "plt.imshow(aptitude.showPositions(X))\n",
    "plt.show()"
   ]
  }
 ],
 "metadata": {
  "kernelspec": {
   "display_name": "Python 3",
   "language": "python",
   "name": "python3"
  },
  "language_info": {
   "codemirror_mode": {
    "name": "ipython",
    "version": 3
   },
   "file_extension": ".py",
   "mimetype": "text/x-python",
   "name": "python",
   "nbconvert_exporter": "python",
   "pygments_lexer": "ipython3",
   "version": "3.7.0"
  }
 },
 "nbformat": 4,
 "nbformat_minor": 5
}
